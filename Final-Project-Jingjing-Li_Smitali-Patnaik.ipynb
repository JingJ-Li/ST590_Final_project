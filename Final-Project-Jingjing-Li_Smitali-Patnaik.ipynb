{
 "cells": [
  {
   "cell_type": "markdown",
   "id": "1b1d0085-baf8-4e20-827a-e6e84a3fdfe2",
   "metadata": {},
   "source": [
    "# Final-Project-Jingjing-Li_Smitali-Patnaik"
   ]
  },
  {
   "cell_type": "markdown",
   "id": "ee5c24fa-24b5-4e0a-a93c-5a8328d92bd0",
   "metadata": {
    "tags": [],
    "toc-hr-collapsed": true
   },
   "source": [
    "## Introdcution"
   ]
  },
  {
   "cell_type": "markdown",
   "id": "beeec65a-5501-4a4a-b526-4aab6c322b74",
   "metadata": {},
   "source": [
    "## Supervised Learning Idea and Data Split"
   ]
  },
  {
   "cell_type": "code",
   "execution_count": 47,
   "id": "392f88c5-1895-4fe9-b9a8-2809cae40d9b",
   "metadata": {},
   "outputs": [],
   "source": [
    "# Prepare the environment for Windows operation systems\n",
    "import os\n",
    "import sys\n",
    "os.environ['PYSPARK_PYTHON'] = sys.executable\n",
    "os.environ['PYSPARK_DRIVER_PYTHON'] = sys.executable\n",
    "\n",
    "# Import the modules\n",
    "import pandas as pd\n",
    "import matplotlib.pyplot as plt\n",
    "import pyspark.pandas as ps\n",
    "from pyspark.sql import SparkSession\n",
    "from pyspark import SparkFiles\n",
    "from sklearn.model_selection import train_test_split, GridSearchCV,cross_validate\n",
    "from math import *\n",
    "# Create a new Spark session\n",
    "spark = SparkSession.builder.getOrCreate()\n",
    "\n",
    "# Configurate the Spark session\n",
    "ps.set_option(\"compute.default_index_type\", \"distributed\")\n",
    "spark.conf.set(\"spark.sql.execution.arrow.pyspark.enabled\", True)"
   ]
  },
  {
   "cell_type": "code",
   "execution_count": 41,
   "id": "ae689390-ec52-4857-b49e-8c3cd280ab9c",
   "metadata": {},
   "outputs": [
    {
     "name": "stdout",
     "output_type": "stream",
     "text": [
      "+------------+-------------+-------+-------+------+--------+-------------+-------------+----+----------+-----------------+--------+-----+------+--------------+------------+---------+\n",
      "|squareMeters|numberOfRooms|hasYard|hasPool|floors|cityCode|cityPartRange|numPrevOwners|made|isNewBuilt|hasStormProtector|basement|attic|garage|hasStorageRoom|hasGuestRoom|    price|\n",
      "+------------+-------------+-------+-------+------+--------+-------------+-------------+----+----------+-----------------+--------+-----+------+--------------+------------+---------+\n",
      "|       75523|            3|      0|      1|    63|    9373|            3|            8|2005|         0|                1|    4313| 9005|   956|             0|           7|7559081.5|\n",
      "|       80771|           39|      1|      1|    98|   39381|            8|            6|2015|         1|                0|    3653| 2436|   128|             1|           2|8085989.5|\n",
      "|       55712|           58|      0|      1|    19|   34457|            6|            8|2021|         0|                0|    2937| 8852|   135|             1|           9|5574642.1|\n",
      "|       32316|           47|      0|      0|     6|   27939|           10|            4|2012|         0|                1|     659| 7141|   359|             0|           3|3232561.2|\n",
      "|       70429|           19|      1|      1|    90|   38045|            3|            7|1990|         1|                0|    8435| 2429|   292|             1|           4|7055052.0|\n",
      "+------------+-------------+-------+-------+------+--------+-------------+-------------+----+----------+-----------------+--------+-----+------+--------------+------------+---------+\n",
      "only showing top 5 rows\n",
      "\n"
     ]
    }
   ],
   "source": [
    "# Read in data \n",
    "spdf=spark.read.load(\"ParisHousing.csv\",\n",
    "                     format=\"csv\",sep=\",\", inferSchema=\"true\", header=\"true\")\n",
    "spdf.show(5)"
   ]
  },
  {
   "cell_type": "markdown",
   "id": "22fe4d1f-7ac2-4e5c-a187-3dda06077ff9",
   "metadata": {},
   "source": [
    "Then, we split data into two parts for train and test respectively."
   ]
  },
  {
   "cell_type": "code",
   "execution_count": 42,
   "id": "7a9dd013-19d1-4623-9a78-1e42398ed632",
   "metadata": {},
   "outputs": [],
   "source": [
    "# Split data\n",
    "train, test = spdf.randomSplit(weights=[0.8,0.2], seed=200)"
   ]
  },
  {
   "cell_type": "code",
   "execution_count": 44,
   "id": "6c75993c-0a0c-4d22-9dce-4f00ff7b145e",
   "metadata": {},
   "outputs": [
    {
     "name": "stdout",
     "output_type": "stream",
     "text": [
      "+------------+-------------+-------+-------+------+--------+-------------+-------------+----+----------+-----------------+--------+-----+------+--------------+------------+-------+\n",
      "|squareMeters|numberOfRooms|hasYard|hasPool|floors|cityCode|cityPartRange|numPrevOwners|made|isNewBuilt|hasStormProtector|basement|attic|garage|hasStorageRoom|hasGuestRoom|  price|\n",
      "+------------+-------------+-------+-------+------+--------+-------------+-------------+----+----------+-----------------+--------+-----+------+--------------+------------+-------+\n",
      "|          89|           33|      0|      0|    72|   61648|            3|            4|1995|         0|                1|    3114| 1258|   264|             1|           9|10313.5|\n",
      "|         111|           32|      0|      1|    34|   80623|            1|            4|2003|         1|                0|    2239| 2795|   951|             1|           7|14431.3|\n",
      "|         123|           61|      0|      0|     1|   33633|            9|            1|2011|         0|                1|    9390| 6219|   922|             0|           9|13229.1|\n",
      "|         128|           38|      0|      1|     6|    8862|            6|            2|1990|         0|                0|    6861| 5769|   442|             0|           5|15488.0|\n",
      "|         141|           16|      0|      1|    58|   42248|            5|            4|1997|         1|                0|    3411| 8985|   213|             0|           4|22670.7|\n",
      "+------------+-------------+-------+-------+------+--------+-------------+-------------+----+----------+-----------------+--------+-----+------+--------------+------------+-------+\n",
      "only showing top 5 rows\n",
      "\n"
     ]
    }
   ],
   "source": [
    "train.show(5)"
   ]
  },
  {
   "cell_type": "code",
   "execution_count": 62,
   "id": "64ac8c3a-0664-41bf-9329-0932f792e096",
   "metadata": {},
   "outputs": [
    {
     "ename": "TypeError",
     "evalue": "loop of ufunc does not support argument 0 of type Column which has no callable log method",
     "output_type": "error",
     "traceback": [
      "\u001b[1;31m---------------------------------------------------------------------------\u001b[0m",
      "\u001b[1;31mTypeError\u001b[0m                                 Traceback (most recent call last)",
      "Input \u001b[1;32mIn [62]\u001b[0m, in \u001b[0;36m<cell line: 4>\u001b[1;34m()\u001b[0m\n\u001b[0;32m      2\u001b[0m \u001b[38;5;28;01mimport\u001b[39;00m \u001b[38;5;21;01mnumpy\u001b[39;00m \u001b[38;5;28;01mas\u001b[39;00m \u001b[38;5;21;01mnp\u001b[39;00m\n\u001b[0;32m      3\u001b[0m \u001b[38;5;28;01mfrom\u001b[39;00m \u001b[38;5;21;01mpyspark\u001b[39;00m\u001b[38;5;21;01m.\u001b[39;00m\u001b[38;5;21;01msql\u001b[39;00m\u001b[38;5;21;01m.\u001b[39;00m\u001b[38;5;21;01mfunctions\u001b[39;00m \u001b[38;5;28;01mimport\u001b[39;00m col\n\u001b[1;32m----> 4\u001b[0m train\u001b[38;5;241m.\u001b[39mwithColumn(\u001b[38;5;124m\"\u001b[39m\u001b[38;5;124mlog_price\u001b[39m\u001b[38;5;124m\"\u001b[39m,  \u001b[43mnp\u001b[49m\u001b[38;5;241;43m.\u001b[39;49m\u001b[43mlog\u001b[49m\u001b[43m(\u001b[49m\u001b[43mcol\u001b[49m\u001b[43m(\u001b[49m\u001b[38;5;124;43m'\u001b[39;49m\u001b[38;5;124;43mprice\u001b[39;49m\u001b[38;5;124;43m'\u001b[39;49m\u001b[43m)\u001b[49m\u001b[43m)\u001b[49m)\n",
      "\u001b[1;31mTypeError\u001b[0m: loop of ufunc does not support argument 0 of type Column which has no callable log method"
     ]
    }
   ],
   "source": [
    "import math\n",
    "import numpy as np\n",
    "from pyspark.sql.functions import col\n",
    "train.withColumn(\"log_price\",  np.log(col('price')))"
   ]
  },
  {
   "cell_type": "code",
   "execution_count": 5,
   "id": "cce869ad-5565-4842-86f0-c92f897e7aa2",
   "metadata": {},
   "outputs": [
    {
     "name": "stdout",
     "output_type": "stream",
     "text": [
      "+------------+-------------+-------+-------+------+--------+-------------+-------------+----+----------+-----------------+--------+-----+------+--------------+------------+-------+\n",
      "|squareMeters|numberOfRooms|hasYard|hasPool|floors|cityCode|cityPartRange|numPrevOwners|made|isNewBuilt|hasStormProtector|basement|attic|garage|hasStorageRoom|hasGuestRoom|  price|\n",
      "+------------+-------------+-------+-------+------+--------+-------------+-------------+----+----------+-----------------+--------+-----+------+--------------+------------+-------+\n",
      "|          89|           33|      0|      0|    72|   61648|            3|            4|1995|         0|                1|    3114| 1258|   264|             1|           9|10313.5|\n",
      "|         111|           32|      0|      1|    34|   80623|            1|            4|2003|         1|                0|    2239| 2795|   951|             1|           7|14431.3|\n",
      "|         123|           61|      0|      0|     1|   33633|            9|            1|2011|         0|                1|    9390| 6219|   922|             0|           9|13229.1|\n",
      "|         128|           38|      0|      1|     6|    8862|            6|            2|1990|         0|                0|    6861| 5769|   442|             0|           5|15488.0|\n",
      "|         141|           16|      0|      1|    58|   42248|            5|            4|1997|         1|                0|    3411| 8985|   213|             0|           4|22670.7|\n",
      "+------------+-------------+-------+-------+------+--------+-------------+-------------+----+----------+-----------------+--------+-----+------+--------------+------------+-------+\n",
      "only showing top 5 rows\n",
      "\n"
     ]
    }
   ],
   "source": [
    "# Display initial 5 records\n",
    "train.show(5)"
   ]
  },
  {
   "cell_type": "markdown",
   "id": "7da6c6cb-61d7-4068-85ac-59be92ee916e",
   "metadata": {},
   "source": [
    "For modeling purpose, we need to remove supervising variable to get predictors. "
   ]
  },
  {
   "cell_type": "code",
   "execution_count": 6,
   "id": "74edc9d3-7579-46a8-b637-c557d08d7465",
   "metadata": {},
   "outputs": [
    {
     "name": "stdout",
     "output_type": "stream",
     "text": [
      "+------------+-------------+-------+-------+------+--------+-------------+-------------+----+----------+-----------------+--------+-----+------+--------------+------------+\n",
      "|squareMeters|numberOfRooms|hasYard|hasPool|floors|cityCode|cityPartRange|numPrevOwners|made|isNewBuilt|hasStormProtector|basement|attic|garage|hasStorageRoom|hasGuestRoom|\n",
      "+------------+-------------+-------+-------+------+--------+-------------+-------------+----+----------+-----------------+--------+-----+------+--------------+------------+\n",
      "|          89|           33|      0|      0|    72|   61648|            3|            4|1995|         0|                1|    3114| 1258|   264|             1|           9|\n",
      "|         111|           32|      0|      1|    34|   80623|            1|            4|2003|         1|                0|    2239| 2795|   951|             1|           7|\n",
      "|         123|           61|      0|      0|     1|   33633|            9|            1|2011|         0|                1|    9390| 6219|   922|             0|           9|\n",
      "|         128|           38|      0|      1|     6|    8862|            6|            2|1990|         0|                0|    6861| 5769|   442|             0|           5|\n",
      "|         141|           16|      0|      1|    58|   42248|            5|            4|1997|         1|                0|    3411| 8985|   213|             0|           4|\n",
      "+------------+-------------+-------+-------+------+--------+-------------+-------------+----+----------+-----------------+--------+-----+------+--------------+------------+\n",
      "only showing top 5 rows\n",
      "\n"
     ]
    }
   ],
   "source": [
    "# Determine predictor for modeling later\n",
    "X_train=train.drop('price')\n",
    "X_train.show(5)"
   ]
  },
  {
   "cell_type": "markdown",
   "id": "8c32769a-f24d-4ee8-9596-9881eeb0e369",
   "metadata": {},
   "source": [
    "We also need define the supervising variable."
   ]
  },
  {
   "cell_type": "code",
   "execution_count": 7,
   "id": "1e182662-4f38-451c-a96d-648eea0e1283",
   "metadata": {},
   "outputs": [
    {
     "name": "stdout",
     "output_type": "stream",
     "text": [
      "+-------+\n",
      "|  price|\n",
      "+-------+\n",
      "|10313.5|\n",
      "|14431.3|\n",
      "|13229.1|\n",
      "|15488.0|\n",
      "|22670.7|\n",
      "+-------+\n",
      "only showing top 5 rows\n",
      "\n"
     ]
    }
   ],
   "source": [
    "# Determine the reponse variable\n",
    "y_train=train.select('price')\n",
    "y_train.show(5)"
   ]
  },
  {
   "cell_type": "markdown",
   "id": "f9f3cf6b-fe7c-4c70-9333-46a9d7fd0961",
   "metadata": {},
   "source": [
    "## EDA"
   ]
  },
  {
   "cell_type": "markdown",
   "id": "73bf9f9a-5b36-4c89-99fd-1034ee35ba28",
   "metadata": {},
   "source": [
    "First, we are interested in seeing if there is relationshipes between sex, ChestPainType, ST_Slope and HeartDisease"
   ]
  },
  {
   "cell_type": "code",
   "execution_count": 8,
   "id": "02ba74d6-b402-4d7f-9434-4e6b281bdca8",
   "metadata": {},
   "outputs": [
    {
     "name": "stderr",
     "output_type": "stream",
     "text": [
      "C:\\Users\\li_ji\\AppData\\Local\\Programs\\Python\\Python310\\lib\\site-packages\\pyspark\\sql\\dataframe.py:3313: FutureWarning: DataFrame.to_pandas_on_spark is deprecated. Use DataFrame.pandas_api instead.\n",
      "  warnings.warn(\n"
     ]
    }
   ],
   "source": [
    "train_ps=train.to_pandas_on_spark()"
   ]
  },
  {
   "cell_type": "code",
   "execution_count": 10,
   "id": "83313cdb-ad78-4d64-8d27-3b6c0f4496a0",
   "metadata": {},
   "outputs": [
    {
     "name": "stderr",
     "output_type": "stream",
     "text": [
      "C:\\Users\\li_ji\\AppData\\Local\\Programs\\Python\\Python310\\lib\\site-packages\\pyspark\\sql\\pandas\\conversion.py:114: UserWarning: toPandas attempted Arrow optimization because 'spark.sql.execution.arrow.pyspark.enabled' is set to true; however, failed by the reason below:\n",
      "  Unsupported type in conversion to Arrow: MatrixUDT()\n",
      "Attempting non-optimization as 'spark.sql.execution.arrow.pyspark.fallback.enabled' is set to true.\n",
      "  warn(msg)\n"
     ]
    },
    {
     "data": {
      "text/html": [
       "<div>\n",
       "<style scoped>\n",
       "    .dataframe tbody tr th:only-of-type {\n",
       "        vertical-align: middle;\n",
       "    }\n",
       "\n",
       "    .dataframe tbody tr th {\n",
       "        vertical-align: top;\n",
       "    }\n",
       "\n",
       "    .dataframe thead th {\n",
       "        text-align: right;\n",
       "    }\n",
       "</style>\n",
       "<table border=\"1\" class=\"dataframe\">\n",
       "  <thead>\n",
       "    <tr style=\"text-align: right;\">\n",
       "      <th></th>\n",
       "      <th>squareMeters</th>\n",
       "      <th>numberOfRooms</th>\n",
       "      <th>hasYard</th>\n",
       "      <th>hasPool</th>\n",
       "      <th>floors</th>\n",
       "      <th>cityCode</th>\n",
       "      <th>cityPartRange</th>\n",
       "      <th>numPrevOwners</th>\n",
       "      <th>made</th>\n",
       "      <th>isNewBuilt</th>\n",
       "      <th>hasStormProtector</th>\n",
       "      <th>basement</th>\n",
       "      <th>attic</th>\n",
       "      <th>garage</th>\n",
       "      <th>hasStorageRoom</th>\n",
       "      <th>hasGuestRoom</th>\n",
       "      <th>price</th>\n",
       "    </tr>\n",
       "  </thead>\n",
       "  <tbody>\n",
       "    <tr>\n",
       "      <th>squareMeters</th>\n",
       "      <td>1.000000</td>\n",
       "      <td>0.018112</td>\n",
       "      <td>-0.006920</td>\n",
       "      <td>-0.007275</td>\n",
       "      <td>0.001266</td>\n",
       "      <td>0.003348</td>\n",
       "      <td>0.009571</td>\n",
       "      <td>0.021107</td>\n",
       "      <td>-0.011790</td>\n",
       "      <td>-0.017515</td>\n",
       "      <td>0.013962</td>\n",
       "      <td>-0.003347</td>\n",
       "      <td>0.000494</td>\n",
       "      <td>-0.021376</td>\n",
       "      <td>0.000758</td>\n",
       "      <td>-0.005259</td>\n",
       "      <td>0.999999</td>\n",
       "    </tr>\n",
       "    <tr>\n",
       "      <th>numberOfRooms</th>\n",
       "      <td>0.018112</td>\n",
       "      <td>1.000000</td>\n",
       "      <td>-0.002026</td>\n",
       "      <td>0.025064</td>\n",
       "      <td>0.025580</td>\n",
       "      <td>0.008786</td>\n",
       "      <td>0.003964</td>\n",
       "      <td>0.022695</td>\n",
       "      <td>0.006171</td>\n",
       "      <td>0.002984</td>\n",
       "      <td>-0.019973</td>\n",
       "      <td>-0.012659</td>\n",
       "      <td>0.017830</td>\n",
       "      <td>0.020140</td>\n",
       "      <td>-0.007714</td>\n",
       "      <td>-0.028996</td>\n",
       "      <td>0.018139</td>\n",
       "    </tr>\n",
       "    <tr>\n",
       "      <th>hasYard</th>\n",
       "      <td>-0.006920</td>\n",
       "      <td>-0.002026</td>\n",
       "      <td>1.000000</td>\n",
       "      <td>0.022319</td>\n",
       "      <td>0.007221</td>\n",
       "      <td>0.011608</td>\n",
       "      <td>0.000510</td>\n",
       "      <td>0.013940</td>\n",
       "      <td>-0.001031</td>\n",
       "      <td>-0.019186</td>\n",
       "      <td>-0.014477</td>\n",
       "      <td>-0.012269</td>\n",
       "      <td>-0.008550</td>\n",
       "      <td>-0.009474</td>\n",
       "      <td>-0.016018</td>\n",
       "      <td>-0.009306</td>\n",
       "      <td>-0.006379</td>\n",
       "    </tr>\n",
       "    <tr>\n",
       "      <th>hasPool</th>\n",
       "      <td>-0.007275</td>\n",
       "      <td>0.025064</td>\n",
       "      <td>0.022319</td>\n",
       "      <td>1.000000</td>\n",
       "      <td>-0.004498</td>\n",
       "      <td>0.002839</td>\n",
       "      <td>0.010935</td>\n",
       "      <td>-0.011100</td>\n",
       "      <td>0.004553</td>\n",
       "      <td>-0.000551</td>\n",
       "      <td>0.008231</td>\n",
       "      <td>-0.004457</td>\n",
       "      <td>-0.010662</td>\n",
       "      <td>0.003959</td>\n",
       "      <td>0.002272</td>\n",
       "      <td>0.010486</td>\n",
       "      <td>-0.006744</td>\n",
       "    </tr>\n",
       "    <tr>\n",
       "      <th>floors</th>\n",
       "      <td>0.001266</td>\n",
       "      <td>0.025580</td>\n",
       "      <td>0.007221</td>\n",
       "      <td>-0.004498</td>\n",
       "      <td>1.000000</td>\n",
       "      <td>0.003560</td>\n",
       "      <td>0.003539</td>\n",
       "      <td>0.002120</td>\n",
       "      <td>0.008657</td>\n",
       "      <td>0.011376</td>\n",
       "      <td>-0.009689</td>\n",
       "      <td>0.013451</td>\n",
       "      <td>0.007498</td>\n",
       "      <td>0.013224</td>\n",
       "      <td>0.004201</td>\n",
       "      <td>-0.015645</td>\n",
       "      <td>0.001813</td>\n",
       "    </tr>\n",
       "    <tr>\n",
       "      <th>cityCode</th>\n",
       "      <td>0.003348</td>\n",
       "      <td>0.008786</td>\n",
       "      <td>0.011608</td>\n",
       "      <td>0.002839</td>\n",
       "      <td>0.003560</td>\n",
       "      <td>1.000000</td>\n",
       "      <td>0.006340</td>\n",
       "      <td>-0.010801</td>\n",
       "      <td>0.022962</td>\n",
       "      <td>0.002324</td>\n",
       "      <td>0.002648</td>\n",
       "      <td>0.000262</td>\n",
       "      <td>-0.001843</td>\n",
       "      <td>-0.000273</td>\n",
       "      <td>0.002974</td>\n",
       "      <td>-0.000929</td>\n",
       "      <td>0.003354</td>\n",
       "    </tr>\n",
       "    <tr>\n",
       "      <th>cityPartRange</th>\n",
       "      <td>0.009571</td>\n",
       "      <td>0.003964</td>\n",
       "      <td>0.000510</td>\n",
       "      <td>0.010935</td>\n",
       "      <td>0.003539</td>\n",
       "      <td>0.006340</td>\n",
       "      <td>1.000000</td>\n",
       "      <td>0.007545</td>\n",
       "      <td>0.001559</td>\n",
       "      <td>-0.000573</td>\n",
       "      <td>0.011112</td>\n",
       "      <td>0.005079</td>\n",
       "      <td>0.010184</td>\n",
       "      <td>0.006154</td>\n",
       "      <td>-0.011989</td>\n",
       "      <td>-0.007684</td>\n",
       "      <td>0.009624</td>\n",
       "    </tr>\n",
       "    <tr>\n",
       "      <th>numPrevOwners</th>\n",
       "      <td>0.021107</td>\n",
       "      <td>0.022695</td>\n",
       "      <td>0.013940</td>\n",
       "      <td>-0.011100</td>\n",
       "      <td>0.002120</td>\n",
       "      <td>-0.010801</td>\n",
       "      <td>0.007545</td>\n",
       "      <td>1.000000</td>\n",
       "      <td>0.002941</td>\n",
       "      <td>-0.019256</td>\n",
       "      <td>0.003950</td>\n",
       "      <td>0.006442</td>\n",
       "      <td>0.002745</td>\n",
       "      <td>0.023401</td>\n",
       "      <td>0.031660</td>\n",
       "      <td>-0.004088</td>\n",
       "      <td>0.021112</td>\n",
       "    </tr>\n",
       "    <tr>\n",
       "      <th>made</th>\n",
       "      <td>-0.011790</td>\n",
       "      <td>0.006171</td>\n",
       "      <td>-0.001031</td>\n",
       "      <td>0.004553</td>\n",
       "      <td>0.008657</td>\n",
       "      <td>0.022962</td>\n",
       "      <td>0.001559</td>\n",
       "      <td>0.002941</td>\n",
       "      <td>1.000000</td>\n",
       "      <td>-0.005893</td>\n",
       "      <td>-0.005240</td>\n",
       "      <td>-0.008512</td>\n",
       "      <td>0.007095</td>\n",
       "      <td>0.014569</td>\n",
       "      <td>-0.008558</td>\n",
       "      <td>-0.010441</td>\n",
       "      <td>-0.011787</td>\n",
       "    </tr>\n",
       "    <tr>\n",
       "      <th>isNewBuilt</th>\n",
       "      <td>-0.017515</td>\n",
       "      <td>0.002984</td>\n",
       "      <td>-0.019186</td>\n",
       "      <td>-0.000551</td>\n",
       "      <td>0.011376</td>\n",
       "      <td>0.002324</td>\n",
       "      <td>-0.000573</td>\n",
       "      <td>-0.019256</td>\n",
       "      <td>-0.005893</td>\n",
       "      <td>1.000000</td>\n",
       "      <td>-0.000760</td>\n",
       "      <td>-0.012884</td>\n",
       "      <td>0.023872</td>\n",
       "      <td>-0.001470</td>\n",
       "      <td>0.002765</td>\n",
       "      <td>0.026291</td>\n",
       "      <td>-0.017491</td>\n",
       "    </tr>\n",
       "    <tr>\n",
       "      <th>hasStormProtector</th>\n",
       "      <td>0.013962</td>\n",
       "      <td>-0.019973</td>\n",
       "      <td>-0.014477</td>\n",
       "      <td>0.008231</td>\n",
       "      <td>-0.009689</td>\n",
       "      <td>0.002648</td>\n",
       "      <td>0.011112</td>\n",
       "      <td>0.003950</td>\n",
       "      <td>-0.005240</td>\n",
       "      <td>-0.000760</td>\n",
       "      <td>1.000000</td>\n",
       "      <td>-0.004230</td>\n",
       "      <td>-0.005765</td>\n",
       "      <td>0.004419</td>\n",
       "      <td>-0.007491</td>\n",
       "      <td>-0.007824</td>\n",
       "      <td>0.013979</td>\n",
       "    </tr>\n",
       "    <tr>\n",
       "      <th>basement</th>\n",
       "      <td>-0.003347</td>\n",
       "      <td>-0.012659</td>\n",
       "      <td>-0.012269</td>\n",
       "      <td>-0.004457</td>\n",
       "      <td>0.013451</td>\n",
       "      <td>0.000262</td>\n",
       "      <td>0.005079</td>\n",
       "      <td>0.006442</td>\n",
       "      <td>-0.008512</td>\n",
       "      <td>-0.012884</td>\n",
       "      <td>-0.004230</td>\n",
       "      <td>1.000000</td>\n",
       "      <td>-0.000446</td>\n",
       "      <td>-0.002108</td>\n",
       "      <td>-0.007846</td>\n",
       "      <td>-0.018859</td>\n",
       "      <td>-0.003346</td>\n",
       "    </tr>\n",
       "    <tr>\n",
       "      <th>attic</th>\n",
       "      <td>0.000494</td>\n",
       "      <td>0.017830</td>\n",
       "      <td>-0.008550</td>\n",
       "      <td>-0.010662</td>\n",
       "      <td>0.007498</td>\n",
       "      <td>-0.001843</td>\n",
       "      <td>0.010184</td>\n",
       "      <td>0.002745</td>\n",
       "      <td>0.007095</td>\n",
       "      <td>0.023872</td>\n",
       "      <td>-0.005765</td>\n",
       "      <td>-0.000446</td>\n",
       "      <td>1.000000</td>\n",
       "      <td>-0.003615</td>\n",
       "      <td>0.001158</td>\n",
       "      <td>-0.011133</td>\n",
       "      <td>0.000485</td>\n",
       "    </tr>\n",
       "    <tr>\n",
       "      <th>garage</th>\n",
       "      <td>-0.021376</td>\n",
       "      <td>0.020140</td>\n",
       "      <td>-0.009474</td>\n",
       "      <td>0.003959</td>\n",
       "      <td>0.013224</td>\n",
       "      <td>-0.000273</td>\n",
       "      <td>0.006154</td>\n",
       "      <td>0.023401</td>\n",
       "      <td>0.014569</td>\n",
       "      <td>-0.001470</td>\n",
       "      <td>0.004419</td>\n",
       "      <td>-0.002108</td>\n",
       "      <td>-0.003615</td>\n",
       "      <td>1.000000</td>\n",
       "      <td>0.033620</td>\n",
       "      <td>-0.021503</td>\n",
       "      <td>-0.021359</td>\n",
       "    </tr>\n",
       "    <tr>\n",
       "      <th>hasStorageRoom</th>\n",
       "      <td>0.000758</td>\n",
       "      <td>-0.007714</td>\n",
       "      <td>-0.016018</td>\n",
       "      <td>0.002272</td>\n",
       "      <td>0.004201</td>\n",
       "      <td>0.002974</td>\n",
       "      <td>-0.011989</td>\n",
       "      <td>0.031660</td>\n",
       "      <td>-0.008558</td>\n",
       "      <td>0.002765</td>\n",
       "      <td>-0.007491</td>\n",
       "      <td>-0.007846</td>\n",
       "      <td>0.001158</td>\n",
       "      <td>0.033620</td>\n",
       "      <td>1.000000</td>\n",
       "      <td>0.016080</td>\n",
       "      <td>0.000764</td>\n",
       "    </tr>\n",
       "    <tr>\n",
       "      <th>hasGuestRoom</th>\n",
       "      <td>-0.005259</td>\n",
       "      <td>-0.028996</td>\n",
       "      <td>-0.009306</td>\n",
       "      <td>0.010486</td>\n",
       "      <td>-0.015645</td>\n",
       "      <td>-0.000929</td>\n",
       "      <td>-0.007684</td>\n",
       "      <td>-0.004088</td>\n",
       "      <td>-0.010441</td>\n",
       "      <td>0.026291</td>\n",
       "      <td>-0.007824</td>\n",
       "      <td>-0.018859</td>\n",
       "      <td>-0.011133</td>\n",
       "      <td>-0.021503</td>\n",
       "      <td>0.016080</td>\n",
       "      <td>1.000000</td>\n",
       "      <td>-0.005273</td>\n",
       "    </tr>\n",
       "    <tr>\n",
       "      <th>price</th>\n",
       "      <td>0.999999</td>\n",
       "      <td>0.018139</td>\n",
       "      <td>-0.006379</td>\n",
       "      <td>-0.006744</td>\n",
       "      <td>0.001813</td>\n",
       "      <td>0.003354</td>\n",
       "      <td>0.009624</td>\n",
       "      <td>0.021112</td>\n",
       "      <td>-0.011787</td>\n",
       "      <td>-0.017491</td>\n",
       "      <td>0.013979</td>\n",
       "      <td>-0.003346</td>\n",
       "      <td>0.000485</td>\n",
       "      <td>-0.021359</td>\n",
       "      <td>0.000764</td>\n",
       "      <td>-0.005273</td>\n",
       "      <td>1.000000</td>\n",
       "    </tr>\n",
       "  </tbody>\n",
       "</table>\n",
       "</div>"
      ],
      "text/plain": [
       "                   squareMeters  numberOfRooms   hasYard   hasPool    floors  cityCode  cityPartRange  numPrevOwners      made  isNewBuilt  hasStormProtector  basement     attic    garage  hasStorageRoom  hasGuestRoom     price\n",
       "squareMeters           1.000000       0.018112 -0.006920 -0.007275  0.001266  0.003348       0.009571       0.021107 -0.011790   -0.017515           0.013962 -0.003347  0.000494 -0.021376        0.000758     -0.005259  0.999999\n",
       "numberOfRooms          0.018112       1.000000 -0.002026  0.025064  0.025580  0.008786       0.003964       0.022695  0.006171    0.002984          -0.019973 -0.012659  0.017830  0.020140       -0.007714     -0.028996  0.018139\n",
       "hasYard               -0.006920      -0.002026  1.000000  0.022319  0.007221  0.011608       0.000510       0.013940 -0.001031   -0.019186          -0.014477 -0.012269 -0.008550 -0.009474       -0.016018     -0.009306 -0.006379\n",
       "hasPool               -0.007275       0.025064  0.022319  1.000000 -0.004498  0.002839       0.010935      -0.011100  0.004553   -0.000551           0.008231 -0.004457 -0.010662  0.003959        0.002272      0.010486 -0.006744\n",
       "floors                 0.001266       0.025580  0.007221 -0.004498  1.000000  0.003560       0.003539       0.002120  0.008657    0.011376          -0.009689  0.013451  0.007498  0.013224        0.004201     -0.015645  0.001813\n",
       "cityCode               0.003348       0.008786  0.011608  0.002839  0.003560  1.000000       0.006340      -0.010801  0.022962    0.002324           0.002648  0.000262 -0.001843 -0.000273        0.002974     -0.000929  0.003354\n",
       "cityPartRange          0.009571       0.003964  0.000510  0.010935  0.003539  0.006340       1.000000       0.007545  0.001559   -0.000573           0.011112  0.005079  0.010184  0.006154       -0.011989     -0.007684  0.009624\n",
       "numPrevOwners          0.021107       0.022695  0.013940 -0.011100  0.002120 -0.010801       0.007545       1.000000  0.002941   -0.019256           0.003950  0.006442  0.002745  0.023401        0.031660     -0.004088  0.021112\n",
       "made                  -0.011790       0.006171 -0.001031  0.004553  0.008657  0.022962       0.001559       0.002941  1.000000   -0.005893          -0.005240 -0.008512  0.007095  0.014569       -0.008558     -0.010441 -0.011787\n",
       "isNewBuilt            -0.017515       0.002984 -0.019186 -0.000551  0.011376  0.002324      -0.000573      -0.019256 -0.005893    1.000000          -0.000760 -0.012884  0.023872 -0.001470        0.002765      0.026291 -0.017491\n",
       "hasStormProtector      0.013962      -0.019973 -0.014477  0.008231 -0.009689  0.002648       0.011112       0.003950 -0.005240   -0.000760           1.000000 -0.004230 -0.005765  0.004419       -0.007491     -0.007824  0.013979\n",
       "basement              -0.003347      -0.012659 -0.012269 -0.004457  0.013451  0.000262       0.005079       0.006442 -0.008512   -0.012884          -0.004230  1.000000 -0.000446 -0.002108       -0.007846     -0.018859 -0.003346\n",
       "attic                  0.000494       0.017830 -0.008550 -0.010662  0.007498 -0.001843       0.010184       0.002745  0.007095    0.023872          -0.005765 -0.000446  1.000000 -0.003615        0.001158     -0.011133  0.000485\n",
       "garage                -0.021376       0.020140 -0.009474  0.003959  0.013224 -0.000273       0.006154       0.023401  0.014569   -0.001470           0.004419 -0.002108 -0.003615  1.000000        0.033620     -0.021503 -0.021359\n",
       "hasStorageRoom         0.000758      -0.007714 -0.016018  0.002272  0.004201  0.002974      -0.011989       0.031660 -0.008558    0.002765          -0.007491 -0.007846  0.001158  0.033620        1.000000      0.016080  0.000764\n",
       "hasGuestRoom          -0.005259      -0.028996 -0.009306  0.010486 -0.015645 -0.000929      -0.007684      -0.004088 -0.010441    0.026291          -0.007824 -0.018859 -0.011133 -0.021503        0.016080      1.000000 -0.005273\n",
       "price                  0.999999       0.018139 -0.006379 -0.006744  0.001813  0.003354       0.009624       0.021112 -0.011787   -0.017491           0.013979 -0.003346  0.000485 -0.021359        0.000764     -0.005273  1.000000"
      ]
     },
     "execution_count": 10,
     "metadata": {},
     "output_type": "execute_result"
    }
   ],
   "source": [
    "train_ps.corr()"
   ]
  },
  {
   "cell_type": "code",
   "execution_count": 9,
   "id": "4635150c-a6ca-4614-aeab-5a5b25d08472",
   "metadata": {},
   "outputs": [
    {
     "data": {
      "text/html": [
       "<div>\n",
       "<style scoped>\n",
       "    .dataframe tbody tr th:only-of-type {\n",
       "        vertical-align: middle;\n",
       "    }\n",
       "\n",
       "    .dataframe tbody tr th {\n",
       "        vertical-align: top;\n",
       "    }\n",
       "\n",
       "    .dataframe thead th {\n",
       "        text-align: right;\n",
       "    }\n",
       "</style>\n",
       "<table border=\"1\" class=\"dataframe\">\n",
       "  <thead>\n",
       "    <tr style=\"text-align: right;\">\n",
       "      <th></th>\n",
       "      <th>squareMeters</th>\n",
       "      <th>numberOfRooms</th>\n",
       "      <th>hasPool</th>\n",
       "      <th>floors</th>\n",
       "      <th>cityCode</th>\n",
       "      <th>cityPartRange</th>\n",
       "      <th>numPrevOwners</th>\n",
       "      <th>made</th>\n",
       "      <th>isNewBuilt</th>\n",
       "      <th>hasStormProtector</th>\n",
       "      <th>basement</th>\n",
       "      <th>attic</th>\n",
       "      <th>garage</th>\n",
       "      <th>hasStorageRoom</th>\n",
       "      <th>hasGuestRoom</th>\n",
       "      <th>price</th>\n",
       "    </tr>\n",
       "    <tr>\n",
       "      <th>hasYard</th>\n",
       "      <th></th>\n",
       "      <th></th>\n",
       "      <th></th>\n",
       "      <th></th>\n",
       "      <th></th>\n",
       "      <th></th>\n",
       "      <th></th>\n",
       "      <th></th>\n",
       "      <th></th>\n",
       "      <th></th>\n",
       "      <th></th>\n",
       "      <th></th>\n",
       "      <th></th>\n",
       "      <th></th>\n",
       "      <th></th>\n",
       "      <th></th>\n",
       "    </tr>\n",
       "  </thead>\n",
       "  <tbody>\n",
       "    <tr>\n",
       "      <th>1</th>\n",
       "      <td>50015</td>\n",
       "      <td>51</td>\n",
       "      <td>1</td>\n",
       "      <td>50</td>\n",
       "      <td>51582</td>\n",
       "      <td>5</td>\n",
       "      <td>5</td>\n",
       "      <td>2005</td>\n",
       "      <td>0</td>\n",
       "      <td>0</td>\n",
       "      <td>4992</td>\n",
       "      <td>5026</td>\n",
       "      <td>550</td>\n",
       "      <td>0</td>\n",
       "      <td>5</td>\n",
       "      <td>5010457.9</td>\n",
       "    </tr>\n",
       "    <tr>\n",
       "      <th>0</th>\n",
       "      <td>50223</td>\n",
       "      <td>51</td>\n",
       "      <td>0</td>\n",
       "      <td>50</td>\n",
       "      <td>49748</td>\n",
       "      <td>5</td>\n",
       "      <td>5</td>\n",
       "      <td>2005</td>\n",
       "      <td>1</td>\n",
       "      <td>1</td>\n",
       "      <td>5120</td>\n",
       "      <td>5032</td>\n",
       "      <td>560</td>\n",
       "      <td>1</td>\n",
       "      <td>5</td>\n",
       "      <td>5028282.1</td>\n",
       "    </tr>\n",
       "  </tbody>\n",
       "</table>\n",
       "</div>"
      ],
      "text/plain": [
       "         squareMeters  numberOfRooms  hasPool  floors  cityCode  cityPartRange  numPrevOwners  made  isNewBuilt  hasStormProtector  basement  attic  garage  hasStorageRoom  hasGuestRoom      price\n",
       "hasYard                                                                                                                                                                                             \n",
       "1               50015             51        1      50     51582              5              5  2005           0                  0      4992   5026     550               0             5  5010457.9\n",
       "0               50223             51        0      50     49748              5              5  2005           1                  1      5120   5032     560               1             5  5028282.1"
      ]
     },
     "execution_count": 9,
     "metadata": {},
     "output_type": "execute_result"
    }
   ],
   "source": [
    "train_ps.groupby([\"hasYard\"]).median() "
   ]
  },
  {
   "cell_type": "code",
   "execution_count": 68,
   "id": "c39adf90-c3ea-47cf-a847-185df60d4872",
   "metadata": {},
   "outputs": [
    {
     "data": {
      "text/html": [
       "<div>\n",
       "<style scoped>\n",
       "    .dataframe tbody tr th:only-of-type {\n",
       "        vertical-align: middle;\n",
       "    }\n",
       "\n",
       "    .dataframe tbody tr th {\n",
       "        vertical-align: top;\n",
       "    }\n",
       "\n",
       "    .dataframe thead th {\n",
       "        text-align: right;\n",
       "    }\n",
       "</style>\n",
       "<table border=\"1\" class=\"dataframe\">\n",
       "  <thead>\n",
       "    <tr style=\"text-align: right;\">\n",
       "      <th></th>\n",
       "      <th>squareMeters</th>\n",
       "      <th>numberOfRooms</th>\n",
       "    </tr>\n",
       "  </thead>\n",
       "  <tbody>\n",
       "    <tr>\n",
       "      <th>count</th>\n",
       "      <td>8004.000000</td>\n",
       "      <td>8004.000000</td>\n",
       "    </tr>\n",
       "    <tr>\n",
       "      <th>mean</th>\n",
       "      <td>49933.997626</td>\n",
       "      <td>50.583208</td>\n",
       "    </tr>\n",
       "    <tr>\n",
       "      <th>std</th>\n",
       "      <td>28857.052125</td>\n",
       "      <td>28.812682</td>\n",
       "    </tr>\n",
       "    <tr>\n",
       "      <th>min</th>\n",
       "      <td>89.000000</td>\n",
       "      <td>1.000000</td>\n",
       "    </tr>\n",
       "    <tr>\n",
       "      <th>25%</th>\n",
       "      <td>25004.000000</td>\n",
       "      <td>25.000000</td>\n",
       "    </tr>\n",
       "    <tr>\n",
       "      <th>50%</th>\n",
       "      <td>50102.000000</td>\n",
       "      <td>51.000000</td>\n",
       "    </tr>\n",
       "    <tr>\n",
       "      <th>75%</th>\n",
       "      <td>74880.000000</td>\n",
       "      <td>75.000000</td>\n",
       "    </tr>\n",
       "    <tr>\n",
       "      <th>max</th>\n",
       "      <td>99999.000000</td>\n",
       "      <td>100.000000</td>\n",
       "    </tr>\n",
       "  </tbody>\n",
       "</table>\n",
       "</div>"
      ],
      "text/plain": [
       "       squareMeters  numberOfRooms\n",
       "count   8004.000000    8004.000000\n",
       "mean   49933.997626      50.583208\n",
       "std    28857.052125      28.812682\n",
       "min       89.000000       1.000000\n",
       "25%    25004.000000      25.000000\n",
       "50%    50102.000000      51.000000\n",
       "75%    74880.000000      75.000000\n",
       "max    99999.000000     100.000000"
      ]
     },
     "execution_count": 68,
     "metadata": {},
     "output_type": "execute_result"
    }
   ],
   "source": [
    "train_ps[['squareMeters','numberOfRooms','price']].describe() "
   ]
  },
  {
   "cell_type": "code",
   "execution_count": 28,
   "id": "f2b6e675-8542-4e0c-a5b5-97e80549fc23",
   "metadata": {},
   "outputs": [],
   "source": [
    "ps.options.plotting.backend = 'matplotlib'\n",
    "#df.plot.scatter(x='length', y='width')"
   ]
  },
  {
   "cell_type": "code",
   "execution_count": 23,
   "id": "1395f5fb-7b45-4b97-8658-5fd5bf31076c",
   "metadata": {},
   "outputs": [],
   "source": [
    "import matplotlib.pyplot as plt"
   ]
  },
  {
   "cell_type": "code",
   "execution_count": 38,
   "id": "54ba965d-977d-4102-b13a-72b7dc0abca0",
   "metadata": {},
   "outputs": [
    {
     "data": {
      "text/plain": [
       "<AxesSubplot:ylabel='Frequency'>"
      ]
     },
     "execution_count": 38,
     "metadata": {},
     "output_type": "execute_result"
    },
    {
     "data": {
      "image/png": "[encoded data removed]",
      "text/plain": [
       "<Figure size 1080x432 with 3 Axes>"
      ]
     },
     "metadata": {
      "needs_background": "light"
     },
     "output_type": "display_data"
    }
   ],
   "source": [
    "fig, axes = plt.subplots(nrows=1, ncols=3, figsize=(15, 6 ))\n",
    "train_ps['price'].hist(ax=axes[0])\n",
    "train_ps['squareMeters'].hist(ax=axes[1])\n",
    "train_ps['hasYard'].hist(ax=axes[2])"
   ]
  },
  {
   "cell_type": "code",
   "execution_count": 65,
   "id": "2f3d904f-a1e1-43af-9a68-cd5a65739bb9",
   "metadata": {},
   "outputs": [
    {
     "data": {
      "text/plain": [
       "<AxesSubplot:>"
      ]
     },
     "execution_count": 65,
     "metadata": {},
     "output_type": "execute_result"
    },
    {
     "data": {
      "image/png": "[encoded data removed]",
      "text/plain": [
       "<Figure size 1080x432 with 4 Axes>"
      ]
     },
     "metadata": {
      "needs_background": "light"
     },
     "output_type": "display_data"
    }
   ],
   "source": [
    "#train_ps['price'].plot.box(by=train_ps['hasYard'])\n",
    "fig, axes = plt.subplots(nrows=1, ncols=4,figsize=(15, 6 ))\n",
    "train_ps.loc[train_ps['hasYard']==0,'price'].plot.box(ax=axes[0])\n",
    "train_ps.loc[train_ps['hasYard']==1,'price'].plot.box(ax=axes[1])\n",
    "train_ps.loc[train_ps['hasYard']==0,'squareMeters'].plot.box(ax=axes[2])\n",
    "train_ps.loc[train_ps['hasYard']==1,'squareMeters'].plot.box(ax=axes[3])\n"
   ]
  },
  {
   "cell_type": "code",
   "execution_count": 21,
   "id": "e9648925-1296-4595-8093-64b688034629",
   "metadata": {},
   "outputs": [],
   "source": [
    "from chart_studio import plotly\n",
    "from plotly.offline import iplot\n",
    "import  chart_studio.plotly as py\n",
    "import plotly.graph_objs as go\n",
    "import pandas as pd\n",
    "import requests"
   ]
  },
  {
   "cell_type": "markdown",
   "id": "ae0ec75e-8c2c-4f28-a5ab-da7aa7234b6d",
   "metadata": {},
   "source": [
    "## Modeling"
   ]
  },
  {
   "cell_type": "code",
   "execution_count": 45,
   "id": "0d4b3177-605c-430b-87b1-9ac377ccf5e3",
   "metadata": {},
   "outputs": [],
   "source": [
    "from pyspark.ml.feature import SQLTransformer\n",
    "from pyspark.ml.feature import VectorAssembler\n",
    "from pyspark.ml.classification import LogisticRegression\n",
    "from pyspark.ml import Pipeline\n",
    "from pyspark.ml.tuning import CrossValidator, ParamGridBuilder"
   ]
  },
  {
   "cell_type": "code",
   "execution_count": 34,
   "id": "a081a4f5-4e60-4771-9114-482eafc4148f",
   "metadata": {},
   "outputs": [],
   "source": [
    "sqlTrans=SQLTransformer(\n",
    "    statement=\"SELECT  RestingBP, Cholesterol, MaxHR, HeartDisease as label FROM __THIS__\"\n",
    ")"
   ]
  },
  {
   "cell_type": "code",
   "execution_count": 35,
   "id": "b9f31e29-0d38-42df-8e34-2ff2fea3bd47",
   "metadata": {},
   "outputs": [],
   "source": [
    "assembler=VectorAssembler(inputCols=[\"RestingBP\",\"Cholesterol\",\"MaxHR\"],outputCol=\"features\",handleInvalid='keep')"
   ]
  },
  {
   "cell_type": "code",
   "execution_count": 47,
   "id": "f62950e2-8b93-4197-99ad-61f1cbc81967",
   "metadata": {},
   "outputs": [],
   "source": [
    "lr= LogisticRegression()"
   ]
  },
  {
   "cell_type": "code",
   "execution_count": null,
   "id": "43b656e3-04e6-4b10-891a-e70d6a017cdb",
   "metadata": {},
   "outputs": [],
   "source": [
    "pipeline = Pipeline(stages= [sqlTrans, assembler, lr])"
   ]
  },
  {
   "cell_type": "code",
   "execution_count": null,
   "id": "d7696b03-9953-4e88-a281-73623d99d738",
   "metadata": {},
   "outputs": [],
   "source": [
    "paramGrid = ParamGridBuilder()\\\n",
    "    .addGrid(lr.regParam, [0])\\\n",
    "    .addGrid(lr.fitIntercept, [False,True])\\\n",
    "    .addGrid(lr.elasticNetParam, [0])\\\n",
    "    .build()"
   ]
  },
  {
   "cell_type": "code",
   "execution_count": 36,
   "id": "4ed5cbe8-e2c5-40ba-82f6-416b37fc2f4d",
   "metadata": {},
   "outputs": [
    {
     "name": "stdout",
     "output_type": "stream",
     "text": [
      "+-----+-------------------+\n",
      "|label|           features|\n",
      "+-----+-------------------+\n",
      "|    0|[130.0,132.0,185.0]|\n",
      "|    0|[120.0,243.0,160.0]|\n",
      "|    0|[130.0,204.0,202.0]|\n",
      "|    0|[140.0,263.0,170.0]|\n",
      "|    0|[100.0,219.0,150.0]|\n",
      "+-----+-------------------+\n",
      "only showing top 5 rows\n",
      "\n"
     ]
    }
   ],
   "source": [
    "assembler.transform(\n",
    "    sqlTrans.transform(train)\n",
    ").select(\"label\",\"features\").show(5)"
   ]
  },
  {
   "cell_type": "code",
   "execution_count": 48,
   "id": "f628e439-f191-4b4b-82d4-c8e53d64f3ad",
   "metadata": {},
   "outputs": [],
   "source": [
    "lgmodel=lr.fit(\n",
    "    assembler.transform(\n",
    "        sqlTrans.transform(train)\n",
    "    ).select(\"features\", \"label\")\n",
    ")"
   ]
  },
  {
   "cell_type": "code",
   "execution_count": 49,
   "id": "f6494d5c-2649-4477-aaea-7bf7a0d573cb",
   "metadata": {},
   "outputs": [],
   "source": [
    "trainingSummary=lgmodel.summary"
   ]
  },
  {
   "cell_type": "code",
   "execution_count": 55,
   "id": "3bcffd44-8ea1-4744-9d85-3dfec8c49fc7",
   "metadata": {},
   "outputs": [
    {
     "name": "stdout",
     "output_type": "stream",
     "text": [
      "Coefficients: [0.012534579263635796,-0.003783036730197428,-0.03225934839052066]\n"
     ]
    }
   ],
   "source": [
    "print(\"Coefficients: \" + str(lgmodel.coefficients))"
   ]
  },
  {
   "cell_type": "code",
   "execution_count": 57,
   "id": "43a224b5-f929-4fe9-b731-99186e4c5f88",
   "metadata": {},
   "outputs": [
    {
     "name": "stdout",
     "output_type": "stream",
     "text": [
      "Intercept: 3.7920967344342222\n"
     ]
    }
   ],
   "source": [
    "print(\"Intercept: \" + str(lgmodel.intercept))"
   ]
  },
  {
   "cell_type": "code",
   "execution_count": 58,
   "id": "9974b9c1-6902-465c-9fb4-3855bc8fc9b1",
   "metadata": {},
   "outputs": [
    {
     "data": {
      "text/plain": [
       "'C:\\\\Users\\\\li_ji\\\\iCloudDrive\\\\Documents\\\\ST590_python\\\\projects\\\\ST590_Final_project'"
      ]
     },
     "execution_count": 58,
     "metadata": {},
     "output_type": "execute_result"
    }
   ],
   "source": [
    "os.getcwd()"
   ]
  },
  {
   "cell_type": "code",
   "execution_count": null,
   "id": "3e425066-a4a3-429e-9b45-385fb555d00c",
   "metadata": {},
   "outputs": [],
   "source": []
  }
 ],
 "metadata": {
  "kernelspec": {
   "display_name": "Python 3 (ipykernel)",
   "language": "python",
   "name": "python3"
  },
  "language_info": {
   "codemirror_mode": {
    "name": "ipython",
    "version": 3
   },
   "file_extension": ".py",
   "mimetype": "text/x-python",
   "name": "python",
   "nbconvert_exporter": "python",
   "pygments_lexer": "ipython3",
   "version": "3.10.4"
  },
  "toc-autonumbering": false
 },
 "nbformat": 4,
 "nbformat_minor": 5
}
