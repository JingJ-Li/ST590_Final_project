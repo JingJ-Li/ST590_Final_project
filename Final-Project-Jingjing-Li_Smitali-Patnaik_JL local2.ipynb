{
 "cells": [
  {
   "cell_type": "markdown",
   "id": "1b1d0085-baf8-4e20-827a-e6e84a3fdfe2",
   "metadata": {},
   "source": [
    "# ST 590 \n",
    "\n",
    "# Final-Project-Jingjing-Li_Smitali-Patnaik"
   ]
  },
  {
   "cell_type": "markdown",
   "id": "271c8a3e-4a5e-44a6-ae76-557f1a645a8c",
   "metadata": {
    "jp-MarkdownHeadingCollapsed": true,
    "tags": []
   },
   "source": [
    "#### Date of Submission : 08/02/2022"
   ]
  },
  {
   "cell_type": "markdown",
   "id": "ee5c24fa-24b5-4e0a-a93c-5a8328d92bd0",
   "metadata": {
    "tags": [],
    "toc-hr-collapsed": true
   },
   "source": [
    "## Introduction"
   ]
  },
  {
   "cell_type": "markdown",
   "id": "25598913-db54-4236-8e40-ebde17f03478",
   "metadata": {},
   "source": [
    "This project is to use **Paris Housing Dataset** from Kaggle (https://www.kaggle.com/datasets/mssmartypants/paris-housing-price-prediction) to perform  **Exploratory Data Analysis (EDA)** and **Machine Learning (ML)** via through `pandas-on-spark` and/or `spark SQL`. TThe data has following variables: `squareMeters`, `numberOfRooms` `hasYard` `hasPool`, `loors`, `cityCode`, `cityPartRange`, `isnumPrevOwners` , `isNewBuilt`, `hasStormProtector`,`basement`, `attic`, `garage`, `hasStorageRoom`, `hasGuestRoom`, `price`  - used as response variable. All the variables are numeric. Aside from first four,  `isNewBuilt`, `hasStormProtector` and `hasStorageRoom`which are easily understandable, the meanings of others are shown next: `floors` - number of floors; `cityCode` - zip code;`ityPartRange`- the higher the range, the more exclusive the neighbourhood is; `numPrevOwners` - number of prevoious owners; `made` - year; `basement` - basement square meters; `attic` - attic square meteres, `garage` - garage size, `hasGuestRoom` - number of guest rooms, `price `- predicted value. The data is read in in spark form followed by splitting into two sets : `training` and `test` for `modeling` and `prediction`respectively. In **EDA**, spark dataframe is first converted into `pandas-value-spark` dataframe and then subjected to table constructions and graph plotting. In **modeling**, three Machine Learning models,  `Linear regressions`, `Decision Tree  Regression` and `Random Forest Regression`, will be implemented here.  "
   ]
  },
  {
   "cell_type": "markdown",
   "id": "beeec65a-5501-4a4a-b526-4aab6c322b74",
   "metadata": {},
   "source": [
    "## Supervised Learning Idea and Data Split"
   ]
  },
  {
   "cell_type": "markdown",
   "id": "8df84f30-85a2-430f-9471-c43fa782fbf3",
   "metadata": {},
   "source": [
    "Supervised Learning, one of machine learning methods usually involves in prediction or classification of a response variable or output based on paired  predictive variables or inputs. In this project, the price of Paris housing which is our response variable will be predicted from input variables such as `sparemeters` etc using three models mentioned in the introduction. The quality of three models will be assessed using **Root mean squared error (RMSE)** and the **R-squared (R2)** which are smaller and greater in better models. It is reasonable that more variables added to models will increase R2 and decrease RMSE even though those variables have weak relationship with resposne variable. As a result, the model will result in over-fitting, which won't be widely applicable. An efficient strategy to address over-fitting problem is to split data into training and test sets. The test set can be used to check if training model is reliable.   `Pyspark  mlib library` is used to develop pipeline and `cross validation`is adopted to fit on the training data to get optimized parameters. The output from the `cross validation` fit then will be used to predict response variable and compare it with corresponding actual value. `Cross validation` is a analogous method to training/test split data. It usually split data into different training/test sets for several times (called k value, usually 5 or 10) and resulting estimation errors will be averaged. This method can significantly decrease the bias of fitting.   "
   ]
  },
  {
   "cell_type": "markdown",
   "id": "78022d41-72df-40e1-8cc3-3200a2520452",
   "metadata": {},
   "source": [
    "Importing required libraries and packages."
   ]
  },
  {
   "cell_type": "code",
   "execution_count": 1,
   "id": "392f88c5-1895-4fe9-b9a8-2809cae40d9b",
   "metadata": {},
   "outputs": [
    {
     "name": "stderr",
     "output_type": "stream",
     "text": [
      "WARNING:root:'PYARROW_IGNORE_TIMEZONE' environment variable was not set. It is required to set this environment variable to '1' in both driver and executor sides if you use pyarrow>=2.0.0. pandas-on-Spark will set it for you but it does not work if there is a Spark context already launched.\n"
     ]
    }
   ],
   "source": [
    "# Prepare the environment for Windows operation systems\n",
    "import os\n",
    "import sys\n",
    "os.environ['PYSPARK_PYTHON'] = sys.executable\n",
    "os.environ['PYSPARK_DRIVER_PYTHON'] = sys.executable\n",
    "#os.environ[\"PYARROW_IGNORE_TIMEZONE\"] = \"1\"   ##### Some other warnings due to version - Smitali \n",
    "# Import the modules\n",
    "import pandas as pd\n",
    "import matplotlib.pyplot as plt\n",
    "import pyspark.pandas as ps\n",
    "from pyspark.sql import SparkSession\n",
    "from pyspark import SparkFiles\n",
    "from sklearn.model_selection import train_test_split, GridSearchCV,cross_validate\n",
    "from math import *\n",
    "\n",
    "# Create a new Spark session\n",
    "spark = SparkSession.builder.getOrCreate()\n",
    "\n",
    "# Configurate the Spark session\n",
    "ps.set_option(\"compute.default_index_type\", \"distributed\")\n",
    "spark.conf.set(\"spark.sql.execution.arrow.pyspark.enabled\", True)\n",
    "#spark.conf.set(\"spark.sql.execution.arrow.pyspark.enabled\", False) #### Shows as warning in my python version so I am using it as False -Smitali\n"
   ]
  },
  {
   "cell_type": "markdown",
   "id": "d54689ad-f93d-4e43-b06e-19d465c229a3",
   "metadata": {},
   "source": [
    "##### Reading the dataset "
   ]
  },
  {
   "cell_type": "code",
   "execution_count": 95,
   "id": "ae689390-ec52-4857-b49e-8c3cd280ab9c",
   "metadata": {},
   "outputs": [
    {
     "name": "stdout",
     "output_type": "stream",
     "text": [
      "+------------+-------------+-------+-------+------+--------+-------------+-------------+----+----------+-----------------+--------+-----+------+--------------+------------+---------+\n",
      "|squareMeters|numberOfRooms|hasYard|hasPool|floors|cityCode|cityPartRange|numPrevOwners|made|isNewBuilt|hasStormProtector|basement|attic|garage|hasStorageRoom|hasGuestRoom|    price|\n",
      "+------------+-------------+-------+-------+------+--------+-------------+-------------+----+----------+-----------------+--------+-----+------+--------------+------------+---------+\n",
      "|       75523|            3|      0|      1|    63|    9373|            3|            8|2005|         0|                1|    4313| 9005|   956|             0|           7|7559081.5|\n",
      "|       80771|           39|      1|      1|    98|   39381|            8|            6|2015|         1|                0|    3653| 2436|   128|             1|           2|8085989.5|\n",
      "|       55712|           58|      0|      1|    19|   34457|            6|            8|2021|         0|                0|    2937| 8852|   135|             1|           9|5574642.1|\n",
      "|       32316|           47|      0|      0|     6|   27939|           10|            4|2012|         0|                1|     659| 7141|   359|             0|           3|3232561.2|\n",
      "|       70429|           19|      1|      1|    90|   38045|            3|            7|1990|         1|                0|    8435| 2429|   292|             1|           4|7055052.0|\n",
      "+------------+-------------+-------+-------+------+--------+-------------+-------------+----+----------+-----------------+--------+-----+------+--------------+------------+---------+\n",
      "only showing top 5 rows\n",
      "\n"
     ]
    }
   ],
   "source": [
    "# Read in data \n",
    "spdf=spark.read.load(\"ParisHousing.csv\",\n",
    "                     format=\"csv\",sep=\",\", inferSchema=\"true\", header=\"true\")\n",
    "spdf.show(5)"
   ]
  },
  {
   "cell_type": "markdown",
   "id": "3667a997-3101-45f9-b827-287a4d98ee10",
   "metadata": {},
   "source": [
    "##### For the purpose of EDA we have split the price column into categories. We have used 3 categories here for the price. \n",
    "##### '0' represents \"Low Price\"\n",
    "##### '1' represents \"Medium Price\"\n",
    "##### '2' represents \"High Price\""
   ]
  },
  {
   "cell_type": "code",
   "execution_count": 96,
   "id": "292e5728-e0b5-4f58-b3fb-a8920289178e",
   "metadata": {},
   "outputs": [
    {
     "name": "stdout",
     "output_type": "stream",
     "text": [
      "+------------+-------------+-------+-------+------+--------+-------------+-------------+----+----------+-----------------+--------+-----+------+--------------+------------+---------+---------+\n",
      "|squareMeters|numberOfRooms|hasYard|hasPool|floors|cityCode|cityPartRange|numPrevOwners|made|isNewBuilt|hasStormProtector|basement|attic|garage|hasStorageRoom|hasGuestRoom|    price|cat_price|\n",
      "+------------+-------------+-------+-------+------+--------+-------------+-------------+----+----------+-----------------+--------+-----+------+--------------+------------+---------+---------+\n",
      "|       75523|            3|      0|      1|    63|    9373|            3|            8|2005|         0|                1|    4313| 9005|   956|             0|           7|7559081.5|        2|\n",
      "|       80771|           39|      1|      1|    98|   39381|            8|            6|2015|         1|                0|    3653| 2436|   128|             1|           2|8085989.5|        2|\n",
      "|       55712|           58|      0|      1|    19|   34457|            6|            8|2021|         0|                0|    2937| 8852|   135|             1|           9|5574642.1|        2|\n",
      "|       32316|           47|      0|      0|     6|   27939|           10|            4|2012|         0|                1|     659| 7141|   359|             0|           3|3232561.2|        1|\n",
      "|       70429|           19|      1|      1|    90|   38045|            3|            7|1990|         1|                0|    8435| 2429|   292|             1|           4|7055052.0|        2|\n",
      "+------------+-------------+-------+-------+------+--------+-------------+-------------+----+----------+-----------------+--------+-----+------+--------------+------------+---------+---------+\n",
      "only showing top 5 rows\n",
      "\n"
     ]
    }
   ],
   "source": [
    "from pyspark.sql.functions import when\n",
    "quantiles = spdf.approxQuantile(\"price\", [0.25, 0.5, 0.75], 0)\n",
    "spdf = spdf.withColumn(\"cat_price\", when(spdf.price <= quantiles[0] ,0) \\\n",
    "      .when((spdf.price > quantiles[0]) & (spdf.price <= quantiles[1] ),1) \\\n",
    "      .otherwise(2))\n",
    "spdf.show(5)"
   ]
  },
  {
   "cell_type": "markdown",
   "id": "22fe4d1f-7ac2-4e5c-a187-3dda06077ff9",
   "metadata": {},
   "source": [
    "##### Then, we split data into two parts for train and test respectively."
   ]
  },
  {
   "cell_type": "code",
   "execution_count": 130,
   "id": "aa6f3949-b5cf-4a92-9c28-640e55352fad",
   "metadata": {},
   "outputs": [
    {
     "name": "stdout",
     "output_type": "stream",
     "text": [
      "+------------+-------------+-------+-------+------+--------+-------------+-------------+----+----------+-----------------+--------+-----+------+--------------+------------+---------+---------+------------------+\n",
      "|squareMeters|numberOfRooms|hasYard|hasPool|floors|cityCode|cityPartRange|numPrevOwners|made|isNewBuilt|hasStormProtector|basement|attic|garage|hasStorageRoom|hasGuestRoom|    price|cat_price|         rlt_price|\n",
      "+------------+-------------+-------+-------+------+--------+-------------+-------------+----+----------+-----------------+--------+-----+------+--------------+------------+---------+---------+------------------+\n",
      "|       75523|            3|      0|      1|    63|    9373|            3|            8|2005|         0|                1|    4313| 9005|   956|             0|           7|7559081.5|        2|1.0008979383763887|\n",
      "|       80771|           39|      1|      1|    98|   39381|            8|            6|2015|         1|                0|    3653| 2436|   128|             1|           2|8085989.5|        2|1.0011005806539475|\n",
      "|       55712|           58|      0|      1|    19|   34457|            6|            8|2021|         0|                0|    2937| 8852|   135|             1|           9|5574642.1|        2|1.0006178381677195|\n",
      "|       32316|           47|      0|      0|     6|   27939|           10|            4|2012|         0|                1|     659| 7141|   359|             0|           3|3232561.2|        1|1.0002974378017082|\n",
      "|       70429|           19|      1|      1|    90|   38045|            3|            7|1990|         1|                0|    8435| 2429|   292|             1|           4|7055052.0|        2|1.0017254256059294|\n",
      "+------------+-------------+-------+-------+------+--------+-------------+-------------+----+----------+-----------------+--------+-----+------+--------------+------------+---------+---------+------------------+\n",
      "only showing top 5 rows\n",
      "\n"
     ]
    }
   ],
   "source": [
    "spdf=spdf.withColumn(\"rlt_price\", spdf.price/(spdf.squareMeters*100))\n",
    "spdf.show(5)"
   ]
  },
  {
   "cell_type": "code",
   "execution_count": 109,
   "id": "7a9dd013-19d1-4623-9a78-1e42398ed632",
   "metadata": {},
   "outputs": [],
   "source": [
    "# Split data\n",
    "train, test = spdf.randomSplit(weights=[0.8,0.2], seed=200)"
   ]
  },
  {
   "cell_type": "markdown",
   "id": "f9f3cf6b-fe7c-4c70-9333-46a9d7fd0961",
   "metadata": {},
   "source": [
    "## EDA"
   ]
  },
  {
   "cell_type": "markdown",
   "id": "73bf9f9a-5b36-4c89-99fd-1034ee35ba28",
   "metadata": {},
   "source": [
    "##### First, we are interested in seeing if there is relationship between the Predictors and the predicted variable. This starts with quantifying the correlation between the variables.Here the spark dataframe is converted to \"pandas on spark dataframe\" and the data is studied using plots and tables. "
   ]
  },
  {
   "cell_type": "code",
   "execution_count": 110,
   "id": "02ba74d6-b402-4d7f-9434-4e6b281bdca8",
   "metadata": {},
   "outputs": [
    {
     "name": "stderr",
     "output_type": "stream",
     "text": [
      "C:\\Users\\li_ji\\AppData\\Local\\Programs\\Python\\Python310\\lib\\site-packages\\pyspark\\sql\\dataframe.py:3313: FutureWarning: DataFrame.to_pandas_on_spark is deprecated. Use DataFrame.pandas_api instead.\n",
      "  warnings.warn(\n"
     ]
    }
   ],
   "source": [
    "train_ps=train.to_pandas_on_spark()\n",
    "#train_ps=train.pandas_api() #### shows deprecated at my end , so I am using API-Smitali "
   ]
  },
  {
   "cell_type": "markdown",
   "id": "789b4cec-eae0-4ebf-aa19-35655f9da30c",
   "metadata": {
    "tags": []
   },
   "source": [
    "##### Correlation table states that only squareMeters has the strongest linear relationship with price variable. Other variables do not show any significant relationship. As we see there are also many discrete variables in the data. The relationship may not be strong with a simple correlation step."
   ]
  },
  {
   "cell_type": "code",
   "execution_count": 111,
   "id": "83313cdb-ad78-4d64-8d27-3b6c0f4496a0",
   "metadata": {},
   "outputs": [
    {
     "name": "stderr",
     "output_type": "stream",
     "text": [
      "C:\\Users\\li_ji\\AppData\\Local\\Programs\\Python\\Python310\\lib\\site-packages\\pyspark\\sql\\pandas\\conversion.py:114: UserWarning: toPandas attempted Arrow optimization because 'spark.sql.execution.arrow.pyspark.enabled' is set to true; however, failed by the reason below:\n",
      "  Unsupported type in conversion to Arrow: MatrixUDT()\n",
      "Attempting non-optimization as 'spark.sql.execution.arrow.pyspark.fallback.enabled' is set to true.\n",
      "  warn(msg)\n"
     ]
    },
    {
     "data": {
      "text/html": [
       "<div>\n",
       "<style scoped>\n",
       "    .dataframe tbody tr th:only-of-type {\n",
       "        vertical-align: middle;\n",
       "    }\n",
       "\n",
       "    .dataframe tbody tr th {\n",
       "        vertical-align: top;\n",
       "    }\n",
       "\n",
       "    .dataframe thead th {\n",
       "        text-align: right;\n",
       "    }\n",
       "</style>\n",
       "<table border=\"1\" class=\"dataframe\">\n",
       "  <thead>\n",
       "    <tr style=\"text-align: right;\">\n",
       "      <th></th>\n",
       "      <th>squareMeters</th>\n",
       "      <th>numberOfRooms</th>\n",
       "      <th>hasYard</th>\n",
       "      <th>hasPool</th>\n",
       "      <th>floors</th>\n",
       "      <th>cityCode</th>\n",
       "      <th>cityPartRange</th>\n",
       "      <th>numPrevOwners</th>\n",
       "      <th>made</th>\n",
       "      <th>isNewBuilt</th>\n",
       "      <th>hasStormProtector</th>\n",
       "      <th>basement</th>\n",
       "      <th>attic</th>\n",
       "      <th>garage</th>\n",
       "      <th>hasStorageRoom</th>\n",
       "      <th>hasGuestRoom</th>\n",
       "      <th>price</th>\n",
       "      <th>cat_price</th>\n",
       "      <th>rlt_price</th>\n",
       "    </tr>\n",
       "  </thead>\n",
       "  <tbody>\n",
       "    <tr>\n",
       "      <th>squareMeters</th>\n",
       "      <td>1.000000</td>\n",
       "      <td>0.018112</td>\n",
       "      <td>-0.006920</td>\n",
       "      <td>-0.007275</td>\n",
       "      <td>0.001266</td>\n",
       "      <td>0.003348</td>\n",
       "      <td>0.009571</td>\n",
       "      <td>0.021107</td>\n",
       "      <td>-0.011790</td>\n",
       "      <td>-0.017515</td>\n",
       "      <td>0.013962</td>\n",
       "      <td>-0.003347</td>\n",
       "      <td>0.000494</td>\n",
       "      <td>-0.021376</td>\n",
       "      <td>0.000758</td>\n",
       "      <td>-0.005259</td>\n",
       "      <td>0.999999</td>\n",
       "      <td>0.913687</td>\n",
       "      <td>-0.279082</td>\n",
       "    </tr>\n",
       "    <tr>\n",
       "      <th>numberOfRooms</th>\n",
       "      <td>0.018112</td>\n",
       "      <td>1.000000</td>\n",
       "      <td>-0.002026</td>\n",
       "      <td>0.025064</td>\n",
       "      <td>0.025580</td>\n",
       "      <td>0.008786</td>\n",
       "      <td>0.003964</td>\n",
       "      <td>0.022695</td>\n",
       "      <td>0.006171</td>\n",
       "      <td>0.002984</td>\n",
       "      <td>-0.019973</td>\n",
       "      <td>-0.012659</td>\n",
       "      <td>0.017830</td>\n",
       "      <td>0.020140</td>\n",
       "      <td>-0.007714</td>\n",
       "      <td>-0.028996</td>\n",
       "      <td>0.018139</td>\n",
       "      <td>0.025584</td>\n",
       "      <td>-0.007631</td>\n",
       "    </tr>\n",
       "    <tr>\n",
       "      <th>hasYard</th>\n",
       "      <td>-0.006920</td>\n",
       "      <td>-0.002026</td>\n",
       "      <td>1.000000</td>\n",
       "      <td>0.022319</td>\n",
       "      <td>0.007221</td>\n",
       "      <td>0.011608</td>\n",
       "      <td>0.000510</td>\n",
       "      <td>0.013940</td>\n",
       "      <td>-0.001031</td>\n",
       "      <td>-0.019186</td>\n",
       "      <td>-0.014477</td>\n",
       "      <td>-0.012269</td>\n",
       "      <td>-0.008550</td>\n",
       "      <td>-0.009474</td>\n",
       "      <td>-0.016018</td>\n",
       "      <td>-0.009306</td>\n",
       "      <td>-0.006379</td>\n",
       "      <td>-0.007448</td>\n",
       "      <td>0.032506</td>\n",
       "    </tr>\n",
       "    <tr>\n",
       "      <th>hasPool</th>\n",
       "      <td>-0.007275</td>\n",
       "      <td>0.025064</td>\n",
       "      <td>0.022319</td>\n",
       "      <td>1.000000</td>\n",
       "      <td>-0.004498</td>\n",
       "      <td>0.002839</td>\n",
       "      <td>0.010935</td>\n",
       "      <td>-0.011100</td>\n",
       "      <td>0.004553</td>\n",
       "      <td>-0.000551</td>\n",
       "      <td>0.008231</td>\n",
       "      <td>-0.004457</td>\n",
       "      <td>-0.010662</td>\n",
       "      <td>0.003959</td>\n",
       "      <td>0.002272</td>\n",
       "      <td>0.010486</td>\n",
       "      <td>-0.006744</td>\n",
       "      <td>0.003308</td>\n",
       "      <td>0.065044</td>\n",
       "    </tr>\n",
       "    <tr>\n",
       "      <th>floors</th>\n",
       "      <td>0.001266</td>\n",
       "      <td>0.025580</td>\n",
       "      <td>0.007221</td>\n",
       "      <td>-0.004498</td>\n",
       "      <td>1.000000</td>\n",
       "      <td>0.003560</td>\n",
       "      <td>0.003539</td>\n",
       "      <td>0.002120</td>\n",
       "      <td>0.008657</td>\n",
       "      <td>0.011376</td>\n",
       "      <td>-0.009689</td>\n",
       "      <td>0.013451</td>\n",
       "      <td>0.007498</td>\n",
       "      <td>0.013224</td>\n",
       "      <td>0.004201</td>\n",
       "      <td>-0.015645</td>\n",
       "      <td>0.001813</td>\n",
       "      <td>-0.001498</td>\n",
       "      <td>0.045163</td>\n",
       "    </tr>\n",
       "    <tr>\n",
       "      <th>cityCode</th>\n",
       "      <td>0.003348</td>\n",
       "      <td>0.008786</td>\n",
       "      <td>0.011608</td>\n",
       "      <td>0.002839</td>\n",
       "      <td>0.003560</td>\n",
       "      <td>1.000000</td>\n",
       "      <td>0.006340</td>\n",
       "      <td>-0.010801</td>\n",
       "      <td>0.022962</td>\n",
       "      <td>0.002324</td>\n",
       "      <td>0.002648</td>\n",
       "      <td>0.000262</td>\n",
       "      <td>-0.001843</td>\n",
       "      <td>-0.000273</td>\n",
       "      <td>0.002974</td>\n",
       "      <td>-0.000929</td>\n",
       "      <td>0.003354</td>\n",
       "      <td>-0.007608</td>\n",
       "      <td>-0.007561</td>\n",
       "    </tr>\n",
       "    <tr>\n",
       "      <th>cityPartRange</th>\n",
       "      <td>0.009571</td>\n",
       "      <td>0.003964</td>\n",
       "      <td>0.000510</td>\n",
       "      <td>0.010935</td>\n",
       "      <td>0.003539</td>\n",
       "      <td>0.006340</td>\n",
       "      <td>1.000000</td>\n",
       "      <td>0.007545</td>\n",
       "      <td>0.001559</td>\n",
       "      <td>-0.000573</td>\n",
       "      <td>0.011112</td>\n",
       "      <td>0.005079</td>\n",
       "      <td>0.010184</td>\n",
       "      <td>0.006154</td>\n",
       "      <td>-0.011989</td>\n",
       "      <td>-0.007684</td>\n",
       "      <td>0.009624</td>\n",
       "      <td>0.008556</td>\n",
       "      <td>-0.000809</td>\n",
       "    </tr>\n",
       "    <tr>\n",
       "      <th>numPrevOwners</th>\n",
       "      <td>0.021107</td>\n",
       "      <td>0.022695</td>\n",
       "      <td>0.013940</td>\n",
       "      <td>-0.011100</td>\n",
       "      <td>0.002120</td>\n",
       "      <td>-0.010801</td>\n",
       "      <td>0.007545</td>\n",
       "      <td>1.000000</td>\n",
       "      <td>0.002941</td>\n",
       "      <td>-0.019256</td>\n",
       "      <td>0.003950</td>\n",
       "      <td>0.006442</td>\n",
       "      <td>0.002745</td>\n",
       "      <td>0.023401</td>\n",
       "      <td>0.031660</td>\n",
       "      <td>-0.004088</td>\n",
       "      <td>0.021112</td>\n",
       "      <td>0.022560</td>\n",
       "      <td>-0.029085</td>\n",
       "    </tr>\n",
       "    <tr>\n",
       "      <th>made</th>\n",
       "      <td>-0.011790</td>\n",
       "      <td>0.006171</td>\n",
       "      <td>-0.001031</td>\n",
       "      <td>0.004553</td>\n",
       "      <td>0.008657</td>\n",
       "      <td>0.022962</td>\n",
       "      <td>0.001559</td>\n",
       "      <td>0.002941</td>\n",
       "      <td>1.000000</td>\n",
       "      <td>-0.005893</td>\n",
       "      <td>-0.005240</td>\n",
       "      <td>-0.008512</td>\n",
       "      <td>0.007095</td>\n",
       "      <td>0.014569</td>\n",
       "      <td>-0.008558</td>\n",
       "      <td>-0.010441</td>\n",
       "      <td>-0.011787</td>\n",
       "      <td>-0.009393</td>\n",
       "      <td>-0.001481</td>\n",
       "    </tr>\n",
       "    <tr>\n",
       "      <th>isNewBuilt</th>\n",
       "      <td>-0.017515</td>\n",
       "      <td>0.002984</td>\n",
       "      <td>-0.019186</td>\n",
       "      <td>-0.000551</td>\n",
       "      <td>0.011376</td>\n",
       "      <td>0.002324</td>\n",
       "      <td>-0.000573</td>\n",
       "      <td>-0.019256</td>\n",
       "      <td>-0.005893</td>\n",
       "      <td>1.000000</td>\n",
       "      <td>-0.000760</td>\n",
       "      <td>-0.012884</td>\n",
       "      <td>0.023872</td>\n",
       "      <td>-0.001470</td>\n",
       "      <td>0.002765</td>\n",
       "      <td>0.026291</td>\n",
       "      <td>-0.017491</td>\n",
       "      <td>-0.016416</td>\n",
       "      <td>0.004486</td>\n",
       "    </tr>\n",
       "    <tr>\n",
       "      <th>hasStormProtector</th>\n",
       "      <td>0.013962</td>\n",
       "      <td>-0.019973</td>\n",
       "      <td>-0.014477</td>\n",
       "      <td>0.008231</td>\n",
       "      <td>-0.009689</td>\n",
       "      <td>0.002648</td>\n",
       "      <td>0.011112</td>\n",
       "      <td>0.003950</td>\n",
       "      <td>-0.005240</td>\n",
       "      <td>-0.000760</td>\n",
       "      <td>1.000000</td>\n",
       "      <td>-0.004230</td>\n",
       "      <td>-0.005765</td>\n",
       "      <td>0.004419</td>\n",
       "      <td>-0.007491</td>\n",
       "      <td>-0.007824</td>\n",
       "      <td>0.013979</td>\n",
       "      <td>0.006699</td>\n",
       "      <td>0.010582</td>\n",
       "    </tr>\n",
       "    <tr>\n",
       "      <th>basement</th>\n",
       "      <td>-0.003347</td>\n",
       "      <td>-0.012659</td>\n",
       "      <td>-0.012269</td>\n",
       "      <td>-0.004457</td>\n",
       "      <td>0.013451</td>\n",
       "      <td>0.000262</td>\n",
       "      <td>0.005079</td>\n",
       "      <td>0.006442</td>\n",
       "      <td>-0.008512</td>\n",
       "      <td>-0.012884</td>\n",
       "      <td>-0.004230</td>\n",
       "      <td>1.000000</td>\n",
       "      <td>-0.000446</td>\n",
       "      <td>-0.002108</td>\n",
       "      <td>-0.007846</td>\n",
       "      <td>-0.018859</td>\n",
       "      <td>-0.003346</td>\n",
       "      <td>-0.004974</td>\n",
       "      <td>-0.007831</td>\n",
       "    </tr>\n",
       "    <tr>\n",
       "      <th>attic</th>\n",
       "      <td>0.000494</td>\n",
       "      <td>0.017830</td>\n",
       "      <td>-0.008550</td>\n",
       "      <td>-0.010662</td>\n",
       "      <td>0.007498</td>\n",
       "      <td>-0.001843</td>\n",
       "      <td>0.010184</td>\n",
       "      <td>0.002745</td>\n",
       "      <td>0.007095</td>\n",
       "      <td>0.023872</td>\n",
       "      <td>-0.005765</td>\n",
       "      <td>-0.000446</td>\n",
       "      <td>1.000000</td>\n",
       "      <td>-0.003615</td>\n",
       "      <td>0.001158</td>\n",
       "      <td>-0.011133</td>\n",
       "      <td>0.000485</td>\n",
       "      <td>0.006282</td>\n",
       "      <td>-0.004918</td>\n",
       "    </tr>\n",
       "    <tr>\n",
       "      <th>garage</th>\n",
       "      <td>-0.021376</td>\n",
       "      <td>0.020140</td>\n",
       "      <td>-0.009474</td>\n",
       "      <td>0.003959</td>\n",
       "      <td>0.013224</td>\n",
       "      <td>-0.000273</td>\n",
       "      <td>0.006154</td>\n",
       "      <td>0.023401</td>\n",
       "      <td>0.014569</td>\n",
       "      <td>-0.001470</td>\n",
       "      <td>0.004419</td>\n",
       "      <td>-0.002108</td>\n",
       "      <td>-0.003615</td>\n",
       "      <td>1.000000</td>\n",
       "      <td>0.033620</td>\n",
       "      <td>-0.021503</td>\n",
       "      <td>-0.021359</td>\n",
       "      <td>-0.018365</td>\n",
       "      <td>0.005935</td>\n",
       "    </tr>\n",
       "    <tr>\n",
       "      <th>hasStorageRoom</th>\n",
       "      <td>0.000758</td>\n",
       "      <td>-0.007714</td>\n",
       "      <td>-0.016018</td>\n",
       "      <td>0.002272</td>\n",
       "      <td>0.004201</td>\n",
       "      <td>0.002974</td>\n",
       "      <td>-0.011989</td>\n",
       "      <td>0.031660</td>\n",
       "      <td>-0.008558</td>\n",
       "      <td>0.002765</td>\n",
       "      <td>-0.007491</td>\n",
       "      <td>-0.007846</td>\n",
       "      <td>0.001158</td>\n",
       "      <td>0.033620</td>\n",
       "      <td>1.000000</td>\n",
       "      <td>0.016080</td>\n",
       "      <td>0.000764</td>\n",
       "      <td>-0.005494</td>\n",
       "      <td>0.001173</td>\n",
       "    </tr>\n",
       "    <tr>\n",
       "      <th>hasGuestRoom</th>\n",
       "      <td>-0.005259</td>\n",
       "      <td>-0.028996</td>\n",
       "      <td>-0.009306</td>\n",
       "      <td>0.010486</td>\n",
       "      <td>-0.015645</td>\n",
       "      <td>-0.000929</td>\n",
       "      <td>-0.007684</td>\n",
       "      <td>-0.004088</td>\n",
       "      <td>-0.010441</td>\n",
       "      <td>0.026291</td>\n",
       "      <td>-0.007824</td>\n",
       "      <td>-0.018859</td>\n",
       "      <td>-0.011133</td>\n",
       "      <td>-0.021503</td>\n",
       "      <td>0.016080</td>\n",
       "      <td>1.000000</td>\n",
       "      <td>-0.005273</td>\n",
       "      <td>-0.003115</td>\n",
       "      <td>0.024026</td>\n",
       "    </tr>\n",
       "    <tr>\n",
       "      <th>price</th>\n",
       "      <td>0.999999</td>\n",
       "      <td>0.018139</td>\n",
       "      <td>-0.006379</td>\n",
       "      <td>-0.006744</td>\n",
       "      <td>0.001813</td>\n",
       "      <td>0.003354</td>\n",
       "      <td>0.009624</td>\n",
       "      <td>0.021112</td>\n",
       "      <td>-0.011787</td>\n",
       "      <td>-0.017491</td>\n",
       "      <td>0.013979</td>\n",
       "      <td>-0.003346</td>\n",
       "      <td>0.000485</td>\n",
       "      <td>-0.021359</td>\n",
       "      <td>0.000764</td>\n",
       "      <td>-0.005273</td>\n",
       "      <td>1.000000</td>\n",
       "      <td>0.913691</td>\n",
       "      <td>-0.278978</td>\n",
       "    </tr>\n",
       "    <tr>\n",
       "      <th>cat_price</th>\n",
       "      <td>0.913687</td>\n",
       "      <td>0.025584</td>\n",
       "      <td>-0.007448</td>\n",
       "      <td>0.003308</td>\n",
       "      <td>-0.001498</td>\n",
       "      <td>-0.007608</td>\n",
       "      <td>0.008556</td>\n",
       "      <td>0.022560</td>\n",
       "      <td>-0.009393</td>\n",
       "      <td>-0.016416</td>\n",
       "      <td>0.006699</td>\n",
       "      <td>-0.004974</td>\n",
       "      <td>0.006282</td>\n",
       "      <td>-0.018365</td>\n",
       "      <td>-0.005494</td>\n",
       "      <td>-0.003115</td>\n",
       "      <td>0.913691</td>\n",
       "      <td>1.000000</td>\n",
       "      <td>-0.258062</td>\n",
       "    </tr>\n",
       "    <tr>\n",
       "      <th>rlt_price</th>\n",
       "      <td>-0.279082</td>\n",
       "      <td>-0.007631</td>\n",
       "      <td>0.032506</td>\n",
       "      <td>0.065044</td>\n",
       "      <td>0.045163</td>\n",
       "      <td>-0.007561</td>\n",
       "      <td>-0.000809</td>\n",
       "      <td>-0.029085</td>\n",
       "      <td>-0.001481</td>\n",
       "      <td>0.004486</td>\n",
       "      <td>0.010582</td>\n",
       "      <td>-0.007831</td>\n",
       "      <td>-0.004918</td>\n",
       "      <td>0.005935</td>\n",
       "      <td>0.001173</td>\n",
       "      <td>0.024026</td>\n",
       "      <td>-0.278978</td>\n",
       "      <td>-0.258062</td>\n",
       "      <td>1.000000</td>\n",
       "    </tr>\n",
       "  </tbody>\n",
       "</table>\n",
       "</div>"
      ],
      "text/plain": [
       "                   squareMeters  numberOfRooms   hasYard   hasPool    floors  cityCode  cityPartRange  numPrevOwners      made  isNewBuilt  hasStormProtector  basement     attic    garage  hasStorageRoom  hasGuestRoom     price  cat_price  rlt_price\n",
       "squareMeters           1.000000       0.018112 -0.006920 -0.007275  0.001266  0.003348       0.009571       0.021107 -0.011790   -0.017515           0.013962 -0.003347  0.000494 -0.021376        0.000758     -0.005259  0.999999   0.913687  -0.279082\n",
       "numberOfRooms          0.018112       1.000000 -0.002026  0.025064  0.025580  0.008786       0.003964       0.022695  0.006171    0.002984          -0.019973 -0.012659  0.017830  0.020140       -0.007714     -0.028996  0.018139   0.025584  -0.007631\n",
       "hasYard               -0.006920      -0.002026  1.000000  0.022319  0.007221  0.011608       0.000510       0.013940 -0.001031   -0.019186          -0.014477 -0.012269 -0.008550 -0.009474       -0.016018     -0.009306 -0.006379  -0.007448   0.032506\n",
       "hasPool               -0.007275       0.025064  0.022319  1.000000 -0.004498  0.002839       0.010935      -0.011100  0.004553   -0.000551           0.008231 -0.004457 -0.010662  0.003959        0.002272      0.010486 -0.006744   0.003308   0.065044\n",
       "floors                 0.001266       0.025580  0.007221 -0.004498  1.000000  0.003560       0.003539       0.002120  0.008657    0.011376          -0.009689  0.013451  0.007498  0.013224        0.004201     -0.015645  0.001813  -0.001498   0.045163\n",
       "cityCode               0.003348       0.008786  0.011608  0.002839  0.003560  1.000000       0.006340      -0.010801  0.022962    0.002324           0.002648  0.000262 -0.001843 -0.000273        0.002974     -0.000929  0.003354  -0.007608  -0.007561\n",
       "cityPartRange          0.009571       0.003964  0.000510  0.010935  0.003539  0.006340       1.000000       0.007545  0.001559   -0.000573           0.011112  0.005079  0.010184  0.006154       -0.011989     -0.007684  0.009624   0.008556  -0.000809\n",
       "numPrevOwners          0.021107       0.022695  0.013940 -0.011100  0.002120 -0.010801       0.007545       1.000000  0.002941   -0.019256           0.003950  0.006442  0.002745  0.023401        0.031660     -0.004088  0.021112   0.022560  -0.029085\n",
       "made                  -0.011790       0.006171 -0.001031  0.004553  0.008657  0.022962       0.001559       0.002941  1.000000   -0.005893          -0.005240 -0.008512  0.007095  0.014569       -0.008558     -0.010441 -0.011787  -0.009393  -0.001481\n",
       "isNewBuilt            -0.017515       0.002984 -0.019186 -0.000551  0.011376  0.002324      -0.000573      -0.019256 -0.005893    1.000000          -0.000760 -0.012884  0.023872 -0.001470        0.002765      0.026291 -0.017491  -0.016416   0.004486\n",
       "hasStormProtector      0.013962      -0.019973 -0.014477  0.008231 -0.009689  0.002648       0.011112       0.003950 -0.005240   -0.000760           1.000000 -0.004230 -0.005765  0.004419       -0.007491     -0.007824  0.013979   0.006699   0.010582\n",
       "basement              -0.003347      -0.012659 -0.012269 -0.004457  0.013451  0.000262       0.005079       0.006442 -0.008512   -0.012884          -0.004230  1.000000 -0.000446 -0.002108       -0.007846     -0.018859 -0.003346  -0.004974  -0.007831\n",
       "attic                  0.000494       0.017830 -0.008550 -0.010662  0.007498 -0.001843       0.010184       0.002745  0.007095    0.023872          -0.005765 -0.000446  1.000000 -0.003615        0.001158     -0.011133  0.000485   0.006282  -0.004918\n",
       "garage                -0.021376       0.020140 -0.009474  0.003959  0.013224 -0.000273       0.006154       0.023401  0.014569   -0.001470           0.004419 -0.002108 -0.003615  1.000000        0.033620     -0.021503 -0.021359  -0.018365   0.005935\n",
       "hasStorageRoom         0.000758      -0.007714 -0.016018  0.002272  0.004201  0.002974      -0.011989       0.031660 -0.008558    0.002765          -0.007491 -0.007846  0.001158  0.033620        1.000000      0.016080  0.000764  -0.005494   0.001173\n",
       "hasGuestRoom          -0.005259      -0.028996 -0.009306  0.010486 -0.015645 -0.000929      -0.007684      -0.004088 -0.010441    0.026291          -0.007824 -0.018859 -0.011133 -0.021503        0.016080      1.000000 -0.005273  -0.003115   0.024026\n",
       "price                  0.999999       0.018139 -0.006379 -0.006744  0.001813  0.003354       0.009624       0.021112 -0.011787   -0.017491           0.013979 -0.003346  0.000485 -0.021359        0.000764     -0.005273  1.000000   0.913691  -0.278978\n",
       "cat_price              0.913687       0.025584 -0.007448  0.003308 -0.001498 -0.007608       0.008556       0.022560 -0.009393   -0.016416           0.006699 -0.004974  0.006282 -0.018365       -0.005494     -0.003115  0.913691   1.000000  -0.258062\n",
       "rlt_price             -0.279082      -0.007631  0.032506  0.065044  0.045163 -0.007561      -0.000809      -0.029085 -0.001481    0.004486           0.010582 -0.007831 -0.004918  0.005935        0.001173      0.024026 -0.278978  -0.258062   1.000000"
      ]
     },
     "execution_count": 111,
     "metadata": {},
     "output_type": "execute_result"
    }
   ],
   "source": [
    "train_ps.corr()"
   ]
  },
  {
   "cell_type": "markdown",
   "id": "9eab54fc-be8d-44d2-9d8b-11c7700c1b56",
   "metadata": {},
   "source": [
    "##### Data is summarized here for 1st 5 rows from training set"
   ]
  },
  {
   "cell_type": "code",
   "execution_count": 112,
   "id": "edeabad3-0c35-4a29-b242-825afba36c58",
   "metadata": {},
   "outputs": [
    {
     "data": {
      "text/html": [
       "<div>\n",
       "<style scoped>\n",
       "    .dataframe tbody tr th:only-of-type {\n",
       "        vertical-align: middle;\n",
       "    }\n",
       "\n",
       "    .dataframe tbody tr th {\n",
       "        vertical-align: top;\n",
       "    }\n",
       "\n",
       "    .dataframe thead th {\n",
       "        text-align: right;\n",
       "    }\n",
       "</style>\n",
       "<table border=\"1\" class=\"dataframe\">\n",
       "  <thead>\n",
       "    <tr style=\"text-align: right;\">\n",
       "      <th></th>\n",
       "      <th>squareMeters</th>\n",
       "      <th>numberOfRooms</th>\n",
       "      <th>hasYard</th>\n",
       "      <th>hasPool</th>\n",
       "      <th>floors</th>\n",
       "      <th>cityCode</th>\n",
       "      <th>cityPartRange</th>\n",
       "      <th>numPrevOwners</th>\n",
       "      <th>made</th>\n",
       "      <th>isNewBuilt</th>\n",
       "      <th>hasStormProtector</th>\n",
       "      <th>basement</th>\n",
       "      <th>attic</th>\n",
       "      <th>garage</th>\n",
       "      <th>hasStorageRoom</th>\n",
       "      <th>hasGuestRoom</th>\n",
       "      <th>price</th>\n",
       "      <th>cat_price</th>\n",
       "      <th>rlt_price</th>\n",
       "    </tr>\n",
       "  </thead>\n",
       "  <tbody>\n",
       "    <tr>\n",
       "      <th>0</th>\n",
       "      <td>89</td>\n",
       "      <td>33</td>\n",
       "      <td>0</td>\n",
       "      <td>0</td>\n",
       "      <td>72</td>\n",
       "      <td>61648</td>\n",
       "      <td>3</td>\n",
       "      <td>4</td>\n",
       "      <td>1995</td>\n",
       "      <td>0</td>\n",
       "      <td>1</td>\n",
       "      <td>3114</td>\n",
       "      <td>1258</td>\n",
       "      <td>264</td>\n",
       "      <td>1</td>\n",
       "      <td>9</td>\n",
       "      <td>10313.5</td>\n",
       "      <td>0</td>\n",
       "      <td>1.158820</td>\n",
       "    </tr>\n",
       "    <tr>\n",
       "      <th>1</th>\n",
       "      <td>111</td>\n",
       "      <td>32</td>\n",
       "      <td>0</td>\n",
       "      <td>1</td>\n",
       "      <td>34</td>\n",
       "      <td>80623</td>\n",
       "      <td>1</td>\n",
       "      <td>4</td>\n",
       "      <td>2003</td>\n",
       "      <td>1</td>\n",
       "      <td>0</td>\n",
       "      <td>2239</td>\n",
       "      <td>2795</td>\n",
       "      <td>951</td>\n",
       "      <td>1</td>\n",
       "      <td>7</td>\n",
       "      <td>14431.3</td>\n",
       "      <td>0</td>\n",
       "      <td>1.300117</td>\n",
       "    </tr>\n",
       "    <tr>\n",
       "      <th>2</th>\n",
       "      <td>123</td>\n",
       "      <td>61</td>\n",
       "      <td>0</td>\n",
       "      <td>0</td>\n",
       "      <td>1</td>\n",
       "      <td>33633</td>\n",
       "      <td>9</td>\n",
       "      <td>1</td>\n",
       "      <td>2011</td>\n",
       "      <td>0</td>\n",
       "      <td>1</td>\n",
       "      <td>9390</td>\n",
       "      <td>6219</td>\n",
       "      <td>922</td>\n",
       "      <td>0</td>\n",
       "      <td>9</td>\n",
       "      <td>13229.1</td>\n",
       "      <td>0</td>\n",
       "      <td>1.075537</td>\n",
       "    </tr>\n",
       "    <tr>\n",
       "      <th>3</th>\n",
       "      <td>128</td>\n",
       "      <td>38</td>\n",
       "      <td>0</td>\n",
       "      <td>1</td>\n",
       "      <td>6</td>\n",
       "      <td>8862</td>\n",
       "      <td>6</td>\n",
       "      <td>2</td>\n",
       "      <td>1990</td>\n",
       "      <td>0</td>\n",
       "      <td>0</td>\n",
       "      <td>6861</td>\n",
       "      <td>5769</td>\n",
       "      <td>442</td>\n",
       "      <td>0</td>\n",
       "      <td>5</td>\n",
       "      <td>15488.0</td>\n",
       "      <td>0</td>\n",
       "      <td>1.210000</td>\n",
       "    </tr>\n",
       "    <tr>\n",
       "      <th>4</th>\n",
       "      <td>141</td>\n",
       "      <td>16</td>\n",
       "      <td>0</td>\n",
       "      <td>1</td>\n",
       "      <td>58</td>\n",
       "      <td>42248</td>\n",
       "      <td>5</td>\n",
       "      <td>4</td>\n",
       "      <td>1997</td>\n",
       "      <td>1</td>\n",
       "      <td>0</td>\n",
       "      <td>3411</td>\n",
       "      <td>8985</td>\n",
       "      <td>213</td>\n",
       "      <td>0</td>\n",
       "      <td>4</td>\n",
       "      <td>22670.7</td>\n",
       "      <td>0</td>\n",
       "      <td>1.607851</td>\n",
       "    </tr>\n",
       "  </tbody>\n",
       "</table>\n",
       "</div>"
      ],
      "text/plain": [
       "   squareMeters  numberOfRooms  hasYard  hasPool  floors  cityCode  cityPartRange  numPrevOwners  made  isNewBuilt  hasStormProtector  basement  attic  garage  hasStorageRoom  hasGuestRoom    price  cat_price  rlt_price\n",
       "0            89             33        0        0      72     61648              3              4  1995           0                  1      3114   1258     264               1             9  10313.5          0   1.158820\n",
       "1           111             32        0        1      34     80623              1              4  2003           1                  0      2239   2795     951               1             7  14431.3          0   1.300117\n",
       "2           123             61        0        0       1     33633              9              1  2011           0                  1      9390   6219     922               0             9  13229.1          0   1.075537\n",
       "3           128             38        0        1       6      8862              6              2  1990           0                  0      6861   5769     442               0             5  15488.0          0   1.210000\n",
       "4           141             16        0        1      58     42248              5              4  1997           1                  0      3411   8985     213               0             4  22670.7          0   1.607851"
      ]
     },
     "execution_count": 112,
     "metadata": {},
     "output_type": "execute_result"
    }
   ],
   "source": [
    "#### We are here now taking the categorical datasets and checking relationship between them with a simple contingency table.\n",
    "from pyspark.mllib.stat import Statistics\n",
    "from pyspark.sql import DataFrame\n",
    "train_ps.head(5)"
   ]
  },
  {
   "cell_type": "markdown",
   "id": "97559854-5430-4743-adf6-57c9ce752946",
   "metadata": {},
   "source": [
    "##### As the price range is too wide. We are using the category column of the price to study relationship with descrete variables and some relevant numeric variables. A pivot rable hasbeen used here to get the summary of the categories. "
   ]
  },
  {
   "cell_type": "code",
   "execution_count": 113,
   "id": "92cfcf9b-045c-4b1b-8466-36730d0a90df",
   "metadata": {},
   "outputs": [],
   "source": [
    "train_ps.loc[train_ps['cat_price']==0,'price_cat_name']='Low_price'\n",
    "train_ps.loc[train_ps['cat_price']==1,'price_cat_name']='Medium_price'\n",
    "train_ps.loc[train_ps['cat_price']==2,'price_cat_name']='High_price'"
   ]
  },
  {
   "cell_type": "markdown",
   "id": "4f6b0c04-5ef5-4fde-a445-624b5da1cb9e",
   "metadata": {},
   "source": [
    "##### Columns 'hasYard','hasPool','isNewBuilt','hasStormProtector','hasStorageRoom','hasGuestRoom','made' have been selected to know which category of price these features fall into.\n",
    "\n",
    "##### High Price Houses show following features- they have yard and pool irrespective of being old or new and year they were constructed. Having a storage room or not did not have signifcant impact on price being in High category. Medium price houses mostly have all the features at par with Low Price Houses."
   ]
  },
  {
   "cell_type": "code",
   "execution_count": 114,
   "id": "0f2fe866-9c65-4636-9317-127e56a659d4",
   "metadata": {},
   "outputs": [
    {
     "name": "stdout",
     "output_type": "stream",
     "text": [
      "price_cat_name  High_price  Low_price  Medium_price\n",
      "hasYard                                            \n",
      "1                     2016       1033           990\n",
      "0                     1987        973          1005\n",
      "price_cat_name  High_price  Low_price  Medium_price\n",
      "hasPool                                            \n",
      "1                     1980        979          1009\n",
      "0                     2023       1027           986\n",
      "price_cat_name  High_price  Low_price  Medium_price\n",
      "isNewBuilt                                         \n",
      "1                     1953       1015          1010\n",
      "0                     2050        991           985\n",
      "price_cat_name     High_price  Low_price  Medium_price\n",
      "hasStormProtector                                     \n",
      "1                        2011        992           992\n",
      "0                        1992       1014          1003\n",
      "price_cat_name  High_price  Low_price  Medium_price\n",
      "hasStorageRoom                                     \n",
      "1                     1992       1009          1012\n",
      "0                     2011        997           983\n",
      "price_cat_name  High_price  Low_price  Medium_price\n",
      "hasGuestRoom                                       \n",
      "1                      357        186           196\n",
      "6                      358        187           168\n",
      "3                      369        183           187\n",
      "5                      361        168           178\n",
      "9                      364        195           175\n",
      "4                      375        181           164\n",
      "8                      373        171           187\n",
      "7                      368        159           177\n",
      "10                     352        210           185\n",
      "2                      374        176           195\n",
      "0                      352        190           183\n"
     ]
    }
   ],
   "source": [
    "dis_col=['hasYard','hasPool','isNewBuilt','hasStormProtector','hasStorageRoom','hasGuestRoom']\n",
    "for i in dis_col:\n",
    "    table = train_ps.pivot_table(values=i, index=[i],columns='price_cat_name', aggfunc='count',fill_value=0)\n",
    "    print(table)\n"
   ]
  },
  {
   "cell_type": "markdown",
   "id": "c932abaa-9e78-471c-803b-e292858ced9f",
   "metadata": {},
   "source": [
    "##### We checked if year of construction showed any trend or shows any signifant relation with oprice. It Does not seem to be giving much information. Except High range houses were built more in quantity that those in medium and low price category. It also shows that none of the price categories show any significant ups or lows in since 1900s and this trend pretty much stayed as it is. "
   ]
  },
  {
   "cell_type": "code",
   "execution_count": 13,
   "id": "62f695b6-0de7-4eaa-a762-48fbd7f37bcd",
   "metadata": {
    "tags": []
   },
   "outputs": [
    {
     "name": "stdout",
     "output_type": "stream",
     "text": [
      "made            1990  1991  1992  1993  1994  1995  1996  1997  1998  1999  2000  2001  2002  2003  2004  2005  2006  2007  2008  2009  2010  2011  2012  2013  2014  2015  2016  2017  2018  2019  2020  2021\n",
      "price_cat_name                                                                                                                                                                                                \n",
      "Medium_price      60    78    66    72    72    53    67    56    58    55    57    66    63    68    50    59    60    53    67    66    55    62    61    82    56    65    55    62    61    56    71    63\n",
      "Low_price         63    69    66    60    65    60    60    70    69    52    60    60    52    64    66    64    48    52    60    58    61    61    64    80    74    56    63    56    72    81    66    54\n",
      "High_price       140   114   154   134   120   113   138   115   115   125   116   143   116   131   129   116   135   127   105   124   118   130   123   132   127   119   112   120   131   117   135   129\n"
     ]
    },
    {
     "data": {
      "text/plain": [
       "<matplotlib.legend.Legend at 0x1f2f7542110>"
      ]
     },
     "execution_count": 13,
     "metadata": {},
     "output_type": "execute_result"
    },
    {
     "data": {
      "image/png": "[encoded data removed]",
      "text/plain": [
       "<Figure size 1440x360 with 1 Axes>"
      ]
     },
     "metadata": {
      "needs_background": "light"
     },
     "output_type": "display_data"
    }
   ],
   "source": [
    "from matplotlib.pyplot import figure\n",
    "ps.options.plotting.backend = 'matplotlib'\n",
    "\n",
    "##sorting the data as per year\n",
    "\n",
    "df_train_sort=train_ps.sort_values(by=['made'])\n",
    "table3=df_train_sort.groupby(['price_cat_name','made',])['price_cat_name'].count().unstack(level=1)\n",
    "print(table3)\n",
    "\n",
    "df_train_sort.pivot_table(values='made', index=['made'],columns='price_cat_name', aggfunc='count',fill_value=0).plot.bar(stacked=False)\n",
    "plt.gcf().set_size_inches(20, 5)\n",
    "plt.legend( bbox_to_anchor=(1, 0.5))\n"
   ]
  },
  {
   "cell_type": "markdown",
   "id": "2594311e-b144-40f3-9bff-1b90db008892",
   "metadata": {},
   "source": [
    "##### Houses having yard mostly contributed to the medium and high price ranges."
   ]
  },
  {
   "cell_type": "code",
   "execution_count": 122,
   "id": "4635150c-a6ca-4614-aeab-5a5b25d08472",
   "metadata": {},
   "outputs": [
    {
     "data": {
      "text/html": [
       "<div>\n",
       "<style scoped>\n",
       "    .dataframe tbody tr th:only-of-type {\n",
       "        vertical-align: middle;\n",
       "    }\n",
       "\n",
       "    .dataframe tbody tr th {\n",
       "        vertical-align: top;\n",
       "    }\n",
       "\n",
       "    .dataframe thead th {\n",
       "        text-align: right;\n",
       "    }\n",
       "</style>\n",
       "<table border=\"1\" class=\"dataframe\">\n",
       "  <thead>\n",
       "    <tr style=\"text-align: right;\">\n",
       "      <th></th>\n",
       "      <th>squareMeters</th>\n",
       "      <th>numberOfRooms</th>\n",
       "      <th>hasYard</th>\n",
       "      <th>floors</th>\n",
       "      <th>cityCode</th>\n",
       "      <th>cityPartRange</th>\n",
       "      <th>numPrevOwners</th>\n",
       "      <th>made</th>\n",
       "      <th>isNewBuilt</th>\n",
       "      <th>hasStormProtector</th>\n",
       "      <th>basement</th>\n",
       "      <th>attic</th>\n",
       "      <th>garage</th>\n",
       "      <th>hasStorageRoom</th>\n",
       "      <th>hasGuestRoom</th>\n",
       "      <th>price</th>\n",
       "      <th>cat_price</th>\n",
       "      <th>rlt_price</th>\n",
       "    </tr>\n",
       "    <tr>\n",
       "      <th>hasPool</th>\n",
       "      <th></th>\n",
       "      <th></th>\n",
       "      <th></th>\n",
       "      <th></th>\n",
       "      <th></th>\n",
       "      <th></th>\n",
       "      <th></th>\n",
       "      <th></th>\n",
       "      <th></th>\n",
       "      <th></th>\n",
       "      <th></th>\n",
       "      <th></th>\n",
       "      <th></th>\n",
       "      <th></th>\n",
       "      <th></th>\n",
       "      <th></th>\n",
       "      <th></th>\n",
       "      <th></th>\n",
       "    </tr>\n",
       "  </thead>\n",
       "  <tbody>\n",
       "    <tr>\n",
       "      <th>1</th>\n",
       "      <td>50013</td>\n",
       "      <td>52</td>\n",
       "      <td>1</td>\n",
       "      <td>49</td>\n",
       "      <td>50508</td>\n",
       "      <td>6</td>\n",
       "      <td>5</td>\n",
       "      <td>2005</td>\n",
       "      <td>0</td>\n",
       "      <td>1</td>\n",
       "      <td>4979</td>\n",
       "      <td>4990</td>\n",
       "      <td>555</td>\n",
       "      <td>1</td>\n",
       "      <td>5</td>\n",
       "      <td>5009275.2</td>\n",
       "      <td>1</td>\n",
       "      <td>1.001604</td>\n",
       "    </tr>\n",
       "    <tr>\n",
       "      <th>0</th>\n",
       "      <td>50185</td>\n",
       "      <td>50</td>\n",
       "      <td>0</td>\n",
       "      <td>51</td>\n",
       "      <td>51111</td>\n",
       "      <td>5</td>\n",
       "      <td>6</td>\n",
       "      <td>2005</td>\n",
       "      <td>0</td>\n",
       "      <td>0</td>\n",
       "      <td>5113</td>\n",
       "      <td>5062</td>\n",
       "      <td>555</td>\n",
       "      <td>1</td>\n",
       "      <td>5</td>\n",
       "      <td>5022293.3</td>\n",
       "      <td>2</td>\n",
       "      <td>1.000938</td>\n",
       "    </tr>\n",
       "  </tbody>\n",
       "</table>\n",
       "</div>"
      ],
      "text/plain": [
       "         squareMeters  numberOfRooms  hasYard  floors  cityCode  cityPartRange  numPrevOwners  made  isNewBuilt  hasStormProtector  basement  attic  garage  hasStorageRoom  hasGuestRoom      price  cat_price  rlt_price\n",
       "hasPool                                                                                                                                                                                                                   \n",
       "1               50013             52        1      49     50508              6              5  2005           0                  1      4979   4990     555               1             5  5009275.2          1   1.001604\n",
       "0               50185             50        0      51     51111              5              6  2005           0                  0      5113   5062     555               1             5  5022293.3          2   1.000938"
      ]
     },
     "execution_count": 122,
     "metadata": {},
     "output_type": "execute_result"
    }
   ],
   "source": [
    "train_ps.groupby([\"hasPool\"]).median() "
   ]
  },
  {
   "cell_type": "code",
   "execution_count": 117,
   "id": "c39adf90-c3ea-47cf-a847-185df60d4872",
   "metadata": {},
   "outputs": [
    {
     "data": {
      "text/html": [
       "<div>\n",
       "<style scoped>\n",
       "    .dataframe tbody tr th:only-of-type {\n",
       "        vertical-align: middle;\n",
       "    }\n",
       "\n",
       "    .dataframe tbody tr th {\n",
       "        vertical-align: top;\n",
       "    }\n",
       "\n",
       "    .dataframe thead th {\n",
       "        text-align: right;\n",
       "    }\n",
       "</style>\n",
       "<table border=\"1\" class=\"dataframe\">\n",
       "  <thead>\n",
       "    <tr style=\"text-align: right;\">\n",
       "      <th></th>\n",
       "      <th>squareMeters</th>\n",
       "      <th>numberOfRooms</th>\n",
       "      <th>basement</th>\n",
       "      <th>attic</th>\n",
       "      <th>garage</th>\n",
       "      <th>hasGuestRoom</th>\n",
       "      <th>price</th>\n",
       "      <th>rlt_price</th>\n",
       "    </tr>\n",
       "  </thead>\n",
       "  <tbody>\n",
       "    <tr>\n",
       "      <th>count</th>\n",
       "      <td>8004.000000</td>\n",
       "      <td>8004.000000</td>\n",
       "      <td>8004.000000</td>\n",
       "      <td>8004.000000</td>\n",
       "      <td>8004.000000</td>\n",
       "      <td>8004.000000</td>\n",
       "      <td>8.004000e+03</td>\n",
       "      <td>8004.000000</td>\n",
       "    </tr>\n",
       "    <tr>\n",
       "      <th>mean</th>\n",
       "      <td>49933.997626</td>\n",
       "      <td>50.583208</td>\n",
       "      <td>4994.160170</td>\n",
       "      <td>5021.567966</td>\n",
       "      <td>553.670290</td>\n",
       "      <td>4.996377</td>\n",
       "      <td>4.999808e+06</td>\n",
       "      <td>1.004731</td>\n",
       "    </tr>\n",
       "    <tr>\n",
       "      <th>std</th>\n",
       "      <td>28857.052125</td>\n",
       "      <td>28.812682</td>\n",
       "      <td>2874.785407</td>\n",
       "      <td>2910.388369</td>\n",
       "      <td>261.223796</td>\n",
       "      <td>3.178572</td>\n",
       "      <td>2.885693e+06</td>\n",
       "      <td>0.021380</td>\n",
       "    </tr>\n",
       "    <tr>\n",
       "      <th>min</th>\n",
       "      <td>89.000000</td>\n",
       "      <td>1.000000</td>\n",
       "      <td>0.000000</td>\n",
       "      <td>4.000000</td>\n",
       "      <td>100.000000</td>\n",
       "      <td>0.000000</td>\n",
       "      <td>1.031350e+04</td>\n",
       "      <td>1.000048</td>\n",
       "    </tr>\n",
       "    <tr>\n",
       "      <th>25%</th>\n",
       "      <td>25004.000000</td>\n",
       "      <td>25.000000</td>\n",
       "      <td>2513.000000</td>\n",
       "      <td>2474.000000</td>\n",
       "      <td>328.000000</td>\n",
       "      <td>2.000000</td>\n",
       "      <td>2.508814e+06</td>\n",
       "      <td>1.000718</td>\n",
       "    </tr>\n",
       "    <tr>\n",
       "      <th>50%</th>\n",
       "      <td>50102.000000</td>\n",
       "      <td>51.000000</td>\n",
       "      <td>5047.000000</td>\n",
       "      <td>5027.000000</td>\n",
       "      <td>555.000000</td>\n",
       "      <td>5.000000</td>\n",
       "      <td>5.015730e+06</td>\n",
       "      <td>1.001289</td>\n",
       "    </tr>\n",
       "    <tr>\n",
       "      <th>75%</th>\n",
       "      <td>74880.000000</td>\n",
       "      <td>75.000000</td>\n",
       "      <td>7449.000000</td>\n",
       "      <td>7559.000000</td>\n",
       "      <td>776.000000</td>\n",
       "      <td>8.000000</td>\n",
       "      <td>7.494846e+06</td>\n",
       "      <td>1.002564</td>\n",
       "    </tr>\n",
       "    <tr>\n",
       "      <th>max</th>\n",
       "      <td>99999.000000</td>\n",
       "      <td>100.000000</td>\n",
       "      <td>10000.000000</td>\n",
       "      <td>9999.000000</td>\n",
       "      <td>1000.000000</td>\n",
       "      <td>10.000000</td>\n",
       "      <td>1.000677e+07</td>\n",
       "      <td>1.607851</td>\n",
       "    </tr>\n",
       "  </tbody>\n",
       "</table>\n",
       "</div>"
      ],
      "text/plain": [
       "       squareMeters  numberOfRooms      basement        attic       garage  hasGuestRoom         price    rlt_price\n",
       "count   8004.000000    8004.000000   8004.000000  8004.000000  8004.000000   8004.000000  8.004000e+03  8004.000000\n",
       "mean   49933.997626      50.583208   4994.160170  5021.567966   553.670290      4.996377  4.999808e+06     1.004731\n",
       "std    28857.052125      28.812682   2874.785407  2910.388369   261.223796      3.178572  2.885693e+06     0.021380\n",
       "min       89.000000       1.000000      0.000000     4.000000   100.000000      0.000000  1.031350e+04     1.000048\n",
       "25%    25004.000000      25.000000   2513.000000  2474.000000   328.000000      2.000000  2.508814e+06     1.000718\n",
       "50%    50102.000000      51.000000   5047.000000  5027.000000   555.000000      5.000000  5.015730e+06     1.001289\n",
       "75%    74880.000000      75.000000   7449.000000  7559.000000   776.000000      8.000000  7.494846e+06     1.002564\n",
       "max    99999.000000     100.000000  10000.000000  9999.000000  1000.000000     10.000000  1.000677e+07     1.607851"
      ]
     },
     "execution_count": 117,
     "metadata": {},
     "output_type": "execute_result"
    }
   ],
   "source": [
    "train_ps[['squareMeters','numberOfRooms','basement','attic','garage','hasGuestRoom','price','rlt_price']].describe() "
   ]
  },
  {
   "cell_type": "markdown",
   "id": "9b33059d-85a5-46b3-8a90-79d3faa86552",
   "metadata": {},
   "source": [
    "##### As per correlation table we see that aquare meters has the most linear relationship with the price . Number of rooms also did not have any relation with the price variable"
   ]
  },
  {
   "cell_type": "code",
   "execution_count": 198,
   "id": "bba7587d-68f6-4b93-a1d4-74b4dd9ddd77",
   "metadata": {},
   "outputs": [
    {
     "data": {
      "text/plain": [
       "<AxesSubplot:title={'center':'price vs made'}, xlabel='made', ylabel='rlt_price'>"
      ]
     },
     "execution_count": 198,
     "metadata": {},
     "output_type": "execute_result"
    },
    {
     "data": {
      "image/png": "[encoded data removed]",
      "text/plain": [
       "<Figure size 1800x432 with 3 Axes>"
      ]
     },
     "metadata": {
      "needs_background": "light"
     },
     "output_type": "display_data"
    }
   ],
   "source": [
    "import numpy as np \n",
    "fig, axes = plt.subplots(nrows=1, ncols=3, figsize=(25, 6 ))\n",
    "train_ps.plot(kind='scatter',x='squareMeters',y='price',color='darkblue',ax=axes[0],title='price vs squareMeters')\n",
    "train_ps.plot(kind='scatter',x='numberOfRooms',y='rlt_price',color='red', ax=axes[1],title='price vs numberOfRooms')\n",
    "train_ps.plot(kind='scatter',x='made',y='rlt_price',color='black',ax=axes[2],title='price vs made')"
   ]
  },
  {
   "cell_type": "markdown",
   "id": "cce5018b-828e-4498-b312-a348bc0b5842",
   "metadata": {},
   "source": [
    "#### We checked if any normality can be seen in the price variable and squareMeter variable. However, it does not any indication of that. Discrete variable simiply quantifies the binary variables."
   ]
  },
  {
   "cell_type": "markdown",
   "id": "3b8a2e01-982b-4d2c-8f76-657ab25297af",
   "metadata": {},
   "source": [
    "To see the distribution of variables, we plot the histograms of 16 variables except for cityCode which doesn't make sense for analysis. As you can see below, all binary variables including \"hasYarcd\", \"hasPool\", \"isNewBuilt\", \"hasStormProtecto\", \"hasStorageRoom\" show equal frequency, indicating nonpreference. But We do see \"made\" and \"hasGestroom\" have bias distribution. More houses(probably > 30%) are built before 1992 and after 2017. The houses with more than 10 guestrooms are twice more than the others."
   ]
  },
  {
   "cell_type": "code",
   "execution_count": 64,
   "id": "54ba965d-977d-4102-b13a-72b7dc0abca0",
   "metadata": {},
   "outputs": [
    {
     "data": {
      "text/plain": [
       "<AxesSubplot:title={'center':'hasGuestRoom'}, ylabel='Frequency'>"
      ]
     },
     "execution_count": 64,
     "metadata": {},
     "output_type": "execute_result"
    },
    {
     "data": {
      "image/png": "[encoded data removed]",
      "text/plain": [
       "<Figure size 1800x1152 with 16 Axes>"
      ]
     },
     "metadata": {
      "needs_background": "light"
     },
     "output_type": "display_data"
    }
   ],
   "source": [
    "from matplotlib.pyplot import figure\n",
    "fig, axes = plt.subplots(nrows=4, ncols=4, figsize=(25, 16 ))\n",
    "train_ps['price'].hist(ax=axes[0,0],title='price')\n",
    "train_ps['squareMeters'].hist(ax=axes[0,1],title='squareMeters')\n",
    "train_ps['numberOfRooms'].hist(ax=axes[0,2],title='numberOfRooms')\n",
    "train_ps['hasYard'].hist(ax=axes[0,3], title='hasYard')\n",
    "train_ps['hasPool'].hist(ax=axes[1,0], title='hasPool')\n",
    "train_ps['floors'].hist(ax=axes[1,1], title='floors')\n",
    "train_ps['cityPartRange'].hist(ax=axes[1,2], title='cityPartRange')\n",
    "train_ps['numPrevOwners'].hist(ax=axes[1,3], title='numPrevOwners')\n",
    "train_ps['made'].hist(ax=axes[2,0], title='made')\n",
    "train_ps['isNewBuilt'].hist(ax=axes[2,1], title='isNewBuilt')\n",
    "train_ps['hasStormProtector'].hist(ax=axes[2,2], title='hasStormProtecto')\n",
    "train_ps['basement'].hist(ax=axes[2,3], title='basement')\n",
    "train_ps['attic'].hist(ax=axes[3,0], title='attic')\n",
    "train_ps['garage'].hist(ax=axes[3,1], title='garage')\n",
    "train_ps['hasStorageRoom'].hist(ax=axes[3,2], title='hasStorageRoom')\n",
    "train_ps['hasGuestRoom'].hist(ax=axes[3,3], title='hasGuestRoom')"
   ]
  },
  {
   "cell_type": "markdown",
   "id": "e364aef9-c023-485a-91b1-7d9c883523b1",
   "metadata": {},
   "source": [
    "##### Box plot of the discrete variable quanties the range of houses having and not having yard with repect to squareMeters and price. The spread in both cases is almost similar."
   ]
  },
  {
   "cell_type": "code",
   "execution_count": 151,
   "id": "2f3d904f-a1e1-43af-9a68-cd5a65739bb9",
   "metadata": {
    "tags": []
   },
   "outputs": [
    {
     "data": {
      "text/plain": [
       "<AxesSubplot:title={'center':'hasStorageRoom=1'}>"
      ]
     },
     "execution_count": 151,
     "metadata": {},
     "output_type": "execute_result"
    },
    {
     "data": {
      "image/png": "[encoded data removed]",
      "text/plain": [
       "<Figure size 1800x1080 with 12 Axes>"
      ]
     },
     "metadata": {
      "needs_background": "light"
     },
     "output_type": "display_data"
    }
   ],
   "source": [
    "#train_ps['price'].plot.box(by=train_ps['hasYard','hasStorageRoom'])\n",
    "fig, axes = plt.subplots(nrows=3, ncols=4,figsize=(25,15))\n",
    "train_ps.loc[train_ps['hasYard']==0,'price'].plot.box(ax=axes[0,0], title='hasYard=0') \n",
    "train_ps.loc[train_ps['hasYard']==1,'price'].plot.box(ax=axes[0,1], title='hasYard=1')\n",
    "train_ps.loc[train_ps['hasPool']==0,'price'].plot.box(ax=axes[0,2], title='hasPool=0')\n",
    "train_ps.loc[train_ps['hasPool']==1,'price'].plot.box(ax=axes[0,3],title='hasPool=1')\n",
    "train_ps.loc[train_ps['isNewBuilt']==0,'price'].plot.box(ax=axes[1,0], title='hasPool=0')\n",
    "train_ps.loc[train_ps['isNewBuilt']==1,'price'].plot.box(ax=axes[1,1],title='hasPool=1')\n",
    "train_ps.loc[train_ps['hasStormProtector']==0,'price'].plot.box(ax=axes[1,2], title='hasStormProtector=0')\n",
    "train_ps.loc[train_ps['hasStormProtector']==1,'price'].plot.box(ax=axes[1,3],title='hasStormProtector=1')\n",
    "train_ps.loc[train_ps['hasStorageRoom']==0,'price'].plot.box(ax=axes[2,0], title='hasStorageRoom=0')\n",
    "train_ps.loc[train_ps['hasStorageRoom']==1,'price'].plot.box(ax=axes[2,1],title='hasStorageRoom=1')\n",
    "\n"
   ]
  },
  {
   "cell_type": "code",
   "execution_count": null,
   "id": "eeab1727-e836-4f98-b73f-6a9438b30a95",
   "metadata": {},
   "outputs": [],
   "source": []
  },
  {
   "cell_type": "markdown",
   "id": "ae0ec75e-8c2c-4f28-a5ab-da7aa7234b6d",
   "metadata": {},
   "source": [
    "## Modeling"
   ]
  },
  {
   "cell_type": "markdown",
   "id": "196f0d69-7904-4f1b-86b4-67cfb0162c21",
   "metadata": {},
   "source": [
    "##### Import modules for modeling. Some are repeated just for sanity"
   ]
  },
  {
   "cell_type": "code",
   "execution_count": 154,
   "id": "0d4b3177-605c-430b-87b1-9ac377ccf5e3",
   "metadata": {},
   "outputs": [],
   "source": [
    "from pyspark.ml.feature import SQLTransformer\n",
    "from pyspark.ml.feature import VectorAssembler\n",
    "from pyspark.ml.classification import LogisticRegression\n",
    "from pyspark.ml.regression import LinearRegression\n",
    "from pyspark.ml import Pipeline\n",
    "from pyspark.ml.tuning import CrossValidator, ParamGridBuilder\n",
    "from pyspark.ml.evaluation import RegressionEvaluator"
   ]
  },
  {
   "cell_type": "markdown",
   "id": "94202a1a-213f-4e0b-97d4-552f31e011d3",
   "metadata": {},
   "source": [
    "### Linear Regression modeling"
   ]
  },
  {
   "cell_type": "markdown",
   "id": "9658bc94-2af7-4669-8ef1-8786d2f50b50",
   "metadata": {},
   "source": [
    "##### Linear regression model has been implemented using the log of squareMeter, hasYard variable and numberOfRooms. As we did not see significant relation between the numberOfrROoms and hasYard variables. We have tried fitting a multiple linear regression with polynomial fit in a pipe line. First the training predictors are fit into the polynomialExpansion and the features obtained from this are then used as input in the regression model fit. The trained model is finally used to get the predictions for the test data. Log of squareMeters and price is used to scale these two variables."
   ]
  },
  {
   "cell_type": "code",
   "execution_count": 155,
   "id": "a081a4f5-4e60-4771-9114-482eafc4148f",
   "metadata": {},
   "outputs": [],
   "source": [
    "# Choose variables for transformation \n",
    "sqlTrans=SQLTransformer(\n",
    "    statement=\"SELECT  log(squareMeters) as log_squareMeters, hasYard, numberOfRooms, log(price) as label FROM __THIS__\"\n",
    ")"
   ]
  },
  {
   "cell_type": "markdown",
   "id": "6992a0e4-dbe1-41d8-969e-6880e19fbcbf",
   "metadata": {},
   "source": [
    "##### Getting train dataset"
   ]
  },
  {
   "cell_type": "code",
   "execution_count": 156,
   "id": "f25a5e7f-8d28-44dc-8f36-15f4f899940b",
   "metadata": {},
   "outputs": [
    {
     "name": "stdout",
     "output_type": "stream",
     "text": [
      "+-----------------+-------+-------------+-----------------+\n",
      "| log_squareMeters|hasYard|numberOfRooms|            label|\n",
      "+-----------------+-------+-------------+-----------------+\n",
      "| 4.48863636973214|      0|           33| 9.24120899563865|\n",
      "|4.709530201312334|      0|           32|9.577154737800138|\n",
      "|4.812184355372417|      0|           61|9.490174227584161|\n",
      "|4.852030263919617|      0|           38| 9.64782080951636|\n",
      "|4.948759890378168|      0|           16|10.02882862083695|\n",
      "+-----------------+-------+-------------+-----------------+\n",
      "only showing top 5 rows\n",
      "\n"
     ]
    }
   ],
   "source": [
    "# Check if sqlTrans works or not\n",
    "sqlTrans.transform(train).show(5)"
   ]
  },
  {
   "cell_type": "markdown",
   "id": "d94983cc-5bb8-49f3-9160-e3d3327bca8f",
   "metadata": {},
   "source": [
    "##### Combining all the predictor variables into 'features'"
   ]
  },
  {
   "cell_type": "code",
   "execution_count": 157,
   "id": "b9f31e29-0d38-42df-8e34-2ff2fea3bd47",
   "metadata": {},
   "outputs": [],
   "source": [
    "# Combine predictors into a single vector column for modeling\n",
    "assembler=VectorAssembler(inputCols=[\"log_squareMeters\",\"hasYard\",\"numberOfRooms\"],outputCol=\"features\",handleInvalid='keep')"
   ]
  },
  {
   "cell_type": "code",
   "execution_count": 158,
   "id": "477cb4a8-620b-40df-a6dc-ada2526c58ac",
   "metadata": {},
   "outputs": [
    {
     "name": "stdout",
     "output_type": "stream",
     "text": [
      "+-----------------+--------------------+\n",
      "|            label|            features|\n",
      "+-----------------+--------------------+\n",
      "| 9.24120899563865|[4.48863636973214...|\n",
      "|9.577154737800138|[4.70953020131233...|\n",
      "|9.490174227584161|[4.81218435537241...|\n",
      "| 9.64782080951636|[4.85203026391961...|\n",
      "|10.02882862083695|[4.94875989037816...|\n",
      "+-----------------+--------------------+\n",
      "only showing top 5 rows\n",
      "\n"
     ]
    }
   ],
   "source": [
    "# Check if assembler works or not\n",
    "assembler.transform(\n",
    "    sqlTrans.transform(train)\n",
    ").select(\"label\",\"features\").show(5)"
   ]
  },
  {
   "cell_type": "markdown",
   "id": "384010d7-31cc-4c7d-a3c1-f620f41f38cd",
   "metadata": {},
   "source": [
    "##### Declaring the PolynomialExpansion and Getting the Linear regression "
   ]
  },
  {
   "cell_type": "code",
   "execution_count": 159,
   "id": "cbcb1c2d-4394-4ef8-ab2b-8949872a7254",
   "metadata": {},
   "outputs": [],
   "source": [
    "from pyspark.ml.feature import PolynomialExpansion\n",
    "pe=PolynomialExpansion(inputCol=\"features\", outputCol=\"polyFeatures\")\n",
    "lr= LinearRegression(labelCol='label',featuresCol='polyFeatures')\n",
    "evaluator = RegressionEvaluator()"
   ]
  },
  {
   "cell_type": "markdown",
   "id": "7cb38078-1d80-4fa4-b937-bc9045ee3af4",
   "metadata": {},
   "source": [
    "##### Setting up the polynomialExpansion and Regression pipeline and doing cross validation model fit.  will be used for the Linear regression pipeline."
   ]
  },
  {
   "cell_type": "markdown",
   "id": "c1329506-e433-4875-b1ea-ed74bec2d92f",
   "metadata": {},
   "source": [
    "##### Cross validation with required parameters and fitting the train set"
   ]
  },
  {
   "cell_type": "code",
   "execution_count": 160,
   "id": "d7696b03-9953-4e88-a281-73623d99d738",
   "metadata": {},
   "outputs": [],
   "source": [
    "pp = Pipeline(stages = [sqlTrans,assembler,pe,lr])\n",
    "paramGrid = ParamGridBuilder() \\\n",
    "      .addGrid(lr.regParam,[0.1, 0.01, 0.001, 0.0001]) \\\n",
    "      .addGrid(lr.fitIntercept, [False,True]) \\\n",
    "      .addGrid(lr.elasticNetParam, [0,0.5,0.8,1])\\\n",
    "      .build()\n",
    "crossval = CrossValidator(estimator=pp, estimatorParamMaps=paramGrid, evaluator=evaluator,numFolds= 5)\n",
    "cvModel =crossval.fit(train)"
   ]
  },
  {
   "cell_type": "markdown",
   "id": "33faf579-97f4-4a85-a56f-a0270604ab4e",
   "metadata": {},
   "source": [
    "##### Getting training metrics, predictions and test error (RMSE)"
   ]
  },
  {
   "cell_type": "code",
   "execution_count": 161,
   "id": "7ac1060a-b5c2-4682-939a-0ca582002acb",
   "metadata": {},
   "outputs": [
    {
     "data": {
      "text/plain": [
       "[(0.2834703561605555,\n",
       "  {Param(parent='LinearRegression_1f01375dd27c', name='regParam', doc='regularization parameter (>= 0).'): 0.1,\n",
       "   Param(parent='LinearRegression_1f01375dd27c', name='fitIntercept', doc='whether to fit an intercept term.'): False,\n",
       "   Param(parent='LinearRegression_1f01375dd27c', name='elasticNetParam', doc='the ElasticNet mixing parameter, in range [0, 1]. For alpha = 0, the penalty is an L2 penalty. For alpha = 1, it is an L1 penalty.'): 0.0}),\n",
       " (1.7218462907498755,\n",
       "  {Param(parent='LinearRegression_1f01375dd27c', name='regParam', doc='regularization parameter (>= 0).'): 0.1,\n",
       "   Param(parent='LinearRegression_1f01375dd27c', name='fitIntercept', doc='whether to fit an intercept term.'): False,\n",
       "   Param(parent='LinearRegression_1f01375dd27c', name='elasticNetParam', doc='the ElasticNet mixing parameter, in range [0, 1]. For alpha = 0, the penalty is an L2 penalty. For alpha = 1, it is an L1 penalty.'): 0.5}),\n",
       " (0.34693319919358545,\n",
       "  {Param(parent='LinearRegression_1f01375dd27c', name='regParam', doc='regularization parameter (>= 0).'): 0.1,\n",
       "   Param(parent='LinearRegression_1f01375dd27c', name='fitIntercept', doc='whether to fit an intercept term.'): False,\n",
       "   Param(parent='LinearRegression_1f01375dd27c', name='elasticNetParam', doc='the ElasticNet mixing parameter, in range [0, 1]. For alpha = 0, the penalty is an L2 penalty. For alpha = 1, it is an L1 penalty.'): 0.8}),\n",
       " (0.40604445535259615,\n",
       "  {Param(parent='LinearRegression_1f01375dd27c', name='regParam', doc='regularization parameter (>= 0).'): 0.1,\n",
       "   Param(parent='LinearRegression_1f01375dd27c', name='fitIntercept', doc='whether to fit an intercept term.'): False,\n",
       "   Param(parent='LinearRegression_1f01375dd27c', name='elasticNetParam', doc='the ElasticNet mixing parameter, in range [0, 1]. For alpha = 0, the penalty is an L2 penalty. For alpha = 1, it is an L1 penalty.'): 1.0}),\n",
       " (0.05927760152346147,\n",
       "  {Param(parent='LinearRegression_1f01375dd27c', name='regParam', doc='regularization parameter (>= 0).'): 0.1,\n",
       "   Param(parent='LinearRegression_1f01375dd27c', name='fitIntercept', doc='whether to fit an intercept term.'): True,\n",
       "   Param(parent='LinearRegression_1f01375dd27c', name='elasticNetParam', doc='the ElasticNet mixing parameter, in range [0, 1]. For alpha = 0, the penalty is an L2 penalty. For alpha = 1, it is an L1 penalty.'): 0.0}),\n",
       " (0.08058235030403957,\n",
       "  {Param(parent='LinearRegression_1f01375dd27c', name='regParam', doc='regularization parameter (>= 0).'): 0.1,\n",
       "   Param(parent='LinearRegression_1f01375dd27c', name='fitIntercept', doc='whether to fit an intercept term.'): True,\n",
       "   Param(parent='LinearRegression_1f01375dd27c', name='elasticNetParam', doc='the ElasticNet mixing parameter, in range [0, 1]. For alpha = 0, the penalty is an L2 penalty. For alpha = 1, it is an L1 penalty.'): 0.5}),\n",
       " (0.0942582558154205,\n",
       "  {Param(parent='LinearRegression_1f01375dd27c', name='regParam', doc='regularization parameter (>= 0).'): 0.1,\n",
       "   Param(parent='LinearRegression_1f01375dd27c', name='fitIntercept', doc='whether to fit an intercept term.'): True,\n",
       "   Param(parent='LinearRegression_1f01375dd27c', name='elasticNetParam', doc='the ElasticNet mixing parameter, in range [0, 1]. For alpha = 0, the penalty is an L2 penalty. For alpha = 1, it is an L1 penalty.'): 0.8}),\n",
       " (0.10121693483165817,\n",
       "  {Param(parent='LinearRegression_1f01375dd27c', name='regParam', doc='regularization parameter (>= 0).'): 0.1,\n",
       "   Param(parent='LinearRegression_1f01375dd27c', name='fitIntercept', doc='whether to fit an intercept term.'): True,\n",
       "   Param(parent='LinearRegression_1f01375dd27c', name='elasticNetParam', doc='the ElasticNet mixing parameter, in range [0, 1]. For alpha = 0, the penalty is an L2 penalty. For alpha = 1, it is an L1 penalty.'): 1.0}),\n",
       " (0.10590587316186913,\n",
       "  {Param(parent='LinearRegression_1f01375dd27c', name='regParam', doc='regularization parameter (>= 0).'): 0.01,\n",
       "   Param(parent='LinearRegression_1f01375dd27c', name='fitIntercept', doc='whether to fit an intercept term.'): False,\n",
       "   Param(parent='LinearRegression_1f01375dd27c', name='elasticNetParam', doc='the ElasticNet mixing parameter, in range [0, 1]. For alpha = 0, the penalty is an L2 penalty. For alpha = 1, it is an L1 penalty.'): 0.0}),\n",
       " (1.2261673747210675,\n",
       "  {Param(parent='LinearRegression_1f01375dd27c', name='regParam', doc='regularization parameter (>= 0).'): 0.01,\n",
       "   Param(parent='LinearRegression_1f01375dd27c', name='fitIntercept', doc='whether to fit an intercept term.'): False,\n",
       "   Param(parent='LinearRegression_1f01375dd27c', name='elasticNetParam', doc='the ElasticNet mixing parameter, in range [0, 1]. For alpha = 0, the penalty is an L2 penalty. For alpha = 1, it is an L1 penalty.'): 0.5}),\n",
       " (0.1656778531913968,\n",
       "  {Param(parent='LinearRegression_1f01375dd27c', name='regParam', doc='regularization parameter (>= 0).'): 0.01,\n",
       "   Param(parent='LinearRegression_1f01375dd27c', name='fitIntercept', doc='whether to fit an intercept term.'): False,\n",
       "   Param(parent='LinearRegression_1f01375dd27c', name='elasticNetParam', doc='the ElasticNet mixing parameter, in range [0, 1]. For alpha = 0, the penalty is an L2 penalty. For alpha = 1, it is an L1 penalty.'): 0.8}),\n",
       " (0.5249836570092083,\n",
       "  {Param(parent='LinearRegression_1f01375dd27c', name='regParam', doc='regularization parameter (>= 0).'): 0.01,\n",
       "   Param(parent='LinearRegression_1f01375dd27c', name='fitIntercept', doc='whether to fit an intercept term.'): False,\n",
       "   Param(parent='LinearRegression_1f01375dd27c', name='elasticNetParam', doc='the ElasticNet mixing parameter, in range [0, 1]. For alpha = 0, the penalty is an L2 penalty. For alpha = 1, it is an L1 penalty.'): 1.0}),\n",
       " (0.027143484736828337,\n",
       "  {Param(parent='LinearRegression_1f01375dd27c', name='regParam', doc='regularization parameter (>= 0).'): 0.01,\n",
       "   Param(parent='LinearRegression_1f01375dd27c', name='fitIntercept', doc='whether to fit an intercept term.'): True,\n",
       "   Param(parent='LinearRegression_1f01375dd27c', name='elasticNetParam', doc='the ElasticNet mixing parameter, in range [0, 1]. For alpha = 0, the penalty is an L2 penalty. For alpha = 1, it is an L1 penalty.'): 0.0}),\n",
       " (0.023689097818535072,\n",
       "  {Param(parent='LinearRegression_1f01375dd27c', name='regParam', doc='regularization parameter (>= 0).'): 0.01,\n",
       "   Param(parent='LinearRegression_1f01375dd27c', name='fitIntercept', doc='whether to fit an intercept term.'): True,\n",
       "   Param(parent='LinearRegression_1f01375dd27c', name='elasticNetParam', doc='the ElasticNet mixing parameter, in range [0, 1]. For alpha = 0, the penalty is an L2 penalty. For alpha = 1, it is an L1 penalty.'): 0.5}),\n",
       " (0.01927934028421155,\n",
       "  {Param(parent='LinearRegression_1f01375dd27c', name='regParam', doc='regularization parameter (>= 0).'): 0.01,\n",
       "   Param(parent='LinearRegression_1f01375dd27c', name='fitIntercept', doc='whether to fit an intercept term.'): True,\n",
       "   Param(parent='LinearRegression_1f01375dd27c', name='elasticNetParam', doc='the ElasticNet mixing parameter, in range [0, 1]. For alpha = 0, the penalty is an L2 penalty. For alpha = 1, it is an L1 penalty.'): 0.8}),\n",
       " (0.016433764701775044,\n",
       "  {Param(parent='LinearRegression_1f01375dd27c', name='regParam', doc='regularization parameter (>= 0).'): 0.01,\n",
       "   Param(parent='LinearRegression_1f01375dd27c', name='fitIntercept', doc='whether to fit an intercept term.'): True,\n",
       "   Param(parent='LinearRegression_1f01375dd27c', name='elasticNetParam', doc='the ElasticNet mixing parameter, in range [0, 1]. For alpha = 0, the penalty is an L2 penalty. For alpha = 1, it is an L1 penalty.'): 1.0}),\n",
       " (0.09790485702913146,\n",
       "  {Param(parent='LinearRegression_1f01375dd27c', name='regParam', doc='regularization parameter (>= 0).'): 0.001,\n",
       "   Param(parent='LinearRegression_1f01375dd27c', name='fitIntercept', doc='whether to fit an intercept term.'): False,\n",
       "   Param(parent='LinearRegression_1f01375dd27c', name='elasticNetParam', doc='the ElasticNet mixing parameter, in range [0, 1]. For alpha = 0, the penalty is an L2 penalty. For alpha = 1, it is an L1 penalty.'): 0.0}),\n",
       " (0.24233105110086992,\n",
       "  {Param(parent='LinearRegression_1f01375dd27c', name='regParam', doc='regularization parameter (>= 0).'): 0.001,\n",
       "   Param(parent='LinearRegression_1f01375dd27c', name='fitIntercept', doc='whether to fit an intercept term.'): False,\n",
       "   Param(parent='LinearRegression_1f01375dd27c', name='elasticNetParam', doc='the ElasticNet mixing parameter, in range [0, 1]. For alpha = 0, the penalty is an L2 penalty. For alpha = 1, it is an L1 penalty.'): 0.5}),\n",
       " (0.2272333974004584,\n",
       "  {Param(parent='LinearRegression_1f01375dd27c', name='regParam', doc='regularization parameter (>= 0).'): 0.001,\n",
       "   Param(parent='LinearRegression_1f01375dd27c', name='fitIntercept', doc='whether to fit an intercept term.'): False,\n",
       "   Param(parent='LinearRegression_1f01375dd27c', name='elasticNetParam', doc='the ElasticNet mixing parameter, in range [0, 1]. For alpha = 0, the penalty is an L2 penalty. For alpha = 1, it is an L1 penalty.'): 0.8}),\n",
       " (1.2950857507058384,\n",
       "  {Param(parent='LinearRegression_1f01375dd27c', name='regParam', doc='regularization parameter (>= 0).'): 0.001,\n",
       "   Param(parent='LinearRegression_1f01375dd27c', name='fitIntercept', doc='whether to fit an intercept term.'): False,\n",
       "   Param(parent='LinearRegression_1f01375dd27c', name='elasticNetParam', doc='the ElasticNet mixing parameter, in range [0, 1]. For alpha = 0, the penalty is an L2 penalty. For alpha = 1, it is an L1 penalty.'): 1.0}),\n",
       " (0.012227873762627284,\n",
       "  {Param(parent='LinearRegression_1f01375dd27c', name='regParam', doc='regularization parameter (>= 0).'): 0.001,\n",
       "   Param(parent='LinearRegression_1f01375dd27c', name='fitIntercept', doc='whether to fit an intercept term.'): True,\n",
       "   Param(parent='LinearRegression_1f01375dd27c', name='elasticNetParam', doc='the ElasticNet mixing parameter, in range [0, 1]. For alpha = 0, the penalty is an L2 penalty. For alpha = 1, it is an L1 penalty.'): 0.0}),\n",
       " (0.012525592797435309,\n",
       "  {Param(parent='LinearRegression_1f01375dd27c', name='regParam', doc='regularization parameter (>= 0).'): 0.001,\n",
       "   Param(parent='LinearRegression_1f01375dd27c', name='fitIntercept', doc='whether to fit an intercept term.'): True,\n",
       "   Param(parent='LinearRegression_1f01375dd27c', name='elasticNetParam', doc='the ElasticNet mixing parameter, in range [0, 1]. For alpha = 0, the penalty is an L2 penalty. For alpha = 1, it is an L1 penalty.'): 0.5}),\n",
       " (0.014071998847305941,\n",
       "  {Param(parent='LinearRegression_1f01375dd27c', name='regParam', doc='regularization parameter (>= 0).'): 0.001,\n",
       "   Param(parent='LinearRegression_1f01375dd27c', name='fitIntercept', doc='whether to fit an intercept term.'): True,\n",
       "   Param(parent='LinearRegression_1f01375dd27c', name='elasticNetParam', doc='the ElasticNet mixing parameter, in range [0, 1]. For alpha = 0, the penalty is an L2 penalty. For alpha = 1, it is an L1 penalty.'): 0.8}),\n",
       " (0.011797839861108344,\n",
       "  {Param(parent='LinearRegression_1f01375dd27c', name='regParam', doc='regularization parameter (>= 0).'): 0.001,\n",
       "   Param(parent='LinearRegression_1f01375dd27c', name='fitIntercept', doc='whether to fit an intercept term.'): True,\n",
       "   Param(parent='LinearRegression_1f01375dd27c', name='elasticNetParam', doc='the ElasticNet mixing parameter, in range [0, 1]. For alpha = 0, the penalty is an L2 penalty. For alpha = 1, it is an L1 penalty.'): 1.0}),\n",
       " (0.09785390128478068,\n",
       "  {Param(parent='LinearRegression_1f01375dd27c', name='regParam', doc='regularization parameter (>= 0).'): 0.0001,\n",
       "   Param(parent='LinearRegression_1f01375dd27c', name='fitIntercept', doc='whether to fit an intercept term.'): False,\n",
       "   Param(parent='LinearRegression_1f01375dd27c', name='elasticNetParam', doc='the ElasticNet mixing parameter, in range [0, 1]. For alpha = 0, the penalty is an L2 penalty. For alpha = 1, it is an L1 penalty.'): 0.0}),\n",
       " (0.32716752913074737,\n",
       "  {Param(parent='LinearRegression_1f01375dd27c', name='regParam', doc='regularization parameter (>= 0).'): 0.0001,\n",
       "   Param(parent='LinearRegression_1f01375dd27c', name='fitIntercept', doc='whether to fit an intercept term.'): False,\n",
       "   Param(parent='LinearRegression_1f01375dd27c', name='elasticNetParam', doc='the ElasticNet mixing parameter, in range [0, 1]. For alpha = 0, the penalty is an L2 penalty. For alpha = 1, it is an L1 penalty.'): 0.5}),\n",
       " (0.3160945779956893,\n",
       "  {Param(parent='LinearRegression_1f01375dd27c', name='regParam', doc='regularization parameter (>= 0).'): 0.0001,\n",
       "   Param(parent='LinearRegression_1f01375dd27c', name='fitIntercept', doc='whether to fit an intercept term.'): False,\n",
       "   Param(parent='LinearRegression_1f01375dd27c', name='elasticNetParam', doc='the ElasticNet mixing parameter, in range [0, 1]. For alpha = 0, the penalty is an L2 penalty. For alpha = 1, it is an L1 penalty.'): 0.8}),\n",
       " (0.34121522229721635,\n",
       "  {Param(parent='LinearRegression_1f01375dd27c', name='regParam', doc='regularization parameter (>= 0).'): 0.0001,\n",
       "   Param(parent='LinearRegression_1f01375dd27c', name='fitIntercept', doc='whether to fit an intercept term.'): False,\n",
       "   Param(parent='LinearRegression_1f01375dd27c', name='elasticNetParam', doc='the ElasticNet mixing parameter, in range [0, 1]. For alpha = 0, the penalty is an L2 penalty. For alpha = 1, it is an L1 penalty.'): 1.0}),\n",
       " (0.010152844940418841,\n",
       "  {Param(parent='LinearRegression_1f01375dd27c', name='regParam', doc='regularization parameter (>= 0).'): 0.0001,\n",
       "   Param(parent='LinearRegression_1f01375dd27c', name='fitIntercept', doc='whether to fit an intercept term.'): True,\n",
       "   Param(parent='LinearRegression_1f01375dd27c', name='elasticNetParam', doc='the ElasticNet mixing parameter, in range [0, 1]. For alpha = 0, the penalty is an L2 penalty. For alpha = 1, it is an L1 penalty.'): 0.0}),\n",
       " (0.011490463963679694,\n",
       "  {Param(parent='LinearRegression_1f01375dd27c', name='regParam', doc='regularization parameter (>= 0).'): 0.0001,\n",
       "   Param(parent='LinearRegression_1f01375dd27c', name='fitIntercept', doc='whether to fit an intercept term.'): True,\n",
       "   Param(parent='LinearRegression_1f01375dd27c', name='elasticNetParam', doc='the ElasticNet mixing parameter, in range [0, 1]. For alpha = 0, the penalty is an L2 penalty. For alpha = 1, it is an L1 penalty.'): 0.5}),\n",
       " (0.01223438877381955,\n",
       "  {Param(parent='LinearRegression_1f01375dd27c', name='regParam', doc='regularization parameter (>= 0).'): 0.0001,\n",
       "   Param(parent='LinearRegression_1f01375dd27c', name='fitIntercept', doc='whether to fit an intercept term.'): True,\n",
       "   Param(parent='LinearRegression_1f01375dd27c', name='elasticNetParam', doc='the ElasticNet mixing parameter, in range [0, 1]. For alpha = 0, the penalty is an L2 penalty. For alpha = 1, it is an L1 penalty.'): 0.8}),\n",
       " (0.015347278879787568,\n",
       "  {Param(parent='LinearRegression_1f01375dd27c', name='regParam', doc='regularization parameter (>= 0).'): 0.0001,\n",
       "   Param(parent='LinearRegression_1f01375dd27c', name='fitIntercept', doc='whether to fit an intercept term.'): True,\n",
       "   Param(parent='LinearRegression_1f01375dd27c', name='elasticNetParam', doc='the ElasticNet mixing parameter, in range [0, 1]. For alpha = 0, the penalty is an L2 penalty. For alpha = 1, it is an L1 penalty.'): 1.0})]"
      ]
     },
     "execution_count": 161,
     "metadata": {},
     "output_type": "execute_result"
    }
   ],
   "source": [
    "list(zip(cvModel.avgMetrics,paramGrid))"
   ]
  },
  {
   "cell_type": "code",
   "execution_count": 162,
   "id": "52f57a61-c282-4a66-b650-25b4226a89e1",
   "metadata": {},
   "outputs": [
    {
     "name": "stdout",
     "output_type": "stream",
     "text": [
      "+-----------------+-------+-------------+------------------+--------------------+--------------------+------------------+\n",
      "| log_squareMeters|hasYard|numberOfRooms|             label|            features|        polyFeatures|        prediction|\n",
      "+-----------------+-------+-------------+------------------+--------------------+--------------------+------------------+\n",
      "|4.919980925828125|      0|           32| 9.961808346106483|[4.91998092582812...|[4.91998092582812...| 9.712221631150872|\n",
      "| 5.43372200355424|      1|           49|10.219698771101882|[5.43372200355424...|[5.43372200355424...|10.213601825366688|\n",
      "|5.713732805509369|      0|           75| 10.37243124524755|[5.71373280550936...|[5.71373280550936...|10.454193425760238|\n",
      "|5.916202062607435|      1|           29|10.726012511395604|[5.91620206260743...|[5.91620206260743...|10.663535542200577|\n",
      "|5.961005339623274|      1|           11|10.711029813886956|[5.96100533962327...|[5.96100533962327...|10.705074496167782|\n",
      "+-----------------+-------+-------------+------------------+--------------------+--------------------+------------------+\n",
      "only showing top 5 rows\n",
      "\n"
     ]
    }
   ],
   "source": [
    "cvModel.transform(test).show(5)"
   ]
  },
  {
   "cell_type": "code",
   "execution_count": 163,
   "id": "67b17a99-2a27-48a1-81b4-ceab2cebf851",
   "metadata": {},
   "outputs": [
    {
     "name": "stdout",
     "output_type": "stream",
     "text": [
      "0.008945133313898368\n"
     ]
    }
   ],
   "source": [
    "test_error=RegressionEvaluator().evaluate(cvModel.transform(test))\n",
    "print(test_error)"
   ]
  },
  {
   "cell_type": "markdown",
   "id": "1531de9f-defb-472c-8edf-1650d5b281fc",
   "metadata": {},
   "source": [
    "### Decision Tree Regression"
   ]
  },
  {
   "cell_type": "markdown",
   "id": "0e377a28-c69b-4629-bf05-58c247b5a209",
   "metadata": {},
   "source": [
    "##### This model runs the predictions for the test model using the some additional set of predictors. The method is utilized to see if decision tree can give good results with more variables or not. This uses both numeric and discrete set of predictors. Predictors used this time are - log(squareMeters) as log_squareMeters, numberOfRooms, hasYard, hasPool,isNewBuilt,hasStormProtector,hasStorageRoom,hasGuestRoom,made."
   ]
  },
  {
   "cell_type": "markdown",
   "id": "d478e575-7c74-45c5-9d4a-fe49bb949eeb",
   "metadata": {},
   "source": [
    "##### Importing packages again."
   ]
  },
  {
   "cell_type": "code",
   "execution_count": 164,
   "id": "7e9f51eb-9c83-4bc4-864a-b6c2182af912",
   "metadata": {},
   "outputs": [],
   "source": [
    "from pyspark.ml.regression import DecisionTreeRegressor\n",
    "from pyspark.ml.evaluation import RegressionEvaluator\n",
    "from pyspark.ml.tuning import ParamGridBuilder, CrossValidator\n",
    "from pyspark.ml.evaluation import MulticlassClassificationEvaluator"
   ]
  },
  {
   "cell_type": "markdown",
   "id": "254ae7e0-e106-4abc-8dfa-1e5c374a845a",
   "metadata": {},
   "source": [
    "##### Preparing the predictors again"
   ]
  },
  {
   "cell_type": "code",
   "execution_count": 165,
   "id": "ef516140-d6ea-489a-852a-9adeeb871cbd",
   "metadata": {},
   "outputs": [],
   "source": [
    "sqlTrans2=SQLTransformer(\n",
    "    statement=\"SELECT  log(squareMeters) as log_squareMeters, numberOfRooms, hasYard, hasPool,isNewBuilt,hasStormProtector,hasStorageRoom,hasGuestRoom,made, log(price) as label FROM __THIS__\"\n",
    ")"
   ]
  },
  {
   "cell_type": "code",
   "execution_count": 166,
   "id": "b16e7614-ada0-4693-9417-9fc88a92a4f5",
   "metadata": {},
   "outputs": [
    {
     "name": "stdout",
     "output_type": "stream",
     "text": [
      "+-----------------+-------------+-------+-------+----------+-----------------+--------------+------------+----+-----------------+\n",
      "| log_squareMeters|numberOfRooms|hasYard|hasPool|isNewBuilt|hasStormProtector|hasStorageRoom|hasGuestRoom|made|            label|\n",
      "+-----------------+-------------+-------+-------+----------+-----------------+--------------+------------+----+-----------------+\n",
      "| 4.48863636973214|           33|      0|      0|         0|                1|             1|           9|1995| 9.24120899563865|\n",
      "|4.709530201312334|           32|      0|      1|         1|                0|             1|           7|2003|9.577154737800138|\n",
      "|4.812184355372417|           61|      0|      0|         0|                1|             0|           9|2011|9.490174227584161|\n",
      "|4.852030263919617|           38|      0|      1|         0|                0|             0|           5|1990| 9.64782080951636|\n",
      "|4.948759890378168|           16|      0|      1|         1|                0|             0|           4|1997|10.02882862083695|\n",
      "+-----------------+-------------+-------+-------+----------+-----------------+--------------+------------+----+-----------------+\n",
      "only showing top 5 rows\n",
      "\n"
     ]
    }
   ],
   "source": [
    "sqlTrans2.transform(train).show(5)"
   ]
  },
  {
   "cell_type": "code",
   "execution_count": 167,
   "id": "a83f647a-7176-42c6-b001-3004b7309764",
   "metadata": {},
   "outputs": [],
   "source": [
    "# Combine predictors into a single vector column for modeling\n",
    "assembler2=VectorAssembler(inputCols=[\"log_squareMeters\",\"numberOfRooms\",\"hasYard\",\"hasPool\",\"isNewBuilt\",\"hasStormProtector\",\"hasStorageRoom\",\"hasGuestRoom\",\"made\"],outputCol=\"features\",handleInvalid='keep')"
   ]
  },
  {
   "cell_type": "code",
   "execution_count": 168,
   "id": "b5b7d196-88ec-4662-85ec-f2a2d99739a7",
   "metadata": {},
   "outputs": [
    {
     "name": "stdout",
     "output_type": "stream",
     "text": [
      "+-----------------+--------------------+\n",
      "|            label|            features|\n",
      "+-----------------+--------------------+\n",
      "| 9.24120899563865|[4.48863636973214...|\n",
      "|9.577154737800138|[4.70953020131233...|\n",
      "|9.490174227584161|[4.81218435537241...|\n",
      "| 9.64782080951636|[4.85203026391961...|\n",
      "|10.02882862083695|[4.94875989037816...|\n",
      "+-----------------+--------------------+\n",
      "only showing top 5 rows\n",
      "\n"
     ]
    }
   ],
   "source": [
    "# Check if assembler works or not\n",
    "assembler2.transform(\n",
    "    sqlTrans2.transform(train)\n",
    ").select(\"label\",\"features\").show(5)"
   ]
  },
  {
   "cell_type": "markdown",
   "id": "767f26d2-394e-41e8-9e99-5b68689958bb",
   "metadata": {},
   "source": [
    "##### Decision tree Regressor declared with the pipeline and crossvalidation fit is set up."
   ]
  },
  {
   "cell_type": "code",
   "execution_count": 169,
   "id": "204b78a3-9938-4555-85cb-da64f2c616df",
   "metadata": {},
   "outputs": [],
   "source": [
    "tree= DecisionTreeRegressor()"
   ]
  },
  {
   "cell_type": "code",
   "execution_count": 170,
   "id": "2a4d6609-1a1f-4f5e-905b-4175404372dd",
   "metadata": {},
   "outputs": [],
   "source": [
    "# set up pipeline \n",
    "pipeline2= Pipeline(stages= [sqlTrans2, assembler2, tree])"
   ]
  },
  {
   "cell_type": "code",
   "execution_count": 171,
   "id": "2b6802aa-9b4d-4112-be6b-6e9b68151727",
   "metadata": {},
   "outputs": [],
   "source": [
    "paramGrid = ParamGridBuilder()\\\n",
    "             .addGrid(tree.maxDepth, [2, 5])\\\n",
    "             .addGrid(tree.maxBins, [10, 20])\\\n",
    "             .build()\n",
    "crossval2=CrossValidator(estimator=pipeline2,\n",
    "                        estimatorParamMaps= paramGrid,\n",
    "                        evaluator = RegressionEvaluator(),\n",
    "                        numFolds=5,\n",
    "                        collectSubModels=True)"
   ]
  },
  {
   "cell_type": "code",
   "execution_count": 172,
   "id": "fb71df3c-15d2-4b33-b6b8-622ecf25e80d",
   "metadata": {},
   "outputs": [],
   "source": [
    "cvModel2 = crossval2.fit(train)"
   ]
  },
  {
   "cell_type": "markdown",
   "id": "6a5b18f9-1566-4ec5-a297-9cbb4db86e22",
   "metadata": {},
   "source": [
    "##### Getting training metrics, predictions and test error (RMSE)"
   ]
  },
  {
   "cell_type": "code",
   "execution_count": 173,
   "id": "94efb55d-a3f8-426a-aefb-cdd77b4eb823",
   "metadata": {},
   "outputs": [
    {
     "data": {
      "text/plain": [
       "[(0.35963651099819705,\n",
       "  {Param(parent='DecisionTreeRegressor_21e79f9044f6', name='maxDepth', doc='Maximum depth of the tree. (>= 0) E.g., depth 0 means 1 leaf node; depth 1 means 1 internal node + 2 leaf nodes. Must be in range [0, 30].'): 2,\n",
       "   Param(parent='DecisionTreeRegressor_21e79f9044f6', name='maxBins', doc='Max number of bins for discretizing continuous features.  Must be >=2 and >= number of categories for any categorical feature.'): 10}),\n",
       " (0.31442877258791807,\n",
       "  {Param(parent='DecisionTreeRegressor_21e79f9044f6', name='maxDepth', doc='Maximum depth of the tree. (>= 0) E.g., depth 0 means 1 leaf node; depth 1 means 1 internal node + 2 leaf nodes. Must be in range [0, 30].'): 2,\n",
       "   Param(parent='DecisionTreeRegressor_21e79f9044f6', name='maxBins', doc='Max number of bins for discretizing continuous features.  Must be >=2 and >= number of categories for any categorical feature.'): 20}),\n",
       " (0.3144587914524083,\n",
       "  {Param(parent='DecisionTreeRegressor_21e79f9044f6', name='maxDepth', doc='Maximum depth of the tree. (>= 0) E.g., depth 0 means 1 leaf node; depth 1 means 1 internal node + 2 leaf nodes. Must be in range [0, 30].'): 5,\n",
       "   Param(parent='DecisionTreeRegressor_21e79f9044f6', name='maxBins', doc='Max number of bins for discretizing continuous features.  Must be >=2 and >= number of categories for any categorical feature.'): 10}),\n",
       " (0.2091978120770644,\n",
       "  {Param(parent='DecisionTreeRegressor_21e79f9044f6', name='maxDepth', doc='Maximum depth of the tree. (>= 0) E.g., depth 0 means 1 leaf node; depth 1 means 1 internal node + 2 leaf nodes. Must be in range [0, 30].'): 5,\n",
       "   Param(parent='DecisionTreeRegressor_21e79f9044f6', name='maxBins', doc='Max number of bins for discretizing continuous features.  Must be >=2 and >= number of categories for any categorical feature.'): 20})]"
      ]
     },
     "execution_count": 173,
     "metadata": {},
     "output_type": "execute_result"
    }
   ],
   "source": [
    "list(zip(cvModel2.avgMetrics,paramGrid))"
   ]
  },
  {
   "cell_type": "code",
   "execution_count": 174,
   "id": "230185f2-9583-447a-bcf3-8cafc533ccfe",
   "metadata": {},
   "outputs": [
    {
     "name": "stdout",
     "output_type": "stream",
     "text": [
      "+-----------------+-------------+-------+-------+----------+-----------------+--------------+------------+----+------------------+--------------------+------------------+\n",
      "| log_squareMeters|numberOfRooms|hasYard|hasPool|isNewBuilt|hasStormProtector|hasStorageRoom|hasGuestRoom|made|             label|            features|        prediction|\n",
      "+-----------------+-------------+-------+-------+----------+-----------------+--------------+------------+----+------------------+--------------------+------------------+\n",
      "|4.919980925828125|           32|      0|      1|         0|                1|             0|           9|2021| 9.961808346106483|[4.91998092582812...|11.856070150403994|\n",
      "| 5.43372200355424|           49|      1|      0|         1|                0|             1|           4|2014|10.219698771101882|[5.43372200355424...|12.333520842365552|\n",
      "|5.713732805509369|           75|      0|      0|         1|                1|             1|           1|2021| 10.37243124524755|[5.71373280550936...|11.856070150403994|\n",
      "|5.916202062607435|           29|      1|      0|         1|                0|             1|           8|2008|10.726012511395604|[5.91620206260743...|11.743947216094835|\n",
      "|5.961005339623274|           11|      1|      0|         1|                0|             0|           1|1998|10.711029813886956|[5.96100533962327...|12.310606511124059|\n",
      "+-----------------+-------------+-------+-------+----------+-----------------+--------------+------------+----+------------------+--------------------+------------------+\n",
      "only showing top 5 rows\n",
      "\n"
     ]
    }
   ],
   "source": [
    "cvModel2.transform(test).show(5)"
   ]
  },
  {
   "cell_type": "code",
   "execution_count": 175,
   "id": "bb1b21b8-12d8-427e-bb10-4ce6b7327ee6",
   "metadata": {},
   "outputs": [
    {
     "name": "stdout",
     "output_type": "stream",
     "text": [
      "0.17307739996114538\n"
     ]
    }
   ],
   "source": [
    "test_error=RegressionEvaluator().evaluate(cvModel2.transform(test))\n",
    "print(test_error)"
   ]
  },
  {
   "cell_type": "markdown",
   "id": "3584dd9b-a4f7-4985-98a7-413c6db05097",
   "metadata": {},
   "source": [
    "### Random Forest regression\n",
    "\n",
    "##### Here the data is used for a Random Forest model and price has again been considered as the predicted value. We want to know that if the numeric and binary estimators have any impact on price similar to what is implemented in Decision tree regression. If yes , how good is the prediction. The predictors are same as used in Decision tree."
   ]
  },
  {
   "cell_type": "markdown",
   "id": "3f626f29-5329-447a-af11-ac893a7821e8",
   "metadata": {},
   "source": [
    "#### Relevant packages are imported.Just getting the train , test data again for sanity. "
   ]
  },
  {
   "cell_type": "code",
   "execution_count": 176,
   "id": "00ee1f76-c2e3-419d-882c-87f7fdf5fa67",
   "metadata": {},
   "outputs": [],
   "source": [
    "\n",
    "from pyspark.ml.tuning import CrossValidator, ParamGridBuilder\n",
    "from pyspark.ml.regression import RandomForestRegressor\n",
    "from pyspark.ml import Pipeline\n",
    "from pyspark.ml.feature import StringIndexer, VectorAssembler\n",
    "from pyspark.ml.evaluation import RegressionEvaluator\n"
   ]
  },
  {
   "cell_type": "code",
   "execution_count": 177,
   "id": "6dc1da85-8664-404f-8749-4814a1e6b579",
   "metadata": {},
   "outputs": [],
   "source": [
    "sqlTrans3=SQLTransformer(statement=\"SELECT log(squareMeters) as log_squareMeters,numberOfRooms, hasYard, hasPool,isNewBuilt,hasStormProtector,hasStorageRoom,hasGuestRoom,made,log(price) as label FROM __THIS__\")\n",
    "cols=['log_squareMeters','numberOfRooms','hasYard','hasPool','isNewBuilt','hasStormProtector','hasStorageRoom','hasGuestRoom','made']"
   ]
  },
  {
   "cell_type": "code",
   "execution_count": 178,
   "id": "51980e33-2f3d-4aea-b5af-d73d29635965",
   "metadata": {},
   "outputs": [
    {
     "name": "stdout",
     "output_type": "stream",
     "text": [
      "+-----------------+--------------------+\n",
      "|            label|         features_rf|\n",
      "+-----------------+--------------------+\n",
      "| 9.24120899563865|[4.48863636973214...|\n",
      "|9.577154737800138|[4.70953020131233...|\n",
      "|9.490174227584161|[4.81218435537241...|\n",
      "| 9.64782080951636|[4.85203026391961...|\n",
      "|10.02882862083695|[4.94875989037816...|\n",
      "+-----------------+--------------------+\n",
      "only showing top 5 rows\n",
      "\n"
     ]
    }
   ],
   "source": [
    "assembler3=VectorAssembler(inputCols=cols,outputCol=\"features_rf\",handleInvalid='keep')\n",
    "assembler3.transform(sqlTrans3.transform(train)).select(\"label\",\"features_rf\").show(5)"
   ]
  },
  {
   "cell_type": "markdown",
   "id": "ec1957d8-e29e-459b-871c-ec7bfe286634",
   "metadata": {},
   "source": [
    "##### Random ForestRegressor declared"
   ]
  },
  {
   "cell_type": "code",
   "execution_count": 179,
   "id": "9fd9d0bd-2114-4edb-a3ae-52001c4aa95a",
   "metadata": {},
   "outputs": [],
   "source": [
    "rf = RandomForestRegressor(labelCol = \"label\", featuresCol = \"features_rf\")"
   ]
  },
  {
   "cell_type": "markdown",
   "id": "8a0efbf6-0de4-4170-91b9-133cdc51def9",
   "metadata": {},
   "source": [
    "##### We check a few features from cross validation using ParaGrid and get the best combinations."
   ]
  },
  {
   "cell_type": "code",
   "execution_count": 180,
   "id": "aea958fd-8261-4867-93d9-c21e368074b3",
   "metadata": {},
   "outputs": [],
   "source": [
    "ppl_rf = Pipeline(stages = [sqlTrans3,assembler3, rf])\n",
    "paramGrid = ParamGridBuilder() \\\n",
    "      .addGrid(rf.numTrees, [3,5,10,15,20]) \\\n",
    "      .addGrid(rf.maxDepth, [2, 5, 10]) \\\n",
    "      .build()\n",
    "crossval = CrossValidator(estimator = ppl_rf,estimatorParamMaps=paramGrid,evaluator=RegressionEvaluator(),\n",
    "                          numFolds= 5)\n",
    "cvmodel3 =crossval.fit(train)"
   ]
  },
  {
   "cell_type": "markdown",
   "id": "de5fb6f6-636f-4f78-91c9-47ee24f1bc4d",
   "metadata": {},
   "source": [
    "##### Getting training metrics, predictions and test error (RMSE)"
   ]
  },
  {
   "cell_type": "code",
   "execution_count": 181,
   "id": "ca8e0985-87b8-4875-a848-307b0c5b0c4e",
   "metadata": {},
   "outputs": [
    {
     "data": {
      "text/plain": [
       "[(0.7226276582625989,\n",
       "  {Param(parent='RandomForestRegressor_2405fab7c958', name='numTrees', doc='Number of trees to train (>= 1).'): 3,\n",
       "   Param(parent='RandomForestRegressor_2405fab7c958', name='maxDepth', doc='Maximum depth of the tree. (>= 0) E.g., depth 0 means 1 leaf node; depth 1 means 1 internal node + 2 leaf nodes. Must be in range [0, 30].'): 2}),\n",
       " (0.3904229605082091,\n",
       "  {Param(parent='RandomForestRegressor_2405fab7c958', name='numTrees', doc='Number of trees to train (>= 1).'): 3,\n",
       "   Param(parent='RandomForestRegressor_2405fab7c958', name='maxDepth', doc='Maximum depth of the tree. (>= 0) E.g., depth 0 means 1 leaf node; depth 1 means 1 internal node + 2 leaf nodes. Must be in range [0, 30].'): 5}),\n",
       " (0.2365808698009432,\n",
       "  {Param(parent='RandomForestRegressor_2405fab7c958', name='numTrees', doc='Number of trees to train (>= 1).'): 3,\n",
       "   Param(parent='RandomForestRegressor_2405fab7c958', name='maxDepth', doc='Maximum depth of the tree. (>= 0) E.g., depth 0 means 1 leaf node; depth 1 means 1 internal node + 2 leaf nodes. Must be in range [0, 30].'): 10}),\n",
       " (0.7601576249419355,\n",
       "  {Param(parent='RandomForestRegressor_2405fab7c958', name='numTrees', doc='Number of trees to train (>= 1).'): 5,\n",
       "   Param(parent='RandomForestRegressor_2405fab7c958', name='maxDepth', doc='Maximum depth of the tree. (>= 0) E.g., depth 0 means 1 leaf node; depth 1 means 1 internal node + 2 leaf nodes. Must be in range [0, 30].'): 2}),\n",
       " (0.39476442881404294,\n",
       "  {Param(parent='RandomForestRegressor_2405fab7c958', name='numTrees', doc='Number of trees to train (>= 1).'): 5,\n",
       "   Param(parent='RandomForestRegressor_2405fab7c958', name='maxDepth', doc='Maximum depth of the tree. (>= 0) E.g., depth 0 means 1 leaf node; depth 1 means 1 internal node + 2 leaf nodes. Must be in range [0, 30].'): 5}),\n",
       " (0.23683023775649556,\n",
       "  {Param(parent='RandomForestRegressor_2405fab7c958', name='numTrees', doc='Number of trees to train (>= 1).'): 5,\n",
       "   Param(parent='RandomForestRegressor_2405fab7c958', name='maxDepth', doc='Maximum depth of the tree. (>= 0) E.g., depth 0 means 1 leaf node; depth 1 means 1 internal node + 2 leaf nodes. Must be in range [0, 30].'): 10}),\n",
       " (0.7149641034269933,\n",
       "  {Param(parent='RandomForestRegressor_2405fab7c958', name='numTrees', doc='Number of trees to train (>= 1).'): 10,\n",
       "   Param(parent='RandomForestRegressor_2405fab7c958', name='maxDepth', doc='Maximum depth of the tree. (>= 0) E.g., depth 0 means 1 leaf node; depth 1 means 1 internal node + 2 leaf nodes. Must be in range [0, 30].'): 2}),\n",
       " (0.3794841105001144,\n",
       "  {Param(parent='RandomForestRegressor_2405fab7c958', name='numTrees', doc='Number of trees to train (>= 1).'): 10,\n",
       "   Param(parent='RandomForestRegressor_2405fab7c958', name='maxDepth', doc='Maximum depth of the tree. (>= 0) E.g., depth 0 means 1 leaf node; depth 1 means 1 internal node + 2 leaf nodes. Must be in range [0, 30].'): 5}),\n",
       " (0.21060008915772815,\n",
       "  {Param(parent='RandomForestRegressor_2405fab7c958', name='numTrees', doc='Number of trees to train (>= 1).'): 10,\n",
       "   Param(parent='RandomForestRegressor_2405fab7c958', name='maxDepth', doc='Maximum depth of the tree. (>= 0) E.g., depth 0 means 1 leaf node; depth 1 means 1 internal node + 2 leaf nodes. Must be in range [0, 30].'): 10}),\n",
       " (0.664043572675618,\n",
       "  {Param(parent='RandomForestRegressor_2405fab7c958', name='numTrees', doc='Number of trees to train (>= 1).'): 15,\n",
       "   Param(parent='RandomForestRegressor_2405fab7c958', name='maxDepth', doc='Maximum depth of the tree. (>= 0) E.g., depth 0 means 1 leaf node; depth 1 means 1 internal node + 2 leaf nodes. Must be in range [0, 30].'): 2}),\n",
       " (0.3482957256101822,\n",
       "  {Param(parent='RandomForestRegressor_2405fab7c958', name='numTrees', doc='Number of trees to train (>= 1).'): 15,\n",
       "   Param(parent='RandomForestRegressor_2405fab7c958', name='maxDepth', doc='Maximum depth of the tree. (>= 0) E.g., depth 0 means 1 leaf node; depth 1 means 1 internal node + 2 leaf nodes. Must be in range [0, 30].'): 5}),\n",
       " (0.18868743106224434,\n",
       "  {Param(parent='RandomForestRegressor_2405fab7c958', name='numTrees', doc='Number of trees to train (>= 1).'): 15,\n",
       "   Param(parent='RandomForestRegressor_2405fab7c958', name='maxDepth', doc='Maximum depth of the tree. (>= 0) E.g., depth 0 means 1 leaf node; depth 1 means 1 internal node + 2 leaf nodes. Must be in range [0, 30].'): 10}),\n",
       " (0.6466771152526052,\n",
       "  {Param(parent='RandomForestRegressor_2405fab7c958', name='numTrees', doc='Number of trees to train (>= 1).'): 20,\n",
       "   Param(parent='RandomForestRegressor_2405fab7c958', name='maxDepth', doc='Maximum depth of the tree. (>= 0) E.g., depth 0 means 1 leaf node; depth 1 means 1 internal node + 2 leaf nodes. Must be in range [0, 30].'): 2}),\n",
       " (0.3221462021178764,\n",
       "  {Param(parent='RandomForestRegressor_2405fab7c958', name='numTrees', doc='Number of trees to train (>= 1).'): 20,\n",
       "   Param(parent='RandomForestRegressor_2405fab7c958', name='maxDepth', doc='Maximum depth of the tree. (>= 0) E.g., depth 0 means 1 leaf node; depth 1 means 1 internal node + 2 leaf nodes. Must be in range [0, 30].'): 5}),\n",
       " (0.1830826045964994,\n",
       "  {Param(parent='RandomForestRegressor_2405fab7c958', name='numTrees', doc='Number of trees to train (>= 1).'): 20,\n",
       "   Param(parent='RandomForestRegressor_2405fab7c958', name='maxDepth', doc='Maximum depth of the tree. (>= 0) E.g., depth 0 means 1 leaf node; depth 1 means 1 internal node + 2 leaf nodes. Must be in range [0, 30].'): 10})]"
      ]
     },
     "execution_count": 181,
     "metadata": {},
     "output_type": "execute_result"
    }
   ],
   "source": [
    "list(zip(cvmodel3.avgMetrics,paramGrid))"
   ]
  },
  {
   "cell_type": "code",
   "execution_count": 182,
   "id": "fd0e7cf2-9e68-4fd9-b519-75fed794feda",
   "metadata": {},
   "outputs": [
    {
     "name": "stdout",
     "output_type": "stream",
     "text": [
      "+-----------------+-------------+-------+-------+----------+-----------------+--------------+------------+----+------------------+--------------------+------------------+\n",
      "| log_squareMeters|numberOfRooms|hasYard|hasPool|isNewBuilt|hasStormProtector|hasStorageRoom|hasGuestRoom|made|             label|         features_rf|        prediction|\n",
      "+-----------------+-------------+-------+-------+----------+-----------------+--------------+------------+----+------------------+--------------------+------------------+\n",
      "|4.919980925828125|           32|      0|      1|         0|                1|             0|           9|2021| 9.961808346106483|[4.91998092582812...| 11.36418707967371|\n",
      "| 5.43372200355424|           49|      1|      0|         1|                0|             1|           4|2014|10.219698771101882|[5.43372200355424...|12.231771422264517|\n",
      "|5.713732805509369|           75|      0|      0|         1|                1|             1|           1|2021| 10.37243124524755|[5.71373280550936...| 12.19086635981228|\n",
      "|5.916202062607435|           29|      1|      0|         1|                0|             1|           8|2008|10.726012511395604|[5.91620206260743...|12.005942886520023|\n",
      "|5.961005339623274|           11|      1|      0|         1|                0|             0|           1|1998|10.711029813886956|[5.96100533962327...|12.209356724051997|\n",
      "+-----------------+-------------+-------+-------+----------+-----------------+--------------+------------+----+------------------+--------------------+------------------+\n",
      "only showing top 5 rows\n",
      "\n"
     ]
    }
   ],
   "source": [
    "cvmodel3.transform(test).show(5)"
   ]
  },
  {
   "cell_type": "code",
   "execution_count": 183,
   "id": "9c8b8724-b0c7-4f7e-86e6-01f8b0ae41f1",
   "metadata": {},
   "outputs": [
    {
     "name": "stdout",
     "output_type": "stream",
     "text": [
      "0.15819254747400946\n"
     ]
    }
   ],
   "source": [
    "test_error=RegressionEvaluator().evaluate(cvmodel3.transform(test))\n",
    "print(test_error)"
   ]
  },
  {
   "cell_type": "markdown",
   "id": "7072c152-fdd1-4466-a2fb-960ea837d354",
   "metadata": {},
   "source": [
    "### Model Comparison and Results."
   ]
  },
  {
   "cell_type": "markdown",
   "id": "987ee45a-9286-4622-9ecc-b828c29ffd89",
   "metadata": {},
   "source": [
    "#### Linear regression with Polynomial fit."
   ]
  },
  {
   "cell_type": "code",
   "execution_count": 188,
   "id": "f47b7c18-7d58-4109-b35b-cef5108d7f79",
   "metadata": {},
   "outputs": [
    {
     "name": "stdout",
     "output_type": "stream",
     "text": [
      "+-----------------+-------+-------------+------------------+----------------------------+--------------------------------------------------------------------------------------------------+------------------+\n",
      "|log_squareMeters |hasYard|numberOfRooms|label             |features                    |polyFeatures                                                                                      |prediction        |\n",
      "+-----------------+-------+-------------+------------------+----------------------------+--------------------------------------------------------------------------------------------------+------------------+\n",
      "|4.919980925828125|0      |32           |9.961808346106483 |[4.919980925828125,0.0,32.0]|[4.919980925828125,24.206212310512576,0.0,0.0,0.0,32.0,157.4393896265,0.0,1024.0]                 |9.712221631150872 |\n",
      "|5.43372200355424 |1      |49           |10.219698771101882|[5.43372200355424,1.0,49.0] |[5.43372200355424,29.525334811909502,1.0,5.43372200355424,1.0,49.0,266.25237817415774,49.0,2401.0]|10.213601825366688|\n",
      "|5.713732805509369|0      |75           |10.37243124524755 |[5.713732805509369,0.0,75.0]|[5.713732805509369,32.646742572753965,0.0,0.0,0.0,75.0,428.5299604132027,0.0,5625.0]              |10.454193425760238|\n",
      "|5.916202062607435|1      |29           |10.726012511395604|[5.916202062607435,1.0,29.0]|[5.916202062607435,35.00144684560047,1.0,5.916202062607435,1.0,29.0,171.56985981561562,29.0,841.0]|10.663535542200577|\n",
      "|5.961005339623274|1      |11           |10.711029813886956|[5.961005339623274,1.0,11.0]|[5.961005339623274,35.53358465901718,1.0,5.961005339623274,1.0,11.0,65.57105873585601,11.0,121.0] |10.705074496167782|\n",
      "+-----------------+-------+-------------+------------------+----------------------------+--------------------------------------------------------------------------------------------------+------------------+\n",
      "only showing top 5 rows\n",
      "\n",
      "+------------------+----------------------------------------------------------------------------------------------------+\n",
      "|label             |polyFeatures                                                                                        |\n",
      "+------------------+----------------------------------------------------------------------------------------------------+\n",
      "|9.961808346106483 |[4.919980925828125,24.206212310512576,0.0,0.0,0.0,32.0,157.4393896265,0.0,1024.0]                   |\n",
      "|10.219698771101882|[5.43372200355424,29.525334811909502,1.0,5.43372200355424,1.0,49.0,266.25237817415774,49.0,2401.0]  |\n",
      "|10.37243124524755 |[5.713732805509369,32.646742572753965,0.0,0.0,0.0,75.0,428.5299604132027,0.0,5625.0]                |\n",
      "|10.726012511395604|[5.916202062607435,35.00144684560047,1.0,5.916202062607435,1.0,29.0,171.56985981561562,29.0,841.0]  |\n",
      "|10.711029813886956|[5.961005339623274,35.53358465901718,1.0,5.961005339623274,1.0,11.0,65.57105873585601,11.0,121.0]   |\n",
      "|10.68155016512684 |[5.963579343618446,35.564278587632614,0.0,0.0,0.0,28.0,166.98022162131647,0.0,784.0]                |\n",
      "|10.77828106197496 |[6.131226489483141,37.59193826533976,0.0,0.0,0.0,62.0,380.13604234795474,0.0,3844.0]                |\n",
      "|10.873563571203928|[6.142037405587356,37.724623491634254,1.0,6.142037405587356,1.0,54.0,331.67001990171724,54.0,2916.0]|\n",
      "|10.971298650851429|[6.144185634125646,37.75101710659596,1.0,6.144185634125646,1.0,83.0,509.9674076324286,83.0,6889.0]  |\n",
      "|11.037569939844461|[6.278521424165844,39.4198312737095,1.0,6.278521424165844,1.0,84.0,527.3957996299309,84.0,7056.0]   |\n",
      "|11.087149990688314|[6.331501849893691,40.08791567520723,0.0,0.0,0.0,95.0,601.4926757399006,0.0,9025.0]                 |\n",
      "|11.107408355510017|[6.405228458030842,41.02695159956816,1.0,6.405228458030842,1.0,12.0,76.8627414963701,12.0,144.0]    |\n",
      "|11.345305311029167|[6.5998704992128365,43.5582906063799,1.0,6.5998704992128365,1.0,66.0,435.5914529480472,66.0,4356.0] |\n",
      "|11.37834552280973 |[6.705639094860003,44.96559567051488,0.0,0.0,0.0,80.0,536.4511275888002,0.0,6400.0]                 |\n",
      "|11.422272921517951|[6.7226297948554485,45.19375135867821,0.0,0.0,0.0,46.0,309.24097056335063,0.0,2116.0]               |\n",
      "|11.43151256901732 |[6.731018100482083,45.306604669017425,1.0,6.731018100482083,1.0,30.0,201.93054301446247,30.0,900.0] |\n",
      "|11.559119882149151|[6.829793737512425,46.646082496963935,1.0,6.829793737512425,1.0,94.0,642.0006113261679,94.0,8836.0] |\n",
      "|11.526246346753071|[6.889591308354466,47.4664683961534,0.0,0.0,0.0,83.0,571.8360785934207,0.0,6889.0]                  |\n",
      "|11.590162393971726|[6.960347729101308,48.446440510005736,1.0,6.960347729101308,1.0,53.0,368.8984296423693,53.0,2809.0] |\n",
      "|11.699348598785258|[6.982862751468942,48.760372205852406,1.0,6.982862751468942,1.0,27.0,188.53729428966145,27.0,729.0] |\n",
      "+------------------+----------------------------------------------------------------------------------------------------+\n",
      "only showing top 20 rows\n",
      "\n",
      "Linear Regression R2 0.9999151534115953\n",
      "Linear Regression RMSE 0.008945133313898368\n",
      "SQLTransformer_dd756d526e15\n",
      "VectorAssembler_3f01cc618e3a\n",
      "PolynomialExpansion_a4451fc0ee30\n",
      "LinearRegressionModel: uid=LinearRegression_1f01375dd27c, numFeatures=9\n"
     ]
    }
   ],
   "source": [
    "predictions_lr =cvModel.transform(test)\n",
    "predictions_lr.show(5,truncate=False)\n",
    "from pyspark.mllib.evaluation import MulticlassMetrics\n",
    "pred=predictions_lr.select(['label', 'polyFeatures']) \n",
    "pred.show(truncate=False)\n",
    "multi_evaluator_lr_R2 = RegressionEvaluator(predictionCol=\"prediction\",labelCol = 'label',metricName=\"r2\")\n",
    "print('Linear Regression R2', multi_evaluator_lr_R2.evaluate(predictions_lr))\n",
    "multi_evaluator_lr_RMSE = RegressionEvaluator(predictionCol=\"prediction\", labelCol=\"label\", metricName=\"rmse\")\n",
    "print('Linear Regression RMSE',multi_evaluator_lr_RMSE.evaluate(predictions_lr))\n",
    "bestModel= cvModel.bestModel\n",
    "for x in range(len(bestModel.stages)):\n",
    "    print(bestModel.stages[x])"
   ]
  },
  {
   "cell_type": "markdown",
   "id": "786f21b2-1814-4ba3-9619-ecd97d27a812",
   "metadata": {},
   "source": [
    "#### Decision Tree Regression"
   ]
  },
  {
   "cell_type": "code",
   "execution_count": 190,
   "id": "5168d212-8809-48c9-98a6-d7378accdc5d",
   "metadata": {},
   "outputs": [
    {
     "name": "stdout",
     "output_type": "stream",
     "text": [
      "+-----------------+-------------+-------+-------+----------+-----------------+--------------+------------+----+------------------+-------------------------------------------------------+------------------+\n",
      "|log_squareMeters |numberOfRooms|hasYard|hasPool|isNewBuilt|hasStormProtector|hasStorageRoom|hasGuestRoom|made|label             |features                                               |prediction        |\n",
      "+-----------------+-------------+-------+-------+----------+-----------------+--------------+------------+----+------------------+-------------------------------------------------------+------------------+\n",
      "|4.919980925828125|32           |0      |1      |0         |1                |0             |9           |2021|9.961808346106483 |[4.919980925828125,32.0,0.0,1.0,0.0,1.0,0.0,9.0,2021.0]|11.856070150403994|\n",
      "|5.43372200355424 |49           |1      |0      |1         |0                |1             |4           |2014|10.219698771101882|[5.43372200355424,49.0,1.0,0.0,1.0,0.0,1.0,4.0,2014.0] |12.333520842365552|\n",
      "|5.713732805509369|75           |0      |0      |1         |1                |1             |1           |2021|10.37243124524755 |[5.713732805509369,75.0,0.0,0.0,1.0,1.0,1.0,1.0,2021.0]|11.856070150403994|\n",
      "|5.916202062607435|29           |1      |0      |1         |0                |1             |8           |2008|10.726012511395604|[5.916202062607435,29.0,1.0,0.0,1.0,0.0,1.0,8.0,2008.0]|11.743947216094835|\n",
      "|5.961005339623274|11           |1      |0      |1         |0                |0             |1           |1998|10.711029813886956|[5.961005339623274,11.0,1.0,0.0,1.0,0.0,0.0,1.0,1998.0]|12.310606511124059|\n",
      "+-----------------+-------------+-------+-------+----------+-----------------+--------------+------------+----+------------------+-------------------------------------------------------+------------------+\n",
      "only showing top 5 rows\n",
      "\n",
      "Decision Tree Regression R2 0.9682355401667694\n",
      "Decision Tree Regression RMSE 0.17307739996114538\n",
      "SQLTransformer_6cc936a47a1d\n",
      "VectorAssembler_268a75e4907d\n",
      "DecisionTreeRegressionModel: uid=DecisionTreeRegressor_21e79f9044f6, depth=5, numNodes=63, numFeatures=9\n"
     ]
    }
   ],
   "source": [
    "predictions_tree =cvModel2.transform(test)\n",
    "predictions_tree.show(5,truncate=False)\n",
    "multi_evaluator_tree_R2 = RegressionEvaluator(predictionCol=\"prediction\",labelCol = 'label',metricName=\"r2\")\n",
    "print('Decision Tree Regression R2', multi_evaluator_tree_R2.evaluate(predictions_tree))\n",
    "multi_evaluator_tree_RMSE = RegressionEvaluator(predictionCol=\"prediction\", labelCol=\"label\", metricName=\"rmse\")\n",
    "print('Decision Tree Regression RMSE',multi_evaluator_tree_RMSE.evaluate(predictions_tree))\n",
    "bestModel2= cvModel2.bestModel\n",
    "for x in range(len(bestModel2.stages)):\n",
    "    print(bestModel2.stages[x])"
   ]
  },
  {
   "cell_type": "markdown",
   "id": "549ff788-2be5-4957-87e7-e3d10f297f81",
   "metadata": {},
   "source": [
    "#### Random Forest Regression"
   ]
  },
  {
   "cell_type": "code",
   "execution_count": 191,
   "id": "025a9192-7931-4fa8-9089-b7c04b24fab2",
   "metadata": {},
   "outputs": [
    {
     "name": "stdout",
     "output_type": "stream",
     "text": [
      "+-----------------+-------------+-------+-------+----------+-----------------+--------------+------------+----+------------------+--------------------+------------------+\n",
      "| log_squareMeters|numberOfRooms|hasYard|hasPool|isNewBuilt|hasStormProtector|hasStorageRoom|hasGuestRoom|made|             label|         features_rf|        prediction|\n",
      "+-----------------+-------------+-------+-------+----------+-----------------+--------------+------------+----+------------------+--------------------+------------------+\n",
      "|4.919980925828125|           32|      0|      1|         0|                1|             0|           9|2021| 9.961808346106483|[4.91998092582812...| 11.36418707967371|\n",
      "| 5.43372200355424|           49|      1|      0|         1|                0|             1|           4|2014|10.219698771101882|[5.43372200355424...|12.231771422264517|\n",
      "|5.713732805509369|           75|      0|      0|         1|                1|             1|           1|2021| 10.37243124524755|[5.71373280550936...| 12.19086635981228|\n",
      "|5.916202062607435|           29|      1|      0|         1|                0|             1|           8|2008|10.726012511395604|[5.91620206260743...|12.005942886520023|\n",
      "|5.961005339623274|           11|      1|      0|         1|                0|             0|           1|1998|10.711029813886956|[5.96100533962327...|12.209356724051997|\n",
      "+-----------------+-------------+-------+-------+----------+-----------------+--------------+------------+----+------------------+--------------------+------------------+\n",
      "only showing top 5 rows\n",
      "\n",
      "Random Forest Regression R2 0.9734641630991672\n",
      "Random Forest Regression RMSE 0.15819254747400946\n",
      "SQLTransformer_35ba13aa1f09\n",
      "VectorAssembler_dcd4060bbf2c\n",
      "RandomForestRegressionModel: uid=RandomForestRegressor_2405fab7c958, numTrees=20, numFeatures=9\n"
     ]
    }
   ],
   "source": [
    "predictions_rf = cvmodel3.transform(test)\n",
    "predictions_rf.show(5)\n",
    "multi_evaluator_rf_R2 = RegressionEvaluator(predictionCol=\"prediction\",labelCol = 'label',metricName=\"r2\")\n",
    "print('Random Forest Regression R2', multi_evaluator_rf_R2.evaluate(predictions_rf))\n",
    "multi_evaluator_rf_RMSE = RegressionEvaluator(predictionCol=\"prediction\", labelCol=\"label\", metricName=\"rmse\")\n",
    "print('Random Forest Regression RMSE',multi_evaluator_rf_RMSE.evaluate(predictions_rf))\n",
    "bestModel_rf= cvmodel3.bestModel\n",
    "for x in range(len(bestModel_rf.stages)):\n",
    "    print(bestModel_rf.stages[x])"
   ]
  },
  {
   "cell_type": "code",
   "execution_count": 197,
   "id": "20cfced5-54c4-4efb-b4e2-1c87ba32c6f2",
   "metadata": {},
   "outputs": [
    {
     "name": "stdout",
     "output_type": "stream",
     "text": [
      "+--------------------+------------------+--------------------+\n",
      "|               Model|                R2|                RMSE|\n",
      "+--------------------+------------------+--------------------+\n",
      "|   Linear Regression|0.9999151534115953|0.008945133313898368|\n",
      "|Decision Tree Reg...|0.9682355401667694| 0.17307739996114538|\n",
      "|Random Forest Reg...|0.9734641630991672| 0.15819254747400946|\n",
      "+--------------------+------------------+--------------------+\n",
      "\n"
     ]
    }
   ],
   "source": [
    "sum=spark.createDataFrame([[\"Linear Regression\", multi_evaluator_lr_R2.evaluate(predictions_lr), multi_evaluator_lr_RMSE.evaluate(predictions_lr)], \n",
    "       [\"Decision Tree Regression\", multi_evaluator_tree_R2.evaluate(predictions_tree), multi_evaluator_tree_RMSE.evaluate(predictions_tree) ],\n",
    "      [\"Random Forest Regression\", multi_evaluator_rf_R2.evaluate(predictions_rf),multi_evaluator_rf_RMSE.evaluate(predictions_rf)]], schema=['Model', 'R2', 'RMSE'])\n",
    "     \n",
    "sum.show()"
   ]
  },
  {
   "cell_type": "markdown",
   "id": "babfdde9-e820-4f35-bf15-0fb00281eb79",
   "metadata": {},
   "source": [
    "#### Observation"
   ]
  },
  {
   "cell_type": "markdown",
   "id": "5b50439c-a53b-4db7-95eb-c3998b47953f",
   "metadata": {},
   "source": [
    "##### Clearly, the Linear regression with polynomial Expansion is the best model in terms of both R2 and RMSE. The Decision Tree and Random Forest Model gave almost similar results with the additional set of predictors. It is clear from this assessment that for Paris Housing Data , the price of the houses is mostly determined by the area, and other variables do not have significant affect."
   ]
  },
  {
   "cell_type": "code",
   "execution_count": null,
   "id": "e72d3872-bea2-4d76-b090-3558cfbe3c5f",
   "metadata": {},
   "outputs": [],
   "source": []
  }
 ],
 "metadata": {
  "kernelspec": {
   "display_name": "Python 3 (ipykernel)",
   "language": "python",
   "name": "python3"
  },
  "language_info": {
   "codemirror_mode": {
    "name": "ipython",
    "version": 3
   },
   "file_extension": ".py",
   "mimetype": "text/x-python",
   "name": "python",
   "nbconvert_exporter": "python",
   "pygments_lexer": "ipython3",
   "version": "3.10.4"
  },
  "toc-autonumbering": false
 },
 "nbformat": 4,
 "nbformat_minor": 5
}
