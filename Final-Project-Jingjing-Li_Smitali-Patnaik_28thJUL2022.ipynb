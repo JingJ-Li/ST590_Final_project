{
 "cells": [
  {
   "cell_type": "markdown",
   "id": "1b1d0085-baf8-4e20-827a-e6e84a3fdfe2",
   "metadata": {},
   "source": [
    "# Final-Project-Jingjing-Li_Smitali-Patnaik"
   ]
  },
  {
   "cell_type": "markdown",
   "id": "ee5c24fa-24b5-4e0a-a93c-5a8328d92bd0",
   "metadata": {
    "tags": [],
    "toc-hr-collapsed": true
   },
   "source": [
    "## Introduction"
   ]
  },
  {
   "cell_type": "markdown",
   "id": "beeec65a-5501-4a4a-b526-4aab6c322b74",
   "metadata": {},
   "source": [
    "## Supervised Learning Idea and Data Split"
   ]
  },
  {
   "cell_type": "code",
   "execution_count": 331,
   "id": "392f88c5-1895-4fe9-b9a8-2809cae40d9b",
   "metadata": {},
   "outputs": [],
   "source": [
    "# Prepare the environment for Windows operation systems\n",
    "import os\n",
    "import sys\n",
    "os.environ['PYSPARK_PYTHON'] = sys.executable\n",
    "os.environ['PYSPARK_DRIVER_PYTHON'] = sys.executable\n",
    "\n",
    "# Import the modules\n",
    "import pandas as pd\n",
    "import matplotlib.pyplot as plt\n",
    "import pyspark.pandas as ps\n",
    "from pyspark.sql import SparkSession\n",
    "from pyspark import SparkFiles\n",
    "from sklearn.model_selection import train_test_split, GridSearchCV,cross_validate\n",
    "from math import *\n",
    "# Create a new Spark session\n",
    "spark = SparkSession.builder.getOrCreate()\n",
    "\n",
    "# Configurate the Spark session\n",
    "ps.set_option(\"compute.default_index_type\", \"distributed\")\n",
    "spark.conf.set(\"spark.sql.execution.arrow.pyspark.enabled\", True)"
   ]
  },
  {
   "cell_type": "code",
   "execution_count": 332,
   "id": "ae689390-ec52-4857-b49e-8c3cd280ab9c",
   "metadata": {},
   "outputs": [
    {
     "name": "stdout",
     "output_type": "stream",
     "text": [
      "+------------+-------------+-------+-------+------+--------+-------------+-------------+----+----------+-----------------+--------+-----+------+--------------+------------+---------+\n",
      "|squareMeters|numberOfRooms|hasYard|hasPool|floors|cityCode|cityPartRange|numPrevOwners|made|isNewBuilt|hasStormProtector|basement|attic|garage|hasStorageRoom|hasGuestRoom|    price|\n",
      "+------------+-------------+-------+-------+------+--------+-------------+-------------+----+----------+-----------------+--------+-----+------+--------------+------------+---------+\n",
      "|       75523|            3|      0|      1|    63|    9373|            3|            8|2005|         0|                1|    4313| 9005|   956|             0|           7|7559081.5|\n",
      "|       80771|           39|      1|      1|    98|   39381|            8|            6|2015|         1|                0|    3653| 2436|   128|             1|           2|8085989.5|\n",
      "|       55712|           58|      0|      1|    19|   34457|            6|            8|2021|         0|                0|    2937| 8852|   135|             1|           9|5574642.1|\n",
      "|       32316|           47|      0|      0|     6|   27939|           10|            4|2012|         0|                1|     659| 7141|   359|             0|           3|3232561.2|\n",
      "|       70429|           19|      1|      1|    90|   38045|            3|            7|1990|         1|                0|    8435| 2429|   292|             1|           4|7055052.0|\n",
      "+------------+-------------+-------+-------+------+--------+-------------+-------------+----+----------+-----------------+--------+-----+------+--------------+------------+---------+\n",
      "only showing top 5 rows\n",
      "\n"
     ]
    }
   ],
   "source": [
    "# Read in data \n",
    "spdf=spark.read.load(\"C:/Users/smipa/Downloads/ParisHousing.csv\",\n",
    "                     format=\"csv\",sep=\",\", inferSchema=\"true\", header=\"true\")\n",
    "spdf.show(5)"
   ]
  },
  {
   "cell_type": "markdown",
   "id": "3667a997-3101-45f9-b827-287a4d98ee10",
   "metadata": {},
   "source": [
    "#### Splitting the priec ecolumn into categories. We have used 3 categories here for the price. \n",
    "#### '0' represents \"Low Price\"\n",
    "#### '1' represents \"Medium Price\"\n",
    "#### '2' represents \"High Price\"\n",
    "\n"
   ]
  },
  {
   "cell_type": "code",
   "execution_count": 3,
   "id": "292e5728-e0b5-4f58-b3fb-a8920289178e",
   "metadata": {},
   "outputs": [
    {
     "name": "stdout",
     "output_type": "stream",
     "text": [
      "+------------+-------------+-------+-------+------+--------+-------------+-------------+----+----------+-----------------+--------+-----+------+--------------+------------+---------+---------+\n",
      "|squareMeters|numberOfRooms|hasYard|hasPool|floors|cityCode|cityPartRange|numPrevOwners|made|isNewBuilt|hasStormProtector|basement|attic|garage|hasStorageRoom|hasGuestRoom|    price|cat_price|\n",
      "+------------+-------------+-------+-------+------+--------+-------------+-------------+----+----------+-----------------+--------+-----+------+--------------+------------+---------+---------+\n",
      "|       75523|            3|      0|      1|    63|    9373|            3|            8|2005|         0|                1|    4313| 9005|   956|             0|           7|7559081.5|        2|\n",
      "|       80771|           39|      1|      1|    98|   39381|            8|            6|2015|         1|                0|    3653| 2436|   128|             1|           2|8085989.5|        2|\n",
      "|       55712|           58|      0|      1|    19|   34457|            6|            8|2021|         0|                0|    2937| 8852|   135|             1|           9|5574642.1|        2|\n",
      "|       32316|           47|      0|      0|     6|   27939|           10|            4|2012|         0|                1|     659| 7141|   359|             0|           3|3232561.2|        1|\n",
      "|       70429|           19|      1|      1|    90|   38045|            3|            7|1990|         1|                0|    8435| 2429|   292|             1|           4|7055052.0|        2|\n",
      "+------------+-------------+-------+-------+------+--------+-------------+-------------+----+----------+-----------------+--------+-----+------+--------------+------------+---------+---------+\n",
      "only showing top 5 rows\n",
      "\n"
     ]
    }
   ],
   "source": [
    "from pyspark.sql.functions import when\n",
    "quantiles = spdf.approxQuantile(\"price\", [0.25, 0.5, 0.75], 0)\n",
    "spdf = spdf.withColumn(\"cat_price\", when(spdf.price <= quantiles[0] ,0) \\\n",
    "      .when((spdf.price > quantiles[0]) & (spdf.price <= quantiles[1] ),1) \\\n",
    "      .otherwise(2))\n",
    "spdf.show(5)"
   ]
  },
  {
   "cell_type": "markdown",
   "id": "22fe4d1f-7ac2-4e5c-a187-3dda06077ff9",
   "metadata": {},
   "source": [
    "Then, we split data into two parts for train and test respectively."
   ]
  },
  {
   "cell_type": "code",
   "execution_count": 4,
   "id": "7a9dd013-19d1-4623-9a78-1e42398ed632",
   "metadata": {},
   "outputs": [],
   "source": [
    "# Split data\n",
    "train, test = spdf.randomSplit(weights=[0.8,0.2], seed=200)"
   ]
  },
  {
   "cell_type": "code",
   "execution_count": 5,
   "id": "6c75993c-0a0c-4d22-9dce-4f00ff7b145e",
   "metadata": {},
   "outputs": [
    {
     "name": "stdout",
     "output_type": "stream",
     "text": [
      "+------------+-------------+-------+-------+------+--------+-------------+-------------+----+----------+-----------------+--------+-----+------+--------------+------------+-------+---------+\n",
      "|squareMeters|numberOfRooms|hasYard|hasPool|floors|cityCode|cityPartRange|numPrevOwners|made|isNewBuilt|hasStormProtector|basement|attic|garage|hasStorageRoom|hasGuestRoom|  price|cat_price|\n",
      "+------------+-------------+-------+-------+------+--------+-------------+-------------+----+----------+-----------------+--------+-----+------+--------------+------------+-------+---------+\n",
      "|          89|           33|      0|      0|    72|   61648|            3|            4|1995|         0|                1|    3114| 1258|   264|             1|           9|10313.5|        0|\n",
      "|         111|           32|      0|      1|    34|   80623|            1|            4|2003|         1|                0|    2239| 2795|   951|             1|           7|14431.3|        0|\n",
      "|         123|           61|      0|      0|     1|   33633|            9|            1|2011|         0|                1|    9390| 6219|   922|             0|           9|13229.1|        0|\n",
      "|         128|           38|      0|      1|     6|    8862|            6|            2|1990|         0|                0|    6861| 5769|   442|             0|           5|15488.0|        0|\n",
      "|         141|           16|      0|      1|    58|   42248|            5|            4|1997|         1|                0|    3411| 8985|   213|             0|           4|22670.7|        0|\n",
      "+------------+-------------+-------+-------+------+--------+-------------+-------------+----+----------+-----------------+--------+-----+------+--------------+------------+-------+---------+\n",
      "only showing top 5 rows\n",
      "\n"
     ]
    }
   ],
   "source": [
    "train.show(5)"
   ]
  },
  {
   "cell_type": "code",
   "execution_count": null,
   "id": "64ac8c3a-0664-41bf-9329-0932f792e096",
   "metadata": {},
   "outputs": [],
   "source": []
  },
  {
   "cell_type": "code",
   "execution_count": 6,
   "id": "cce869ad-5565-4842-86f0-c92f897e7aa2",
   "metadata": {},
   "outputs": [
    {
     "name": "stdout",
     "output_type": "stream",
     "text": [
      "+------------+-------------+-------+-------+------+--------+-------------+-------------+----+----------+-----------------+--------+-----+------+--------------+------------+-------+---------+\n",
      "|squareMeters|numberOfRooms|hasYard|hasPool|floors|cityCode|cityPartRange|numPrevOwners|made|isNewBuilt|hasStormProtector|basement|attic|garage|hasStorageRoom|hasGuestRoom|  price|cat_price|\n",
      "+------------+-------------+-------+-------+------+--------+-------------+-------------+----+----------+-----------------+--------+-----+------+--------------+------------+-------+---------+\n",
      "|          89|           33|      0|      0|    72|   61648|            3|            4|1995|         0|                1|    3114| 1258|   264|             1|           9|10313.5|        0|\n",
      "|         111|           32|      0|      1|    34|   80623|            1|            4|2003|         1|                0|    2239| 2795|   951|             1|           7|14431.3|        0|\n",
      "|         123|           61|      0|      0|     1|   33633|            9|            1|2011|         0|                1|    9390| 6219|   922|             0|           9|13229.1|        0|\n",
      "|         128|           38|      0|      1|     6|    8862|            6|            2|1990|         0|                0|    6861| 5769|   442|             0|           5|15488.0|        0|\n",
      "|         141|           16|      0|      1|    58|   42248|            5|            4|1997|         1|                0|    3411| 8985|   213|             0|           4|22670.7|        0|\n",
      "+------------+-------------+-------+-------+------+--------+-------------+-------------+----+----------+-----------------+--------+-----+------+--------------+------------+-------+---------+\n",
      "only showing top 5 rows\n",
      "\n"
     ]
    }
   ],
   "source": [
    "# Display initial 5 records\n",
    "train.show(5)"
   ]
  },
  {
   "cell_type": "markdown",
   "id": "7da6c6cb-61d7-4068-85ac-59be92ee916e",
   "metadata": {},
   "source": [
    "For modeling purpose, we need to remove supervising variable to get predictors. "
   ]
  },
  {
   "cell_type": "code",
   "execution_count": 7,
   "id": "74edc9d3-7579-46a8-b637-c557d08d7465",
   "metadata": {},
   "outputs": [
    {
     "name": "stdout",
     "output_type": "stream",
     "text": [
      "+------------+-------------+-------+-------+------+--------+-------------+-------------+----+----------+-----------------+--------+-----+------+--------------+------------+---------+\n",
      "|squareMeters|numberOfRooms|hasYard|hasPool|floors|cityCode|cityPartRange|numPrevOwners|made|isNewBuilt|hasStormProtector|basement|attic|garage|hasStorageRoom|hasGuestRoom|cat_price|\n",
      "+------------+-------------+-------+-------+------+--------+-------------+-------------+----+----------+-----------------+--------+-----+------+--------------+------------+---------+\n",
      "|          89|           33|      0|      0|    72|   61648|            3|            4|1995|         0|                1|    3114| 1258|   264|             1|           9|        0|\n",
      "|         111|           32|      0|      1|    34|   80623|            1|            4|2003|         1|                0|    2239| 2795|   951|             1|           7|        0|\n",
      "|         123|           61|      0|      0|     1|   33633|            9|            1|2011|         0|                1|    9390| 6219|   922|             0|           9|        0|\n",
      "|         128|           38|      0|      1|     6|    8862|            6|            2|1990|         0|                0|    6861| 5769|   442|             0|           5|        0|\n",
      "|         141|           16|      0|      1|    58|   42248|            5|            4|1997|         1|                0|    3411| 8985|   213|             0|           4|        0|\n",
      "+------------+-------------+-------+-------+------+--------+-------------+-------------+----+----------+-----------------+--------+-----+------+--------------+------------+---------+\n",
      "only showing top 5 rows\n",
      "\n"
     ]
    }
   ],
   "source": [
    "# Determine predictor for modeling later\n",
    "X_train=train.drop('price')\n",
    "X_train.show(5)"
   ]
  },
  {
   "cell_type": "markdown",
   "id": "8c32769a-f24d-4ee8-9596-9881eeb0e369",
   "metadata": {},
   "source": [
    "We also need define the supervising variable."
   ]
  },
  {
   "cell_type": "code",
   "execution_count": 270,
   "id": "1e182662-4f38-451c-a96d-648eea0e1283",
   "metadata": {},
   "outputs": [
    {
     "name": "stdout",
     "output_type": "stream",
     "text": [
      "+------------+-------+\n",
      "|squareMeters|  price|\n",
      "+------------+-------+\n",
      "|          89|10313.5|\n",
      "|         111|14431.3|\n",
      "|         123|13229.1|\n",
      "|         128|15488.0|\n",
      "|         141|22670.7|\n",
      "+------------+-------+\n",
      "only showing top 5 rows\n",
      "\n"
     ]
    }
   ],
   "source": [
    "# Determine the reponse variable\n",
    "y_train=train.select('squareMeters','price')\n",
    "y_train.show(5)"
   ]
  },
  {
   "cell_type": "markdown",
   "id": "f2314414-08cc-4402-ae75-0d09bd29a84d",
   "metadata": {},
   "source": [
    "#### This is just for show purpose. As the corr is same, need to delete it in the final version"
   ]
  },
  {
   "cell_type": "code",
   "execution_count": 281,
   "id": "4d87e75e-a0df-4587-a073-9a8ccc239de1",
   "metadata": {},
   "outputs": [
    {
     "name": "stdout",
     "output_type": "stream",
     "text": [
      "+--------------------+\n",
      "|     features_scaled|\n",
      "+--------------------+\n",
      "|           (2,[],[])|\n",
      "|[2.20198178360524...|\n",
      "|[3.40306275648083...|\n",
      "|[3.90351316184566...|\n",
      "|[5.20468421579421...|\n",
      "|[5.40486437794014...|\n",
      "|[5.90531478330497...|\n",
      "|[6.00540486437794...|\n",
      "|[6.30567510759683...|\n",
      "|[6.40576518866980...|\n",
      "|[7.40666599939946...|\n",
      "|[7.40666599939946...|\n",
      "|[8.70783705334801...|\n",
      "|[9.10819737763987...|\n",
      "|[9.80882794515063...|\n",
      "|[0.00107096386748...|\n",
      "|[0.00113101791612...|\n",
      "|[0.00121108998098...|\n",
      "|[0.00122109898909...|\n",
      "|[0.00146131518366...|\n",
      "+--------------------+\n",
      "only showing top 20 rows\n",
      "\n",
      "+--------------------+--------------------+\n",
      "|        split_int[0]|        split_int[1]|\n",
      "+--------------------+--------------------+\n",
      "|                 0.0|                 0.0|\n",
      "|2.201981783605245E-4|4.119259165174079...|\n",
      "|3.403062756480833E-4|2.916633158963900...|\n",
      "|3.903513161845661...|5.176333612655612E-4|\n",
      "|5.204684215794215E-4|0.001236157884207323|\n",
      "|5.404864377940147E-4|6.759894557449086E-4|\n",
      "|5.905314783304974E-4|6.487998243617838E-4|\n",
      "| 6.00540486437794E-4|0.001334432696093...|\n",
      "|6.305675107596837E-4|0.001185089794357...|\n",
      "|6.405765188669803E-4|0.001219001807010...|\n",
      "| 7.40666599939946E-4|7.051998029261906E-4|\n",
      "| 7.40666599939946E-4| 9.47835751858381E-4|\n",
      "|8.707837053348014E-4|8.674572793920792E-4|\n",
      "|9.108197377639876E-4|9.327804188077545E-4|\n",
      "|9.808827945150635E-4|0.001622614778833...|\n",
      "|0.001070963867480...|0.001350968553590...|\n",
      "|0.001131017916124...|0.001798847205645656|\n",
      "|0.001211089980982...|0.001772077723091851|\n",
      "|0.001221098989090...|0.001375027075841...|\n",
      "|0.001461315183665...|0.001834949994336494|\n",
      "+--------------------+--------------------+\n",
      "only showing top 20 rows\n",
      "\n"
     ]
    }
   ],
   "source": [
    "#### Min Max Scaling of Xtrain\n",
    "Xcols=['squareMeters','price']\n",
    "from pyspark.ml.linalg import Vectors\n",
    "from pyspark.ml.feature import SQLTransformer,VectorAssembler,MinMaxScaler\n",
    "from pyspark.ml import Pipeline\n",
    "assembler = VectorAssembler(inputCols=Xcols, outputCol=\"features\")\n",
    "scaler = MinMaxScaler(inputCol=\"features\", outputCol=\"features_scaled\")\n",
    "pipeline = Pipeline(stages=[assembler, scaler])\n",
    "scalerModel = pipeline.fit(train)\n",
    "scaled_train = scalerModel.transform(train)\n",
    "scaled_train=scaled_train.select('features_scaled')\n",
    "scaled_train.show()\n",
    "\n",
    "# Getting all the transfomred featy\n",
    "import pyspark.sql.functions as F\n",
    "from pyspark.sql.types import ArrayType, DoubleType\n",
    "\n",
    "def split_array(col):\n",
    "    def to_list(v):\n",
    "        return v.toArray().tolist()\n",
    "    return F.udf(to_list, ArrayType(DoubleType()))(col)\n",
    "\n",
    "df3 = scaled_train.select(split_array(F.col(\"features_scaled\")).alias(\"split_int\"))\\\n",
    "    .select([F.col(\"split_int\")[i] for i in range(len(Xcols))])\n",
    "df3.show()"
   ]
  },
  {
   "cell_type": "code",
   "execution_count": 282,
   "id": "0c21b1e3-13cc-4466-ba69-751151d5c71f",
   "metadata": {},
   "outputs": [
    {
     "name": "stdout",
     "output_type": "stream",
     "text": [
      "+--------------------+--------------------+\n",
      "|        squareMeters|               price|\n",
      "+--------------------+--------------------+\n",
      "|                 0.0|                 0.0|\n",
      "|2.201981783605245E-4|4.119259165174079...|\n",
      "|3.403062756480833E-4|2.916633158963900...|\n",
      "|3.903513161845661...|5.176333612655612E-4|\n",
      "|5.204684215794215E-4|0.001236157884207323|\n",
      "|5.404864377940147E-4|6.759894557449086E-4|\n",
      "|5.905314783304974E-4|6.487998243617838E-4|\n",
      "| 6.00540486437794E-4|0.001334432696093...|\n",
      "|6.305675107596837E-4|0.001185089794357...|\n",
      "|6.405765188669803E-4|0.001219001807010...|\n",
      "| 7.40666599939946E-4|7.051998029261906E-4|\n",
      "| 7.40666599939946E-4| 9.47835751858381E-4|\n",
      "|8.707837053348014E-4|8.674572793920792E-4|\n",
      "|9.108197377639876E-4|9.327804188077545E-4|\n",
      "|9.808827945150635E-4|0.001622614778833...|\n",
      "|0.001070963867480...|0.001350968553590...|\n",
      "|0.001131017916124...|0.001798847205645656|\n",
      "|0.001211089980982...|0.001772077723091851|\n",
      "|0.001221098989090...|0.001375027075841...|\n",
      "|0.001461315183665...|0.001834949994336494|\n",
      "+--------------------+--------------------+\n",
      "only showing top 20 rows\n",
      "\n"
     ]
    }
   ],
   "source": [
    "#scaled output for squareMeters and price\n",
    "df3=df3.toDF(*Xcols)\n",
    "df3.show()\n"
   ]
  },
  {
   "cell_type": "code",
   "execution_count": 283,
   "id": "4ab95ac6-6488-4627-87c9-d4ab95b2a251",
   "metadata": {},
   "outputs": [
    {
     "name": "stderr",
     "output_type": "stream",
     "text": [
      "C:\\Users\\smipa\\anaconda3\\lib\\site-packages\\pyspark\\sql\\dataframe.py:3313: FutureWarning: DataFrame.to_pandas_on_spark is deprecated. Use DataFrame.pandas_api instead.\n",
      "  warnings.warn(\n",
      "C:\\Users\\smipa\\anaconda3\\lib\\site-packages\\pyspark\\sql\\pandas\\conversion.py:114: UserWarning: toPandas attempted Arrow optimization because 'spark.sql.execution.arrow.pyspark.enabled' is set to true; however, failed by the reason below:\n",
      "  Unsupported type in conversion to Arrow: MatrixUDT()\n",
      "Attempting non-optimization as 'spark.sql.execution.arrow.pyspark.fallback.enabled' is set to true.\n",
      "  warn(msg)\n"
     ]
    },
    {
     "data": {
      "text/html": [
       "<div>\n",
       "<style scoped>\n",
       "    .dataframe tbody tr th:only-of-type {\n",
       "        vertical-align: middle;\n",
       "    }\n",
       "\n",
       "    .dataframe tbody tr th {\n",
       "        vertical-align: top;\n",
       "    }\n",
       "\n",
       "    .dataframe thead th {\n",
       "        text-align: right;\n",
       "    }\n",
       "</style>\n",
       "<table border=\"1\" class=\"dataframe\">\n",
       "  <thead>\n",
       "    <tr style=\"text-align: right;\">\n",
       "      <th></th>\n",
       "      <th>numberOfRooms</th>\n",
       "      <th>hasYard</th>\n",
       "      <th>hasPool</th>\n",
       "      <th>floors</th>\n",
       "      <th>cityCode</th>\n",
       "      <th>cityPartRange</th>\n",
       "      <th>numPrevOwners</th>\n",
       "      <th>made</th>\n",
       "      <th>isNewBuilt</th>\n",
       "      <th>hasStormProtector</th>\n",
       "      <th>basement</th>\n",
       "      <th>attic</th>\n",
       "      <th>garage</th>\n",
       "      <th>hasStorageRoom</th>\n",
       "      <th>hasGuestRoom</th>\n",
       "      <th>cat_price</th>\n",
       "      <th>squareMeters</th>\n",
       "      <th>price</th>\n",
       "    </tr>\n",
       "  </thead>\n",
       "  <tbody>\n",
       "    <tr>\n",
       "      <th>numberOfRooms</th>\n",
       "      <td>1.000000</td>\n",
       "      <td>-0.002026</td>\n",
       "      <td>0.025064</td>\n",
       "      <td>0.025580</td>\n",
       "      <td>0.008786</td>\n",
       "      <td>0.003964</td>\n",
       "      <td>0.022695</td>\n",
       "      <td>0.006171</td>\n",
       "      <td>0.002984</td>\n",
       "      <td>-0.019973</td>\n",
       "      <td>-0.012659</td>\n",
       "      <td>0.017830</td>\n",
       "      <td>0.020140</td>\n",
       "      <td>-0.007714</td>\n",
       "      <td>-0.028996</td>\n",
       "      <td>0.025584</td>\n",
       "      <td>0.018112</td>\n",
       "      <td>0.018139</td>\n",
       "    </tr>\n",
       "    <tr>\n",
       "      <th>hasYard</th>\n",
       "      <td>-0.002026</td>\n",
       "      <td>1.000000</td>\n",
       "      <td>0.022319</td>\n",
       "      <td>0.007221</td>\n",
       "      <td>0.011608</td>\n",
       "      <td>0.000510</td>\n",
       "      <td>0.013940</td>\n",
       "      <td>-0.001031</td>\n",
       "      <td>-0.019186</td>\n",
       "      <td>-0.014477</td>\n",
       "      <td>-0.012269</td>\n",
       "      <td>-0.008550</td>\n",
       "      <td>-0.009474</td>\n",
       "      <td>-0.016018</td>\n",
       "      <td>-0.009306</td>\n",
       "      <td>-0.007448</td>\n",
       "      <td>-0.006920</td>\n",
       "      <td>-0.006379</td>\n",
       "    </tr>\n",
       "    <tr>\n",
       "      <th>hasPool</th>\n",
       "      <td>0.025064</td>\n",
       "      <td>0.022319</td>\n",
       "      <td>1.000000</td>\n",
       "      <td>-0.004498</td>\n",
       "      <td>0.002839</td>\n",
       "      <td>0.010935</td>\n",
       "      <td>-0.011100</td>\n",
       "      <td>0.004553</td>\n",
       "      <td>-0.000551</td>\n",
       "      <td>0.008231</td>\n",
       "      <td>-0.004457</td>\n",
       "      <td>-0.010662</td>\n",
       "      <td>0.003959</td>\n",
       "      <td>0.002272</td>\n",
       "      <td>0.010486</td>\n",
       "      <td>0.003308</td>\n",
       "      <td>-0.007275</td>\n",
       "      <td>-0.006744</td>\n",
       "    </tr>\n",
       "    <tr>\n",
       "      <th>floors</th>\n",
       "      <td>0.025580</td>\n",
       "      <td>0.007221</td>\n",
       "      <td>-0.004498</td>\n",
       "      <td>1.000000</td>\n",
       "      <td>0.003560</td>\n",
       "      <td>0.003539</td>\n",
       "      <td>0.002120</td>\n",
       "      <td>0.008657</td>\n",
       "      <td>0.011376</td>\n",
       "      <td>-0.009689</td>\n",
       "      <td>0.013451</td>\n",
       "      <td>0.007498</td>\n",
       "      <td>0.013224</td>\n",
       "      <td>0.004201</td>\n",
       "      <td>-0.015645</td>\n",
       "      <td>-0.001498</td>\n",
       "      <td>0.001266</td>\n",
       "      <td>0.001813</td>\n",
       "    </tr>\n",
       "    <tr>\n",
       "      <th>cityCode</th>\n",
       "      <td>0.008786</td>\n",
       "      <td>0.011608</td>\n",
       "      <td>0.002839</td>\n",
       "      <td>0.003560</td>\n",
       "      <td>1.000000</td>\n",
       "      <td>0.006340</td>\n",
       "      <td>-0.010801</td>\n",
       "      <td>0.022962</td>\n",
       "      <td>0.002324</td>\n",
       "      <td>0.002648</td>\n",
       "      <td>0.000262</td>\n",
       "      <td>-0.001843</td>\n",
       "      <td>-0.000273</td>\n",
       "      <td>0.002974</td>\n",
       "      <td>-0.000929</td>\n",
       "      <td>-0.007608</td>\n",
       "      <td>0.003348</td>\n",
       "      <td>0.003354</td>\n",
       "    </tr>\n",
       "    <tr>\n",
       "      <th>cityPartRange</th>\n",
       "      <td>0.003964</td>\n",
       "      <td>0.000510</td>\n",
       "      <td>0.010935</td>\n",
       "      <td>0.003539</td>\n",
       "      <td>0.006340</td>\n",
       "      <td>1.000000</td>\n",
       "      <td>0.007545</td>\n",
       "      <td>0.001559</td>\n",
       "      <td>-0.000573</td>\n",
       "      <td>0.011112</td>\n",
       "      <td>0.005079</td>\n",
       "      <td>0.010184</td>\n",
       "      <td>0.006154</td>\n",
       "      <td>-0.011989</td>\n",
       "      <td>-0.007684</td>\n",
       "      <td>0.008556</td>\n",
       "      <td>0.009571</td>\n",
       "      <td>0.009624</td>\n",
       "    </tr>\n",
       "    <tr>\n",
       "      <th>numPrevOwners</th>\n",
       "      <td>0.022695</td>\n",
       "      <td>0.013940</td>\n",
       "      <td>-0.011100</td>\n",
       "      <td>0.002120</td>\n",
       "      <td>-0.010801</td>\n",
       "      <td>0.007545</td>\n",
       "      <td>1.000000</td>\n",
       "      <td>0.002941</td>\n",
       "      <td>-0.019256</td>\n",
       "      <td>0.003950</td>\n",
       "      <td>0.006442</td>\n",
       "      <td>0.002745</td>\n",
       "      <td>0.023401</td>\n",
       "      <td>0.031660</td>\n",
       "      <td>-0.004088</td>\n",
       "      <td>0.022560</td>\n",
       "      <td>0.021107</td>\n",
       "      <td>0.021112</td>\n",
       "    </tr>\n",
       "    <tr>\n",
       "      <th>made</th>\n",
       "      <td>0.006171</td>\n",
       "      <td>-0.001031</td>\n",
       "      <td>0.004553</td>\n",
       "      <td>0.008657</td>\n",
       "      <td>0.022962</td>\n",
       "      <td>0.001559</td>\n",
       "      <td>0.002941</td>\n",
       "      <td>1.000000</td>\n",
       "      <td>-0.005893</td>\n",
       "      <td>-0.005240</td>\n",
       "      <td>-0.008512</td>\n",
       "      <td>0.007095</td>\n",
       "      <td>0.014569</td>\n",
       "      <td>-0.008558</td>\n",
       "      <td>-0.010441</td>\n",
       "      <td>-0.009393</td>\n",
       "      <td>-0.011790</td>\n",
       "      <td>-0.011787</td>\n",
       "    </tr>\n",
       "    <tr>\n",
       "      <th>isNewBuilt</th>\n",
       "      <td>0.002984</td>\n",
       "      <td>-0.019186</td>\n",
       "      <td>-0.000551</td>\n",
       "      <td>0.011376</td>\n",
       "      <td>0.002324</td>\n",
       "      <td>-0.000573</td>\n",
       "      <td>-0.019256</td>\n",
       "      <td>-0.005893</td>\n",
       "      <td>1.000000</td>\n",
       "      <td>-0.000760</td>\n",
       "      <td>-0.012884</td>\n",
       "      <td>0.023872</td>\n",
       "      <td>-0.001470</td>\n",
       "      <td>0.002765</td>\n",
       "      <td>0.026291</td>\n",
       "      <td>-0.016416</td>\n",
       "      <td>-0.017515</td>\n",
       "      <td>-0.017491</td>\n",
       "    </tr>\n",
       "    <tr>\n",
       "      <th>hasStormProtector</th>\n",
       "      <td>-0.019973</td>\n",
       "      <td>-0.014477</td>\n",
       "      <td>0.008231</td>\n",
       "      <td>-0.009689</td>\n",
       "      <td>0.002648</td>\n",
       "      <td>0.011112</td>\n",
       "      <td>0.003950</td>\n",
       "      <td>-0.005240</td>\n",
       "      <td>-0.000760</td>\n",
       "      <td>1.000000</td>\n",
       "      <td>-0.004230</td>\n",
       "      <td>-0.005765</td>\n",
       "      <td>0.004419</td>\n",
       "      <td>-0.007491</td>\n",
       "      <td>-0.007824</td>\n",
       "      <td>0.006699</td>\n",
       "      <td>0.013962</td>\n",
       "      <td>0.013979</td>\n",
       "    </tr>\n",
       "    <tr>\n",
       "      <th>basement</th>\n",
       "      <td>-0.012659</td>\n",
       "      <td>-0.012269</td>\n",
       "      <td>-0.004457</td>\n",
       "      <td>0.013451</td>\n",
       "      <td>0.000262</td>\n",
       "      <td>0.005079</td>\n",
       "      <td>0.006442</td>\n",
       "      <td>-0.008512</td>\n",
       "      <td>-0.012884</td>\n",
       "      <td>-0.004230</td>\n",
       "      <td>1.000000</td>\n",
       "      <td>-0.000446</td>\n",
       "      <td>-0.002108</td>\n",
       "      <td>-0.007846</td>\n",
       "      <td>-0.018859</td>\n",
       "      <td>-0.004974</td>\n",
       "      <td>-0.003347</td>\n",
       "      <td>-0.003346</td>\n",
       "    </tr>\n",
       "    <tr>\n",
       "      <th>attic</th>\n",
       "      <td>0.017830</td>\n",
       "      <td>-0.008550</td>\n",
       "      <td>-0.010662</td>\n",
       "      <td>0.007498</td>\n",
       "      <td>-0.001843</td>\n",
       "      <td>0.010184</td>\n",
       "      <td>0.002745</td>\n",
       "      <td>0.007095</td>\n",
       "      <td>0.023872</td>\n",
       "      <td>-0.005765</td>\n",
       "      <td>-0.000446</td>\n",
       "      <td>1.000000</td>\n",
       "      <td>-0.003615</td>\n",
       "      <td>0.001158</td>\n",
       "      <td>-0.011133</td>\n",
       "      <td>0.006282</td>\n",
       "      <td>0.000494</td>\n",
       "      <td>0.000485</td>\n",
       "    </tr>\n",
       "    <tr>\n",
       "      <th>garage</th>\n",
       "      <td>0.020140</td>\n",
       "      <td>-0.009474</td>\n",
       "      <td>0.003959</td>\n",
       "      <td>0.013224</td>\n",
       "      <td>-0.000273</td>\n",
       "      <td>0.006154</td>\n",
       "      <td>0.023401</td>\n",
       "      <td>0.014569</td>\n",
       "      <td>-0.001470</td>\n",
       "      <td>0.004419</td>\n",
       "      <td>-0.002108</td>\n",
       "      <td>-0.003615</td>\n",
       "      <td>1.000000</td>\n",
       "      <td>0.033620</td>\n",
       "      <td>-0.021503</td>\n",
       "      <td>-0.018365</td>\n",
       "      <td>-0.021376</td>\n",
       "      <td>-0.021359</td>\n",
       "    </tr>\n",
       "    <tr>\n",
       "      <th>hasStorageRoom</th>\n",
       "      <td>-0.007714</td>\n",
       "      <td>-0.016018</td>\n",
       "      <td>0.002272</td>\n",
       "      <td>0.004201</td>\n",
       "      <td>0.002974</td>\n",
       "      <td>-0.011989</td>\n",
       "      <td>0.031660</td>\n",
       "      <td>-0.008558</td>\n",
       "      <td>0.002765</td>\n",
       "      <td>-0.007491</td>\n",
       "      <td>-0.007846</td>\n",
       "      <td>0.001158</td>\n",
       "      <td>0.033620</td>\n",
       "      <td>1.000000</td>\n",
       "      <td>0.016080</td>\n",
       "      <td>-0.005494</td>\n",
       "      <td>0.000758</td>\n",
       "      <td>0.000764</td>\n",
       "    </tr>\n",
       "    <tr>\n",
       "      <th>hasGuestRoom</th>\n",
       "      <td>-0.028996</td>\n",
       "      <td>-0.009306</td>\n",
       "      <td>0.010486</td>\n",
       "      <td>-0.015645</td>\n",
       "      <td>-0.000929</td>\n",
       "      <td>-0.007684</td>\n",
       "      <td>-0.004088</td>\n",
       "      <td>-0.010441</td>\n",
       "      <td>0.026291</td>\n",
       "      <td>-0.007824</td>\n",
       "      <td>-0.018859</td>\n",
       "      <td>-0.011133</td>\n",
       "      <td>-0.021503</td>\n",
       "      <td>0.016080</td>\n",
       "      <td>1.000000</td>\n",
       "      <td>-0.003115</td>\n",
       "      <td>-0.005259</td>\n",
       "      <td>-0.005273</td>\n",
       "    </tr>\n",
       "    <tr>\n",
       "      <th>cat_price</th>\n",
       "      <td>0.025584</td>\n",
       "      <td>-0.007448</td>\n",
       "      <td>0.003308</td>\n",
       "      <td>-0.001498</td>\n",
       "      <td>-0.007608</td>\n",
       "      <td>0.008556</td>\n",
       "      <td>0.022560</td>\n",
       "      <td>-0.009393</td>\n",
       "      <td>-0.016416</td>\n",
       "      <td>0.006699</td>\n",
       "      <td>-0.004974</td>\n",
       "      <td>0.006282</td>\n",
       "      <td>-0.018365</td>\n",
       "      <td>-0.005494</td>\n",
       "      <td>-0.003115</td>\n",
       "      <td>1.000000</td>\n",
       "      <td>0.913687</td>\n",
       "      <td>0.913691</td>\n",
       "    </tr>\n",
       "    <tr>\n",
       "      <th>squareMeters</th>\n",
       "      <td>0.018112</td>\n",
       "      <td>-0.006920</td>\n",
       "      <td>-0.007275</td>\n",
       "      <td>0.001266</td>\n",
       "      <td>0.003348</td>\n",
       "      <td>0.009571</td>\n",
       "      <td>0.021107</td>\n",
       "      <td>-0.011790</td>\n",
       "      <td>-0.017515</td>\n",
       "      <td>0.013962</td>\n",
       "      <td>-0.003347</td>\n",
       "      <td>0.000494</td>\n",
       "      <td>-0.021376</td>\n",
       "      <td>0.000758</td>\n",
       "      <td>-0.005259</td>\n",
       "      <td>0.913687</td>\n",
       "      <td>1.000000</td>\n",
       "      <td>0.999999</td>\n",
       "    </tr>\n",
       "    <tr>\n",
       "      <th>price</th>\n",
       "      <td>0.018139</td>\n",
       "      <td>-0.006379</td>\n",
       "      <td>-0.006744</td>\n",
       "      <td>0.001813</td>\n",
       "      <td>0.003354</td>\n",
       "      <td>0.009624</td>\n",
       "      <td>0.021112</td>\n",
       "      <td>-0.011787</td>\n",
       "      <td>-0.017491</td>\n",
       "      <td>0.013979</td>\n",
       "      <td>-0.003346</td>\n",
       "      <td>0.000485</td>\n",
       "      <td>-0.021359</td>\n",
       "      <td>0.000764</td>\n",
       "      <td>-0.005273</td>\n",
       "      <td>0.913691</td>\n",
       "      <td>0.999999</td>\n",
       "      <td>1.000000</td>\n",
       "    </tr>\n",
       "  </tbody>\n",
       "</table>\n",
       "</div>"
      ],
      "text/plain": [
       "                   numberOfRooms   hasYard   hasPool    floors  cityCode  cityPartRange  numPrevOwners      made  isNewBuilt  hasStormProtector  basement     attic    garage  hasStorageRoom  hasGuestRoom  cat_price  squareMeters     price\n",
       "numberOfRooms           1.000000 -0.002026  0.025064  0.025580  0.008786       0.003964       0.022695  0.006171    0.002984          -0.019973 -0.012659  0.017830  0.020140       -0.007714     -0.028996   0.025584      0.018112  0.018139\n",
       "hasYard                -0.002026  1.000000  0.022319  0.007221  0.011608       0.000510       0.013940 -0.001031   -0.019186          -0.014477 -0.012269 -0.008550 -0.009474       -0.016018     -0.009306  -0.007448     -0.006920 -0.006379\n",
       "hasPool                 0.025064  0.022319  1.000000 -0.004498  0.002839       0.010935      -0.011100  0.004553   -0.000551           0.008231 -0.004457 -0.010662  0.003959        0.002272      0.010486   0.003308     -0.007275 -0.006744\n",
       "floors                  0.025580  0.007221 -0.004498  1.000000  0.003560       0.003539       0.002120  0.008657    0.011376          -0.009689  0.013451  0.007498  0.013224        0.004201     -0.015645  -0.001498      0.001266  0.001813\n",
       "cityCode                0.008786  0.011608  0.002839  0.003560  1.000000       0.006340      -0.010801  0.022962    0.002324           0.002648  0.000262 -0.001843 -0.000273        0.002974     -0.000929  -0.007608      0.003348  0.003354\n",
       "cityPartRange           0.003964  0.000510  0.010935  0.003539  0.006340       1.000000       0.007545  0.001559   -0.000573           0.011112  0.005079  0.010184  0.006154       -0.011989     -0.007684   0.008556      0.009571  0.009624\n",
       "numPrevOwners           0.022695  0.013940 -0.011100  0.002120 -0.010801       0.007545       1.000000  0.002941   -0.019256           0.003950  0.006442  0.002745  0.023401        0.031660     -0.004088   0.022560      0.021107  0.021112\n",
       "made                    0.006171 -0.001031  0.004553  0.008657  0.022962       0.001559       0.002941  1.000000   -0.005893          -0.005240 -0.008512  0.007095  0.014569       -0.008558     -0.010441  -0.009393     -0.011790 -0.011787\n",
       "isNewBuilt              0.002984 -0.019186 -0.000551  0.011376  0.002324      -0.000573      -0.019256 -0.005893    1.000000          -0.000760 -0.012884  0.023872 -0.001470        0.002765      0.026291  -0.016416     -0.017515 -0.017491\n",
       "hasStormProtector      -0.019973 -0.014477  0.008231 -0.009689  0.002648       0.011112       0.003950 -0.005240   -0.000760           1.000000 -0.004230 -0.005765  0.004419       -0.007491     -0.007824   0.006699      0.013962  0.013979\n",
       "basement               -0.012659 -0.012269 -0.004457  0.013451  0.000262       0.005079       0.006442 -0.008512   -0.012884          -0.004230  1.000000 -0.000446 -0.002108       -0.007846     -0.018859  -0.004974     -0.003347 -0.003346\n",
       "attic                   0.017830 -0.008550 -0.010662  0.007498 -0.001843       0.010184       0.002745  0.007095    0.023872          -0.005765 -0.000446  1.000000 -0.003615        0.001158     -0.011133   0.006282      0.000494  0.000485\n",
       "garage                  0.020140 -0.009474  0.003959  0.013224 -0.000273       0.006154       0.023401  0.014569   -0.001470           0.004419 -0.002108 -0.003615  1.000000        0.033620     -0.021503  -0.018365     -0.021376 -0.021359\n",
       "hasStorageRoom         -0.007714 -0.016018  0.002272  0.004201  0.002974      -0.011989       0.031660 -0.008558    0.002765          -0.007491 -0.007846  0.001158  0.033620        1.000000      0.016080  -0.005494      0.000758  0.000764\n",
       "hasGuestRoom           -0.028996 -0.009306  0.010486 -0.015645 -0.000929      -0.007684      -0.004088 -0.010441    0.026291          -0.007824 -0.018859 -0.011133 -0.021503        0.016080      1.000000  -0.003115     -0.005259 -0.005273\n",
       "cat_price               0.025584 -0.007448  0.003308 -0.001498 -0.007608       0.008556       0.022560 -0.009393   -0.016416           0.006699 -0.004974  0.006282 -0.018365       -0.005494     -0.003115   1.000000      0.913687  0.913691\n",
       "squareMeters            0.018112 -0.006920 -0.007275  0.001266  0.003348       0.009571       0.021107 -0.011790   -0.017515           0.013962 -0.003347  0.000494 -0.021376        0.000758     -0.005259   0.913687      1.000000  0.999999\n",
       "price                   0.018139 -0.006379 -0.006744  0.001813  0.003354       0.009624       0.021112 -0.011787   -0.017491           0.013979 -0.003346  0.000485 -0.021359        0.000764     -0.005273   0.913691      0.999999  1.000000"
      ]
     },
     "execution_count": 283,
     "metadata": {},
     "output_type": "execute_result"
    }
   ],
   "source": [
    "##correleation b/w scaled data\n",
    "train_scaled=train.drop('squareMeters','price')\n",
    "train_scaled=train_scaled.to_pandas_on_spark()\n",
    "train_1=df3.to_pandas_on_spark()\n",
    "ps_train_scaled=train_scaled.join(train_1)\n",
    "ps_train_scaled.corr()\n"
   ]
  },
  {
   "cell_type": "code",
   "execution_count": null,
   "id": "277547d1-cbba-4074-94c2-0794bea33ffa",
   "metadata": {},
   "outputs": [],
   "source": []
  },
  {
   "cell_type": "markdown",
   "id": "f9f3cf6b-fe7c-4c70-9333-46a9d7fd0961",
   "metadata": {},
   "source": [
    "## EDA"
   ]
  },
  {
   "cell_type": "markdown",
   "id": "73bf9f9a-5b36-4c89-99fd-1034ee35ba28",
   "metadata": {},
   "source": [
    "#### First, we are interested in seeing if there is relationshipes between the Predictors and the predicted avairable. This starts with quantifying the correlation between the variables.Here the spark dataframe is converted to pandas on spark dataframe and the data is studies using plots and tables. "
   ]
  },
  {
   "cell_type": "code",
   "execution_count": 12,
   "id": "02ba74d6-b402-4d7f-9434-4e6b281bdca8",
   "metadata": {},
   "outputs": [
    {
     "name": "stderr",
     "output_type": "stream",
     "text": [
      "C:\\Users\\smipa\\anaconda3\\lib\\site-packages\\pyspark\\sql\\dataframe.py:3313: FutureWarning: DataFrame.to_pandas_on_spark is deprecated. Use DataFrame.pandas_api instead.\n",
      "  warnings.warn(\n"
     ]
    },
    {
     "data": {
      "text/html": [
       "<div>\n",
       "<style scoped>\n",
       "    .dataframe tbody tr th:only-of-type {\n",
       "        vertical-align: middle;\n",
       "    }\n",
       "\n",
       "    .dataframe tbody tr th {\n",
       "        vertical-align: top;\n",
       "    }\n",
       "\n",
       "    .dataframe thead th {\n",
       "        text-align: right;\n",
       "    }\n",
       "</style>\n",
       "<table border=\"1\" class=\"dataframe\">\n",
       "  <thead>\n",
       "    <tr style=\"text-align: right;\">\n",
       "      <th></th>\n",
       "      <th>squareMeters</th>\n",
       "      <th>numberOfRooms</th>\n",
       "      <th>hasYard</th>\n",
       "      <th>hasPool</th>\n",
       "      <th>floors</th>\n",
       "      <th>cityCode</th>\n",
       "      <th>cityPartRange</th>\n",
       "      <th>numPrevOwners</th>\n",
       "      <th>made</th>\n",
       "      <th>isNewBuilt</th>\n",
       "      <th>hasStormProtector</th>\n",
       "      <th>basement</th>\n",
       "      <th>attic</th>\n",
       "      <th>garage</th>\n",
       "      <th>hasStorageRoom</th>\n",
       "      <th>hasGuestRoom</th>\n",
       "      <th>price</th>\n",
       "      <th>cat_price</th>\n",
       "    </tr>\n",
       "  </thead>\n",
       "  <tbody>\n",
       "    <tr>\n",
       "      <th>0</th>\n",
       "      <td>89</td>\n",
       "      <td>33</td>\n",
       "      <td>0</td>\n",
       "      <td>0</td>\n",
       "      <td>72</td>\n",
       "      <td>61648</td>\n",
       "      <td>3</td>\n",
       "      <td>4</td>\n",
       "      <td>1995</td>\n",
       "      <td>0</td>\n",
       "      <td>1</td>\n",
       "      <td>3114</td>\n",
       "      <td>1258</td>\n",
       "      <td>264</td>\n",
       "      <td>1</td>\n",
       "      <td>9</td>\n",
       "      <td>10313.5</td>\n",
       "      <td>0</td>\n",
       "    </tr>\n",
       "    <tr>\n",
       "      <th>1</th>\n",
       "      <td>111</td>\n",
       "      <td>32</td>\n",
       "      <td>0</td>\n",
       "      <td>1</td>\n",
       "      <td>34</td>\n",
       "      <td>80623</td>\n",
       "      <td>1</td>\n",
       "      <td>4</td>\n",
       "      <td>2003</td>\n",
       "      <td>1</td>\n",
       "      <td>0</td>\n",
       "      <td>2239</td>\n",
       "      <td>2795</td>\n",
       "      <td>951</td>\n",
       "      <td>1</td>\n",
       "      <td>7</td>\n",
       "      <td>14431.3</td>\n",
       "      <td>0</td>\n",
       "    </tr>\n",
       "    <tr>\n",
       "      <th>2</th>\n",
       "      <td>123</td>\n",
       "      <td>61</td>\n",
       "      <td>0</td>\n",
       "      <td>0</td>\n",
       "      <td>1</td>\n",
       "      <td>33633</td>\n",
       "      <td>9</td>\n",
       "      <td>1</td>\n",
       "      <td>2011</td>\n",
       "      <td>0</td>\n",
       "      <td>1</td>\n",
       "      <td>9390</td>\n",
       "      <td>6219</td>\n",
       "      <td>922</td>\n",
       "      <td>0</td>\n",
       "      <td>9</td>\n",
       "      <td>13229.1</td>\n",
       "      <td>0</td>\n",
       "    </tr>\n",
       "    <tr>\n",
       "      <th>3</th>\n",
       "      <td>128</td>\n",
       "      <td>38</td>\n",
       "      <td>0</td>\n",
       "      <td>1</td>\n",
       "      <td>6</td>\n",
       "      <td>8862</td>\n",
       "      <td>6</td>\n",
       "      <td>2</td>\n",
       "      <td>1990</td>\n",
       "      <td>0</td>\n",
       "      <td>0</td>\n",
       "      <td>6861</td>\n",
       "      <td>5769</td>\n",
       "      <td>442</td>\n",
       "      <td>0</td>\n",
       "      <td>5</td>\n",
       "      <td>15488.0</td>\n",
       "      <td>0</td>\n",
       "    </tr>\n",
       "    <tr>\n",
       "      <th>4</th>\n",
       "      <td>141</td>\n",
       "      <td>16</td>\n",
       "      <td>0</td>\n",
       "      <td>1</td>\n",
       "      <td>58</td>\n",
       "      <td>42248</td>\n",
       "      <td>5</td>\n",
       "      <td>4</td>\n",
       "      <td>1997</td>\n",
       "      <td>1</td>\n",
       "      <td>0</td>\n",
       "      <td>3411</td>\n",
       "      <td>8985</td>\n",
       "      <td>213</td>\n",
       "      <td>0</td>\n",
       "      <td>4</td>\n",
       "      <td>22670.7</td>\n",
       "      <td>0</td>\n",
       "    </tr>\n",
       "  </tbody>\n",
       "</table>\n",
       "</div>"
      ],
      "text/plain": [
       "   squareMeters  numberOfRooms  hasYard  hasPool  floors  cityCode  cityPartRange  numPrevOwners  made  isNewBuilt  hasStormProtector  basement  attic  garage  hasStorageRoom  hasGuestRoom    price  cat_price\n",
       "0            89             33        0        0      72     61648              3              4  1995           0                  1      3114   1258     264               1             9  10313.5          0\n",
       "1           111             32        0        1      34     80623              1              4  2003           1                  0      2239   2795     951               1             7  14431.3          0\n",
       "2           123             61        0        0       1     33633              9              1  2011           0                  1      9390   6219     922               0             9  13229.1          0\n",
       "3           128             38        0        1       6      8862              6              2  1990           0                  0      6861   5769     442               0             5  15488.0          0\n",
       "4           141             16        0        1      58     42248              5              4  1997           1                  0      3411   8985     213               0             4  22670.7          0"
      ]
     },
     "execution_count": 268,
     "metadata": {},
     "output_type": "execute_result"
    }
   ],
   "source": [
    "train_ps=train.to_pandas_on_spark()"
   ]
  },
  {
   "cell_type": "markdown",
   "id": "789b4cec-eae0-4ebf-aa19-35655f9da30c",
   "metadata": {},
   "source": [
    "#### Correlation table states that only squareMeters has the strongest linear relationship with price variable. Other variables do not show any significant relationship. As we see there are also many discrete variablles in the data. The relationship may not be strong with a simple correlation step."
   ]
  },
  {
   "cell_type": "code",
   "execution_count": 13,
   "id": "83313cdb-ad78-4d64-8d27-3b6c0f4496a0",
   "metadata": {},
   "outputs": [
    {
     "name": "stderr",
     "output_type": "stream",
     "text": [
      "C:\\Users\\smipa\\anaconda3\\lib\\site-packages\\pyspark\\sql\\pandas\\conversion.py:114: UserWarning: toPandas attempted Arrow optimization because 'spark.sql.execution.arrow.pyspark.enabled' is set to true; however, failed by the reason below:\n",
      "  Unsupported type in conversion to Arrow: MatrixUDT()\n",
      "Attempting non-optimization as 'spark.sql.execution.arrow.pyspark.fallback.enabled' is set to true.\n",
      "  warn(msg)\n"
     ]
    },
    {
     "data": {
      "text/html": [
       "<div>\n",
       "<style scoped>\n",
       "    .dataframe tbody tr th:only-of-type {\n",
       "        vertical-align: middle;\n",
       "    }\n",
       "\n",
       "    .dataframe tbody tr th {\n",
       "        vertical-align: top;\n",
       "    }\n",
       "\n",
       "    .dataframe thead th {\n",
       "        text-align: right;\n",
       "    }\n",
       "</style>\n",
       "<table border=\"1\" class=\"dataframe\">\n",
       "  <thead>\n",
       "    <tr style=\"text-align: right;\">\n",
       "      <th></th>\n",
       "      <th>squareMeters</th>\n",
       "      <th>numberOfRooms</th>\n",
       "      <th>hasYard</th>\n",
       "      <th>hasPool</th>\n",
       "      <th>floors</th>\n",
       "      <th>cityCode</th>\n",
       "      <th>cityPartRange</th>\n",
       "      <th>numPrevOwners</th>\n",
       "      <th>made</th>\n",
       "      <th>isNewBuilt</th>\n",
       "      <th>hasStormProtector</th>\n",
       "      <th>basement</th>\n",
       "      <th>attic</th>\n",
       "      <th>garage</th>\n",
       "      <th>hasStorageRoom</th>\n",
       "      <th>hasGuestRoom</th>\n",
       "      <th>price</th>\n",
       "      <th>cat_price</th>\n",
       "    </tr>\n",
       "  </thead>\n",
       "  <tbody>\n",
       "    <tr>\n",
       "      <th>squareMeters</th>\n",
       "      <td>1.000000</td>\n",
       "      <td>0.018112</td>\n",
       "      <td>-0.006920</td>\n",
       "      <td>-0.007275</td>\n",
       "      <td>0.001266</td>\n",
       "      <td>0.003348</td>\n",
       "      <td>0.009571</td>\n",
       "      <td>0.021107</td>\n",
       "      <td>-0.011790</td>\n",
       "      <td>-0.017515</td>\n",
       "      <td>0.013962</td>\n",
       "      <td>-0.003347</td>\n",
       "      <td>0.000494</td>\n",
       "      <td>-0.021376</td>\n",
       "      <td>0.000758</td>\n",
       "      <td>-0.005259</td>\n",
       "      <td>0.999999</td>\n",
       "      <td>0.913687</td>\n",
       "    </tr>\n",
       "    <tr>\n",
       "      <th>numberOfRooms</th>\n",
       "      <td>0.018112</td>\n",
       "      <td>1.000000</td>\n",
       "      <td>-0.002026</td>\n",
       "      <td>0.025064</td>\n",
       "      <td>0.025580</td>\n",
       "      <td>0.008786</td>\n",
       "      <td>0.003964</td>\n",
       "      <td>0.022695</td>\n",
       "      <td>0.006171</td>\n",
       "      <td>0.002984</td>\n",
       "      <td>-0.019973</td>\n",
       "      <td>-0.012659</td>\n",
       "      <td>0.017830</td>\n",
       "      <td>0.020140</td>\n",
       "      <td>-0.007714</td>\n",
       "      <td>-0.028996</td>\n",
       "      <td>0.018139</td>\n",
       "      <td>0.025584</td>\n",
       "    </tr>\n",
       "    <tr>\n",
       "      <th>hasYard</th>\n",
       "      <td>-0.006920</td>\n",
       "      <td>-0.002026</td>\n",
       "      <td>1.000000</td>\n",
       "      <td>0.022319</td>\n",
       "      <td>0.007221</td>\n",
       "      <td>0.011608</td>\n",
       "      <td>0.000510</td>\n",
       "      <td>0.013940</td>\n",
       "      <td>-0.001031</td>\n",
       "      <td>-0.019186</td>\n",
       "      <td>-0.014477</td>\n",
       "      <td>-0.012269</td>\n",
       "      <td>-0.008550</td>\n",
       "      <td>-0.009474</td>\n",
       "      <td>-0.016018</td>\n",
       "      <td>-0.009306</td>\n",
       "      <td>-0.006379</td>\n",
       "      <td>-0.007448</td>\n",
       "    </tr>\n",
       "    <tr>\n",
       "      <th>hasPool</th>\n",
       "      <td>-0.007275</td>\n",
       "      <td>0.025064</td>\n",
       "      <td>0.022319</td>\n",
       "      <td>1.000000</td>\n",
       "      <td>-0.004498</td>\n",
       "      <td>0.002839</td>\n",
       "      <td>0.010935</td>\n",
       "      <td>-0.011100</td>\n",
       "      <td>0.004553</td>\n",
       "      <td>-0.000551</td>\n",
       "      <td>0.008231</td>\n",
       "      <td>-0.004457</td>\n",
       "      <td>-0.010662</td>\n",
       "      <td>0.003959</td>\n",
       "      <td>0.002272</td>\n",
       "      <td>0.010486</td>\n",
       "      <td>-0.006744</td>\n",
       "      <td>0.003308</td>\n",
       "    </tr>\n",
       "    <tr>\n",
       "      <th>floors</th>\n",
       "      <td>0.001266</td>\n",
       "      <td>0.025580</td>\n",
       "      <td>0.007221</td>\n",
       "      <td>-0.004498</td>\n",
       "      <td>1.000000</td>\n",
       "      <td>0.003560</td>\n",
       "      <td>0.003539</td>\n",
       "      <td>0.002120</td>\n",
       "      <td>0.008657</td>\n",
       "      <td>0.011376</td>\n",
       "      <td>-0.009689</td>\n",
       "      <td>0.013451</td>\n",
       "      <td>0.007498</td>\n",
       "      <td>0.013224</td>\n",
       "      <td>0.004201</td>\n",
       "      <td>-0.015645</td>\n",
       "      <td>0.001813</td>\n",
       "      <td>-0.001498</td>\n",
       "    </tr>\n",
       "    <tr>\n",
       "      <th>cityCode</th>\n",
       "      <td>0.003348</td>\n",
       "      <td>0.008786</td>\n",
       "      <td>0.011608</td>\n",
       "      <td>0.002839</td>\n",
       "      <td>0.003560</td>\n",
       "      <td>1.000000</td>\n",
       "      <td>0.006340</td>\n",
       "      <td>-0.010801</td>\n",
       "      <td>0.022962</td>\n",
       "      <td>0.002324</td>\n",
       "      <td>0.002648</td>\n",
       "      <td>0.000262</td>\n",
       "      <td>-0.001843</td>\n",
       "      <td>-0.000273</td>\n",
       "      <td>0.002974</td>\n",
       "      <td>-0.000929</td>\n",
       "      <td>0.003354</td>\n",
       "      <td>-0.007608</td>\n",
       "    </tr>\n",
       "    <tr>\n",
       "      <th>cityPartRange</th>\n",
       "      <td>0.009571</td>\n",
       "      <td>0.003964</td>\n",
       "      <td>0.000510</td>\n",
       "      <td>0.010935</td>\n",
       "      <td>0.003539</td>\n",
       "      <td>0.006340</td>\n",
       "      <td>1.000000</td>\n",
       "      <td>0.007545</td>\n",
       "      <td>0.001559</td>\n",
       "      <td>-0.000573</td>\n",
       "      <td>0.011112</td>\n",
       "      <td>0.005079</td>\n",
       "      <td>0.010184</td>\n",
       "      <td>0.006154</td>\n",
       "      <td>-0.011989</td>\n",
       "      <td>-0.007684</td>\n",
       "      <td>0.009624</td>\n",
       "      <td>0.008556</td>\n",
       "    </tr>\n",
       "    <tr>\n",
       "      <th>numPrevOwners</th>\n",
       "      <td>0.021107</td>\n",
       "      <td>0.022695</td>\n",
       "      <td>0.013940</td>\n",
       "      <td>-0.011100</td>\n",
       "      <td>0.002120</td>\n",
       "      <td>-0.010801</td>\n",
       "      <td>0.007545</td>\n",
       "      <td>1.000000</td>\n",
       "      <td>0.002941</td>\n",
       "      <td>-0.019256</td>\n",
       "      <td>0.003950</td>\n",
       "      <td>0.006442</td>\n",
       "      <td>0.002745</td>\n",
       "      <td>0.023401</td>\n",
       "      <td>0.031660</td>\n",
       "      <td>-0.004088</td>\n",
       "      <td>0.021112</td>\n",
       "      <td>0.022560</td>\n",
       "    </tr>\n",
       "    <tr>\n",
       "      <th>made</th>\n",
       "      <td>-0.011790</td>\n",
       "      <td>0.006171</td>\n",
       "      <td>-0.001031</td>\n",
       "      <td>0.004553</td>\n",
       "      <td>0.008657</td>\n",
       "      <td>0.022962</td>\n",
       "      <td>0.001559</td>\n",
       "      <td>0.002941</td>\n",
       "      <td>1.000000</td>\n",
       "      <td>-0.005893</td>\n",
       "      <td>-0.005240</td>\n",
       "      <td>-0.008512</td>\n",
       "      <td>0.007095</td>\n",
       "      <td>0.014569</td>\n",
       "      <td>-0.008558</td>\n",
       "      <td>-0.010441</td>\n",
       "      <td>-0.011787</td>\n",
       "      <td>-0.009393</td>\n",
       "    </tr>\n",
       "    <tr>\n",
       "      <th>isNewBuilt</th>\n",
       "      <td>-0.017515</td>\n",
       "      <td>0.002984</td>\n",
       "      <td>-0.019186</td>\n",
       "      <td>-0.000551</td>\n",
       "      <td>0.011376</td>\n",
       "      <td>0.002324</td>\n",
       "      <td>-0.000573</td>\n",
       "      <td>-0.019256</td>\n",
       "      <td>-0.005893</td>\n",
       "      <td>1.000000</td>\n",
       "      <td>-0.000760</td>\n",
       "      <td>-0.012884</td>\n",
       "      <td>0.023872</td>\n",
       "      <td>-0.001470</td>\n",
       "      <td>0.002765</td>\n",
       "      <td>0.026291</td>\n",
       "      <td>-0.017491</td>\n",
       "      <td>-0.016416</td>\n",
       "    </tr>\n",
       "    <tr>\n",
       "      <th>hasStormProtector</th>\n",
       "      <td>0.013962</td>\n",
       "      <td>-0.019973</td>\n",
       "      <td>-0.014477</td>\n",
       "      <td>0.008231</td>\n",
       "      <td>-0.009689</td>\n",
       "      <td>0.002648</td>\n",
       "      <td>0.011112</td>\n",
       "      <td>0.003950</td>\n",
       "      <td>-0.005240</td>\n",
       "      <td>-0.000760</td>\n",
       "      <td>1.000000</td>\n",
       "      <td>-0.004230</td>\n",
       "      <td>-0.005765</td>\n",
       "      <td>0.004419</td>\n",
       "      <td>-0.007491</td>\n",
       "      <td>-0.007824</td>\n",
       "      <td>0.013979</td>\n",
       "      <td>0.006699</td>\n",
       "    </tr>\n",
       "    <tr>\n",
       "      <th>basement</th>\n",
       "      <td>-0.003347</td>\n",
       "      <td>-0.012659</td>\n",
       "      <td>-0.012269</td>\n",
       "      <td>-0.004457</td>\n",
       "      <td>0.013451</td>\n",
       "      <td>0.000262</td>\n",
       "      <td>0.005079</td>\n",
       "      <td>0.006442</td>\n",
       "      <td>-0.008512</td>\n",
       "      <td>-0.012884</td>\n",
       "      <td>-0.004230</td>\n",
       "      <td>1.000000</td>\n",
       "      <td>-0.000446</td>\n",
       "      <td>-0.002108</td>\n",
       "      <td>-0.007846</td>\n",
       "      <td>-0.018859</td>\n",
       "      <td>-0.003346</td>\n",
       "      <td>-0.004974</td>\n",
       "    </tr>\n",
       "    <tr>\n",
       "      <th>attic</th>\n",
       "      <td>0.000494</td>\n",
       "      <td>0.017830</td>\n",
       "      <td>-0.008550</td>\n",
       "      <td>-0.010662</td>\n",
       "      <td>0.007498</td>\n",
       "      <td>-0.001843</td>\n",
       "      <td>0.010184</td>\n",
       "      <td>0.002745</td>\n",
       "      <td>0.007095</td>\n",
       "      <td>0.023872</td>\n",
       "      <td>-0.005765</td>\n",
       "      <td>-0.000446</td>\n",
       "      <td>1.000000</td>\n",
       "      <td>-0.003615</td>\n",
       "      <td>0.001158</td>\n",
       "      <td>-0.011133</td>\n",
       "      <td>0.000485</td>\n",
       "      <td>0.006282</td>\n",
       "    </tr>\n",
       "    <tr>\n",
       "      <th>garage</th>\n",
       "      <td>-0.021376</td>\n",
       "      <td>0.020140</td>\n",
       "      <td>-0.009474</td>\n",
       "      <td>0.003959</td>\n",
       "      <td>0.013224</td>\n",
       "      <td>-0.000273</td>\n",
       "      <td>0.006154</td>\n",
       "      <td>0.023401</td>\n",
       "      <td>0.014569</td>\n",
       "      <td>-0.001470</td>\n",
       "      <td>0.004419</td>\n",
       "      <td>-0.002108</td>\n",
       "      <td>-0.003615</td>\n",
       "      <td>1.000000</td>\n",
       "      <td>0.033620</td>\n",
       "      <td>-0.021503</td>\n",
       "      <td>-0.021359</td>\n",
       "      <td>-0.018365</td>\n",
       "    </tr>\n",
       "    <tr>\n",
       "      <th>hasStorageRoom</th>\n",
       "      <td>0.000758</td>\n",
       "      <td>-0.007714</td>\n",
       "      <td>-0.016018</td>\n",
       "      <td>0.002272</td>\n",
       "      <td>0.004201</td>\n",
       "      <td>0.002974</td>\n",
       "      <td>-0.011989</td>\n",
       "      <td>0.031660</td>\n",
       "      <td>-0.008558</td>\n",
       "      <td>0.002765</td>\n",
       "      <td>-0.007491</td>\n",
       "      <td>-0.007846</td>\n",
       "      <td>0.001158</td>\n",
       "      <td>0.033620</td>\n",
       "      <td>1.000000</td>\n",
       "      <td>0.016080</td>\n",
       "      <td>0.000764</td>\n",
       "      <td>-0.005494</td>\n",
       "    </tr>\n",
       "    <tr>\n",
       "      <th>hasGuestRoom</th>\n",
       "      <td>-0.005259</td>\n",
       "      <td>-0.028996</td>\n",
       "      <td>-0.009306</td>\n",
       "      <td>0.010486</td>\n",
       "      <td>-0.015645</td>\n",
       "      <td>-0.000929</td>\n",
       "      <td>-0.007684</td>\n",
       "      <td>-0.004088</td>\n",
       "      <td>-0.010441</td>\n",
       "      <td>0.026291</td>\n",
       "      <td>-0.007824</td>\n",
       "      <td>-0.018859</td>\n",
       "      <td>-0.011133</td>\n",
       "      <td>-0.021503</td>\n",
       "      <td>0.016080</td>\n",
       "      <td>1.000000</td>\n",
       "      <td>-0.005273</td>\n",
       "      <td>-0.003115</td>\n",
       "    </tr>\n",
       "    <tr>\n",
       "      <th>price</th>\n",
       "      <td>0.999999</td>\n",
       "      <td>0.018139</td>\n",
       "      <td>-0.006379</td>\n",
       "      <td>-0.006744</td>\n",
       "      <td>0.001813</td>\n",
       "      <td>0.003354</td>\n",
       "      <td>0.009624</td>\n",
       "      <td>0.021112</td>\n",
       "      <td>-0.011787</td>\n",
       "      <td>-0.017491</td>\n",
       "      <td>0.013979</td>\n",
       "      <td>-0.003346</td>\n",
       "      <td>0.000485</td>\n",
       "      <td>-0.021359</td>\n",
       "      <td>0.000764</td>\n",
       "      <td>-0.005273</td>\n",
       "      <td>1.000000</td>\n",
       "      <td>0.913691</td>\n",
       "    </tr>\n",
       "    <tr>\n",
       "      <th>cat_price</th>\n",
       "      <td>0.913687</td>\n",
       "      <td>0.025584</td>\n",
       "      <td>-0.007448</td>\n",
       "      <td>0.003308</td>\n",
       "      <td>-0.001498</td>\n",
       "      <td>-0.007608</td>\n",
       "      <td>0.008556</td>\n",
       "      <td>0.022560</td>\n",
       "      <td>-0.009393</td>\n",
       "      <td>-0.016416</td>\n",
       "      <td>0.006699</td>\n",
       "      <td>-0.004974</td>\n",
       "      <td>0.006282</td>\n",
       "      <td>-0.018365</td>\n",
       "      <td>-0.005494</td>\n",
       "      <td>-0.003115</td>\n",
       "      <td>0.913691</td>\n",
       "      <td>1.000000</td>\n",
       "    </tr>\n",
       "  </tbody>\n",
       "</table>\n",
       "</div>"
      ],
      "text/plain": [
       "                   squareMeters  numberOfRooms   hasYard   hasPool    floors  cityCode  cityPartRange  numPrevOwners      made  isNewBuilt  hasStormProtector  basement     attic    garage  hasStorageRoom  hasGuestRoom     price  cat_price\n",
       "squareMeters           1.000000       0.018112 -0.006920 -0.007275  0.001266  0.003348       0.009571       0.021107 -0.011790   -0.017515           0.013962 -0.003347  0.000494 -0.021376        0.000758     -0.005259  0.999999   0.913687\n",
       "numberOfRooms          0.018112       1.000000 -0.002026  0.025064  0.025580  0.008786       0.003964       0.022695  0.006171    0.002984          -0.019973 -0.012659  0.017830  0.020140       -0.007714     -0.028996  0.018139   0.025584\n",
       "hasYard               -0.006920      -0.002026  1.000000  0.022319  0.007221  0.011608       0.000510       0.013940 -0.001031   -0.019186          -0.014477 -0.012269 -0.008550 -0.009474       -0.016018     -0.009306 -0.006379  -0.007448\n",
       "hasPool               -0.007275       0.025064  0.022319  1.000000 -0.004498  0.002839       0.010935      -0.011100  0.004553   -0.000551           0.008231 -0.004457 -0.010662  0.003959        0.002272      0.010486 -0.006744   0.003308\n",
       "floors                 0.001266       0.025580  0.007221 -0.004498  1.000000  0.003560       0.003539       0.002120  0.008657    0.011376          -0.009689  0.013451  0.007498  0.013224        0.004201     -0.015645  0.001813  -0.001498\n",
       "cityCode               0.003348       0.008786  0.011608  0.002839  0.003560  1.000000       0.006340      -0.010801  0.022962    0.002324           0.002648  0.000262 -0.001843 -0.000273        0.002974     -0.000929  0.003354  -0.007608\n",
       "cityPartRange          0.009571       0.003964  0.000510  0.010935  0.003539  0.006340       1.000000       0.007545  0.001559   -0.000573           0.011112  0.005079  0.010184  0.006154       -0.011989     -0.007684  0.009624   0.008556\n",
       "numPrevOwners          0.021107       0.022695  0.013940 -0.011100  0.002120 -0.010801       0.007545       1.000000  0.002941   -0.019256           0.003950  0.006442  0.002745  0.023401        0.031660     -0.004088  0.021112   0.022560\n",
       "made                  -0.011790       0.006171 -0.001031  0.004553  0.008657  0.022962       0.001559       0.002941  1.000000   -0.005893          -0.005240 -0.008512  0.007095  0.014569       -0.008558     -0.010441 -0.011787  -0.009393\n",
       "isNewBuilt            -0.017515       0.002984 -0.019186 -0.000551  0.011376  0.002324      -0.000573      -0.019256 -0.005893    1.000000          -0.000760 -0.012884  0.023872 -0.001470        0.002765      0.026291 -0.017491  -0.016416\n",
       "hasStormProtector      0.013962      -0.019973 -0.014477  0.008231 -0.009689  0.002648       0.011112       0.003950 -0.005240   -0.000760           1.000000 -0.004230 -0.005765  0.004419       -0.007491     -0.007824  0.013979   0.006699\n",
       "basement              -0.003347      -0.012659 -0.012269 -0.004457  0.013451  0.000262       0.005079       0.006442 -0.008512   -0.012884          -0.004230  1.000000 -0.000446 -0.002108       -0.007846     -0.018859 -0.003346  -0.004974\n",
       "attic                  0.000494       0.017830 -0.008550 -0.010662  0.007498 -0.001843       0.010184       0.002745  0.007095    0.023872          -0.005765 -0.000446  1.000000 -0.003615        0.001158     -0.011133  0.000485   0.006282\n",
       "garage                -0.021376       0.020140 -0.009474  0.003959  0.013224 -0.000273       0.006154       0.023401  0.014569   -0.001470           0.004419 -0.002108 -0.003615  1.000000        0.033620     -0.021503 -0.021359  -0.018365\n",
       "hasStorageRoom         0.000758      -0.007714 -0.016018  0.002272  0.004201  0.002974      -0.011989       0.031660 -0.008558    0.002765          -0.007491 -0.007846  0.001158  0.033620        1.000000      0.016080  0.000764  -0.005494\n",
       "hasGuestRoom          -0.005259      -0.028996 -0.009306  0.010486 -0.015645 -0.000929      -0.007684      -0.004088 -0.010441    0.026291          -0.007824 -0.018859 -0.011133 -0.021503        0.016080      1.000000 -0.005273  -0.003115\n",
       "price                  0.999999       0.018139 -0.006379 -0.006744  0.001813  0.003354       0.009624       0.021112 -0.011787   -0.017491           0.013979 -0.003346  0.000485 -0.021359        0.000764     -0.005273  1.000000   0.913691\n",
       "cat_price              0.913687       0.025584 -0.007448  0.003308 -0.001498 -0.007608       0.008556       0.022560 -0.009393   -0.016416           0.006699 -0.004974  0.006282 -0.018365       -0.005494     -0.003115  0.913691   1.000000"
      ]
     },
     "execution_count": 265,
     "metadata": {},
     "output_type": "execute_result"
    }
   ],
   "source": [
    "train_ps.corr()"
   ]
  },
  {
   "cell_type": "code",
   "execution_count": 14,
   "id": "edeabad3-0c35-4a29-b242-825afba36c58",
   "metadata": {},
   "outputs": [
    {
     "data": {
      "text/html": [
       "<div>\n",
       "<style scoped>\n",
       "    .dataframe tbody tr th:only-of-type {\n",
       "        vertical-align: middle;\n",
       "    }\n",
       "\n",
       "    .dataframe tbody tr th {\n",
       "        vertical-align: top;\n",
       "    }\n",
       "\n",
       "    .dataframe thead th {\n",
       "        text-align: right;\n",
       "    }\n",
       "</style>\n",
       "<table border=\"1\" class=\"dataframe\">\n",
       "  <thead>\n",
       "    <tr style=\"text-align: right;\">\n",
       "      <th></th>\n",
       "      <th>squareMeters</th>\n",
       "      <th>numberOfRooms</th>\n",
       "      <th>hasYard</th>\n",
       "      <th>hasPool</th>\n",
       "      <th>floors</th>\n",
       "      <th>cityCode</th>\n",
       "      <th>cityPartRange</th>\n",
       "      <th>numPrevOwners</th>\n",
       "      <th>made</th>\n",
       "      <th>isNewBuilt</th>\n",
       "      <th>hasStormProtector</th>\n",
       "      <th>basement</th>\n",
       "      <th>attic</th>\n",
       "      <th>garage</th>\n",
       "      <th>hasStorageRoom</th>\n",
       "      <th>hasGuestRoom</th>\n",
       "      <th>price</th>\n",
       "      <th>cat_price</th>\n",
       "    </tr>\n",
       "  </thead>\n",
       "  <tbody>\n",
       "    <tr>\n",
       "      <th>0</th>\n",
       "      <td>89</td>\n",
       "      <td>33</td>\n",
       "      <td>0</td>\n",
       "      <td>0</td>\n",
       "      <td>72</td>\n",
       "      <td>61648</td>\n",
       "      <td>3</td>\n",
       "      <td>4</td>\n",
       "      <td>1995</td>\n",
       "      <td>0</td>\n",
       "      <td>1</td>\n",
       "      <td>3114</td>\n",
       "      <td>1258</td>\n",
       "      <td>264</td>\n",
       "      <td>1</td>\n",
       "      <td>9</td>\n",
       "      <td>10313.5</td>\n",
       "      <td>0</td>\n",
       "    </tr>\n",
       "    <tr>\n",
       "      <th>1</th>\n",
       "      <td>111</td>\n",
       "      <td>32</td>\n",
       "      <td>0</td>\n",
       "      <td>1</td>\n",
       "      <td>34</td>\n",
       "      <td>80623</td>\n",
       "      <td>1</td>\n",
       "      <td>4</td>\n",
       "      <td>2003</td>\n",
       "      <td>1</td>\n",
       "      <td>0</td>\n",
       "      <td>2239</td>\n",
       "      <td>2795</td>\n",
       "      <td>951</td>\n",
       "      <td>1</td>\n",
       "      <td>7</td>\n",
       "      <td>14431.3</td>\n",
       "      <td>0</td>\n",
       "    </tr>\n",
       "    <tr>\n",
       "      <th>2</th>\n",
       "      <td>123</td>\n",
       "      <td>61</td>\n",
       "      <td>0</td>\n",
       "      <td>0</td>\n",
       "      <td>1</td>\n",
       "      <td>33633</td>\n",
       "      <td>9</td>\n",
       "      <td>1</td>\n",
       "      <td>2011</td>\n",
       "      <td>0</td>\n",
       "      <td>1</td>\n",
       "      <td>9390</td>\n",
       "      <td>6219</td>\n",
       "      <td>922</td>\n",
       "      <td>0</td>\n",
       "      <td>9</td>\n",
       "      <td>13229.1</td>\n",
       "      <td>0</td>\n",
       "    </tr>\n",
       "    <tr>\n",
       "      <th>3</th>\n",
       "      <td>128</td>\n",
       "      <td>38</td>\n",
       "      <td>0</td>\n",
       "      <td>1</td>\n",
       "      <td>6</td>\n",
       "      <td>8862</td>\n",
       "      <td>6</td>\n",
       "      <td>2</td>\n",
       "      <td>1990</td>\n",
       "      <td>0</td>\n",
       "      <td>0</td>\n",
       "      <td>6861</td>\n",
       "      <td>5769</td>\n",
       "      <td>442</td>\n",
       "      <td>0</td>\n",
       "      <td>5</td>\n",
       "      <td>15488.0</td>\n",
       "      <td>0</td>\n",
       "    </tr>\n",
       "    <tr>\n",
       "      <th>4</th>\n",
       "      <td>141</td>\n",
       "      <td>16</td>\n",
       "      <td>0</td>\n",
       "      <td>1</td>\n",
       "      <td>58</td>\n",
       "      <td>42248</td>\n",
       "      <td>5</td>\n",
       "      <td>4</td>\n",
       "      <td>1997</td>\n",
       "      <td>1</td>\n",
       "      <td>0</td>\n",
       "      <td>3411</td>\n",
       "      <td>8985</td>\n",
       "      <td>213</td>\n",
       "      <td>0</td>\n",
       "      <td>4</td>\n",
       "      <td>22670.7</td>\n",
       "      <td>0</td>\n",
       "    </tr>\n",
       "  </tbody>\n",
       "</table>\n",
       "</div>"
      ],
      "text/plain": [
       "   squareMeters  numberOfRooms  hasYard  hasPool  floors  cityCode  cityPartRange  numPrevOwners  made  isNewBuilt  hasStormProtector  basement  attic  garage  hasStorageRoom  hasGuestRoom    price  cat_price\n",
       "0            89             33        0        0      72     61648              3              4  1995           0                  1      3114   1258     264               1             9  10313.5          0\n",
       "1           111             32        0        1      34     80623              1              4  2003           1                  0      2239   2795     951               1             7  14431.3          0\n",
       "2           123             61        0        0       1     33633              9              1  2011           0                  1      9390   6219     922               0             9  13229.1          0\n",
       "3           128             38        0        1       6      8862              6              2  1990           0                  0      6861   5769     442               0             5  15488.0          0\n",
       "4           141             16        0        1      58     42248              5              4  1997           1                  0      3411   8985     213               0             4  22670.7          0"
      ]
     },
     "execution_count": 14,
     "metadata": {},
     "output_type": "execute_result"
    }
   ],
   "source": [
    "#### We are here now taking the categorical datasets and checking relationship between them with a simple contingency table.\n",
    "from pyspark.mllib.stat import Statistics\n",
    "from pyspark.sql import DataFrame\n",
    "train_ps.head(5)\n",
    "\n"
   ]
  },
  {
   "cell_type": "code",
   "execution_count": 15,
   "id": "92cfcf9b-045c-4b1b-8466-36730d0a90df",
   "metadata": {},
   "outputs": [],
   "source": [
    "train_ps.loc[train_ps['cat_price']==0,'price_cat_name']='Low_price'\n",
    "train_ps.loc[train_ps['cat_price']==1,'price_cat_name']='Medium_price'\n",
    "train_ps.loc[train_ps['cat_price']==2,'price_cat_name']='High_price'\n",
    "\n"
   ]
  },
  {
   "cell_type": "code",
   "execution_count": 16,
   "id": "0f2fe866-9c65-4636-9317-127e56a659d4",
   "metadata": {},
   "outputs": [
    {
     "name": "stdout",
     "output_type": "stream",
     "text": [
      "price_cat_name  High_price  Low_price  Medium_price\n",
      "hasYard                                            \n",
      "1                     2016       1033           990\n",
      "0                     1987        973          1005\n",
      "price_cat_name  High_price  Low_price  Medium_price\n",
      "hasPool                                            \n",
      "1                     1980        979          1009\n",
      "0                     2023       1027           986\n",
      "price_cat_name  High_price  Low_price  Medium_price\n",
      "isNewBuilt                                         \n",
      "1                     1953       1015          1010\n",
      "0                     2050        991           985\n",
      "price_cat_name     High_price  Low_price  Medium_price\n",
      "hasStormProtector                                     \n",
      "1                        2011        992           992\n",
      "0                        1992       1014          1003\n",
      "price_cat_name  High_price  Low_price  Medium_price\n",
      "hasStorageRoom                                     \n",
      "1                     1992       1009          1012\n",
      "0                     2011        997           983\n",
      "price_cat_name  High_price  Low_price  Medium_price\n",
      "hasGuestRoom                                       \n",
      "1                      357        186           196\n",
      "6                      358        187           168\n",
      "3                      369        183           187\n",
      "5                      361        168           178\n",
      "9                      364        195           175\n",
      "4                      375        181           164\n",
      "8                      373        171           187\n",
      "7                      368        159           177\n",
      "10                     352        210           185\n",
      "2                      374        176           195\n",
      "0                      352        190           183\n",
      "price_cat_name  High_price  Low_price  Medium_price\n",
      "made                                               \n",
      "1990                   140         63            60\n",
      "2003                   131         64            68\n",
      "2007                   127         52            53\n",
      "2018                   131         72            61\n",
      "2015                   119         56            65\n",
      "2006                   135         48            60\n",
      "2013                   132         80            82\n",
      "1997                   115         70            56\n",
      "1994                   120         65            72\n",
      "2014                   127         74            56\n",
      "2019                   117         81            56\n",
      "2004                   129         66            50\n",
      "1991                   114         69            78\n",
      "1996                   138         60            67\n",
      "1998                   115         69            58\n",
      "2020                   135         66            71\n",
      "2012                   123         64            61\n",
      "2009                   124         58            66\n",
      "2016                   112         63            55\n",
      "1995                   113         60            53\n",
      "2001                   143         60            66\n",
      "1992                   154         66            66\n",
      "2005                   116         64            59\n",
      "2000                   116         60            57\n",
      "2010                   118         61            55\n",
      "2011                   130         61            62\n",
      "2008                   105         60            67\n",
      "2017                   120         56            62\n",
      "1999                   125         52            55\n",
      "2002                   116         52            63\n",
      "2021                   129         54            63\n",
      "1993                   134         60            72\n"
     ]
    }
   ],
   "source": [
    "dis_col=['hasYard','hasPool','isNewBuilt','hasStormProtector','hasStorageRoom','hasGuestRoom','made']\n",
    "for i in dis_col:\n",
    "    table = train_ps.pivot_table(values=i, index=[i],columns='price_cat_name', aggfunc='count',fill_value=0)\n",
    "    print(table)\n"
   ]
  },
  {
   "cell_type": "code",
   "execution_count": 17,
   "id": "62f695b6-0de7-4eaa-a762-48fbd7f37bcd",
   "metadata": {},
   "outputs": [
    {
     "data": {
      "text/plain": [
       "<matplotlib.legend.Legend at 0x2a33f61fb80>"
      ]
     },
     "execution_count": 17,
     "metadata": {},
     "output_type": "execute_result"
    },
    {
     "data": {
      "image/png": "[encoded data removed]",
      "text/plain": [
       "<Figure size 1440x360 with 1 Axes>"
      ]
     },
     "metadata": {
      "needs_background": "light"
     },
     "output_type": "display_data"
    }
   ],
   "source": [
    "from matplotlib.pyplot import figure\n",
    "ps.options.plotting.backend = 'matplotlib'\n",
    "\n",
    "train_ps.pivot_table(values='made', index=['made'],columns='price_cat_name', aggfunc='count',fill_value=0).plot.bar()\n",
    "plt.gcf().set_size_inches(20, 5)\n",
    "plt.legend( bbox_to_anchor=(1, 0.5))\n"
   ]
  },
  {
   "cell_type": "code",
   "execution_count": 18,
   "id": "4635150c-a6ca-4614-aeab-5a5b25d08472",
   "metadata": {},
   "outputs": [
    {
     "data": {
      "text/html": [
       "<div>\n",
       "<style scoped>\n",
       "    .dataframe tbody tr th:only-of-type {\n",
       "        vertical-align: middle;\n",
       "    }\n",
       "\n",
       "    .dataframe tbody tr th {\n",
       "        vertical-align: top;\n",
       "    }\n",
       "\n",
       "    .dataframe thead th {\n",
       "        text-align: right;\n",
       "    }\n",
       "</style>\n",
       "<table border=\"1\" class=\"dataframe\">\n",
       "  <thead>\n",
       "    <tr style=\"text-align: right;\">\n",
       "      <th></th>\n",
       "      <th>squareMeters</th>\n",
       "      <th>numberOfRooms</th>\n",
       "      <th>hasPool</th>\n",
       "      <th>floors</th>\n",
       "      <th>cityCode</th>\n",
       "      <th>cityPartRange</th>\n",
       "      <th>numPrevOwners</th>\n",
       "      <th>made</th>\n",
       "      <th>isNewBuilt</th>\n",
       "      <th>hasStormProtector</th>\n",
       "      <th>basement</th>\n",
       "      <th>attic</th>\n",
       "      <th>garage</th>\n",
       "      <th>hasStorageRoom</th>\n",
       "      <th>hasGuestRoom</th>\n",
       "      <th>price</th>\n",
       "      <th>cat_price</th>\n",
       "    </tr>\n",
       "    <tr>\n",
       "      <th>hasYard</th>\n",
       "      <th></th>\n",
       "      <th></th>\n",
       "      <th></th>\n",
       "      <th></th>\n",
       "      <th></th>\n",
       "      <th></th>\n",
       "      <th></th>\n",
       "      <th></th>\n",
       "      <th></th>\n",
       "      <th></th>\n",
       "      <th></th>\n",
       "      <th></th>\n",
       "      <th></th>\n",
       "      <th></th>\n",
       "      <th></th>\n",
       "      <th></th>\n",
       "      <th></th>\n",
       "    </tr>\n",
       "  </thead>\n",
       "  <tbody>\n",
       "    <tr>\n",
       "      <th>1</th>\n",
       "      <td>50015</td>\n",
       "      <td>51</td>\n",
       "      <td>1</td>\n",
       "      <td>50</td>\n",
       "      <td>51582</td>\n",
       "      <td>5</td>\n",
       "      <td>5</td>\n",
       "      <td>2005</td>\n",
       "      <td>0</td>\n",
       "      <td>0</td>\n",
       "      <td>4992</td>\n",
       "      <td>5026</td>\n",
       "      <td>550</td>\n",
       "      <td>0</td>\n",
       "      <td>5</td>\n",
       "      <td>5010457.9</td>\n",
       "      <td>1</td>\n",
       "    </tr>\n",
       "    <tr>\n",
       "      <th>0</th>\n",
       "      <td>50223</td>\n",
       "      <td>51</td>\n",
       "      <td>0</td>\n",
       "      <td>50</td>\n",
       "      <td>49748</td>\n",
       "      <td>5</td>\n",
       "      <td>5</td>\n",
       "      <td>2005</td>\n",
       "      <td>1</td>\n",
       "      <td>1</td>\n",
       "      <td>5120</td>\n",
       "      <td>5032</td>\n",
       "      <td>560</td>\n",
       "      <td>1</td>\n",
       "      <td>5</td>\n",
       "      <td>5028282.1</td>\n",
       "      <td>2</td>\n",
       "    </tr>\n",
       "  </tbody>\n",
       "</table>\n",
       "</div>"
      ],
      "text/plain": [
       "         squareMeters  numberOfRooms  hasPool  floors  cityCode  cityPartRange  numPrevOwners  made  isNewBuilt  hasStormProtector  basement  attic  garage  hasStorageRoom  hasGuestRoom      price  cat_price\n",
       "hasYard                                                                                                                                                                                                        \n",
       "1               50015             51        1      50     51582              5              5  2005           0                  0      4992   5026     550               0             5  5010457.9          1\n",
       "0               50223             51        0      50     49748              5              5  2005           1                  1      5120   5032     560               1             5  5028282.1          2"
      ]
     },
     "execution_count": 18,
     "metadata": {},
     "output_type": "execute_result"
    }
   ],
   "source": [
    "train_ps.groupby([\"hasYard\"]).median() "
   ]
  },
  {
   "cell_type": "code",
   "execution_count": 19,
   "id": "c39adf90-c3ea-47cf-a847-185df60d4872",
   "metadata": {},
   "outputs": [
    {
     "data": {
      "text/html": [
       "<div>\n",
       "<style scoped>\n",
       "    .dataframe tbody tr th:only-of-type {\n",
       "        vertical-align: middle;\n",
       "    }\n",
       "\n",
       "    .dataframe tbody tr th {\n",
       "        vertical-align: top;\n",
       "    }\n",
       "\n",
       "    .dataframe thead th {\n",
       "        text-align: right;\n",
       "    }\n",
       "</style>\n",
       "<table border=\"1\" class=\"dataframe\">\n",
       "  <thead>\n",
       "    <tr style=\"text-align: right;\">\n",
       "      <th></th>\n",
       "      <th>squareMeters</th>\n",
       "      <th>numberOfRooms</th>\n",
       "      <th>price</th>\n",
       "    </tr>\n",
       "  </thead>\n",
       "  <tbody>\n",
       "    <tr>\n",
       "      <th>count</th>\n",
       "      <td>8004.000000</td>\n",
       "      <td>8004.000000</td>\n",
       "      <td>8.004000e+03</td>\n",
       "    </tr>\n",
       "    <tr>\n",
       "      <th>mean</th>\n",
       "      <td>49933.997626</td>\n",
       "      <td>50.583208</td>\n",
       "      <td>4.999808e+06</td>\n",
       "    </tr>\n",
       "    <tr>\n",
       "      <th>std</th>\n",
       "      <td>28857.052125</td>\n",
       "      <td>28.812682</td>\n",
       "      <td>2.885693e+06</td>\n",
       "    </tr>\n",
       "    <tr>\n",
       "      <th>min</th>\n",
       "      <td>89.000000</td>\n",
       "      <td>1.000000</td>\n",
       "      <td>1.031350e+04</td>\n",
       "    </tr>\n",
       "    <tr>\n",
       "      <th>25%</th>\n",
       "      <td>25004.000000</td>\n",
       "      <td>25.000000</td>\n",
       "      <td>2.508814e+06</td>\n",
       "    </tr>\n",
       "    <tr>\n",
       "      <th>50%</th>\n",
       "      <td>50102.000000</td>\n",
       "      <td>51.000000</td>\n",
       "      <td>5.015730e+06</td>\n",
       "    </tr>\n",
       "    <tr>\n",
       "      <th>75%</th>\n",
       "      <td>74880.000000</td>\n",
       "      <td>75.000000</td>\n",
       "      <td>7.494846e+06</td>\n",
       "    </tr>\n",
       "    <tr>\n",
       "      <th>max</th>\n",
       "      <td>99999.000000</td>\n",
       "      <td>100.000000</td>\n",
       "      <td>1.000677e+07</td>\n",
       "    </tr>\n",
       "  </tbody>\n",
       "</table>\n",
       "</div>"
      ],
      "text/plain": [
       "       squareMeters  numberOfRooms         price\n",
       "count   8004.000000    8004.000000  8.004000e+03\n",
       "mean   49933.997626      50.583208  4.999808e+06\n",
       "std    28857.052125      28.812682  2.885693e+06\n",
       "min       89.000000       1.000000  1.031350e+04\n",
       "25%    25004.000000      25.000000  2.508814e+06\n",
       "50%    50102.000000      51.000000  5.015730e+06\n",
       "75%    74880.000000      75.000000  7.494846e+06\n",
       "max    99999.000000     100.000000  1.000677e+07"
      ]
     },
     "execution_count": 19,
     "metadata": {},
     "output_type": "execute_result"
    }
   ],
   "source": [
    "train_ps[['squareMeters','numberOfRooms','price']].describe() "
   ]
  },
  {
   "cell_type": "code",
   "execution_count": 20,
   "id": "bba7587d-68f6-4b93-a1d4-74b4dd9ddd77",
   "metadata": {},
   "outputs": [
    {
     "data": {
      "text/plain": [
       "<AxesSubplot:xlabel='numberOfRooms', ylabel='price'>"
      ]
     },
     "execution_count": 20,
     "metadata": {},
     "output_type": "execute_result"
    },
    {
     "data": {
      "image/png": "[encoded data removed]",
      "text/plain": [
       "<Figure size 432x288 with 1 Axes>"
      ]
     },
     "metadata": {
      "needs_background": "light"
     },
     "output_type": "display_data"
    },
    {
     "data": {
      "image/png": "[encoded data removed]",
      "text/plain": [
       "<Figure size 432x288 with 1 Axes>"
      ]
     },
     "metadata": {
      "needs_background": "light"
     },
     "output_type": "display_data"
    }
   ],
   "source": [
    "train_ps.plot(kind='scatter',x='squareMeters',y='price')\n",
    "train_ps.plot(kind='scatter',x='numberOfRooms',y='price')"
   ]
  },
  {
   "cell_type": "code",
   "execution_count": 21,
   "id": "54ba965d-977d-4102-b13a-72b7dc0abca0",
   "metadata": {},
   "outputs": [
    {
     "data": {
      "text/plain": [
       "<AxesSubplot:ylabel='Frequency'>"
      ]
     },
     "execution_count": 21,
     "metadata": {},
     "output_type": "execute_result"
    },
    {
     "data": {
      "image/png": "[encoded data removed]",
      "text/plain": [
       "<Figure size 1080x432 with 3 Axes>"
      ]
     },
     "metadata": {
      "needs_background": "light"
     },
     "output_type": "display_data"
    }
   ],
   "source": [
    "fig, axes = plt.subplots(nrows=1, ncols=3, figsize=(15, 6 ))\n",
    "train_ps['price'].hist(ax=axes[0])\n",
    "train_ps['squareMeters'].hist(ax=axes[1])\n",
    "train_ps['hasYard'].hist(ax=axes[2])"
   ]
  },
  {
   "cell_type": "code",
   "execution_count": null,
   "id": "7006f07f-4f2b-4779-b0b8-3af35e5cc202",
   "metadata": {},
   "outputs": [],
   "source": []
  },
  {
   "cell_type": "code",
   "execution_count": null,
   "id": "bd4d56a5-a88f-49c1-9357-0c57c2ad43fc",
   "metadata": {},
   "outputs": [],
   "source": []
  },
  {
   "cell_type": "code",
   "execution_count": 22,
   "id": "2f3d904f-a1e1-43af-9a68-cd5a65739bb9",
   "metadata": {},
   "outputs": [
    {
     "data": {
      "text/plain": [
       "<AxesSubplot:>"
      ]
     },
     "execution_count": 22,
     "metadata": {},
     "output_type": "execute_result"
    },
    {
     "data": {
      "image/png": "[encoded data removed]",
      "text/plain": [
       "<Figure size 1080x432 with 4 Axes>"
      ]
     },
     "metadata": {
      "needs_background": "light"
     },
     "output_type": "display_data"
    }
   ],
   "source": [
    "#train_ps['price'].plot.box(by=train_ps['hasYard'])\n",
    "fig, axes = plt.subplots(nrows=1, ncols=4,figsize=(15, 6 ))\n",
    "train_ps.loc[train_ps['hasYard']==0,'price'].plot.box(ax=axes[0])\n",
    "train_ps.loc[train_ps['hasYard']==1,'price'].plot.box(ax=axes[1])\n",
    "train_ps.loc[train_ps['hasYard']==0,'squareMeters'].plot.box(ax=axes[2])\n",
    "train_ps.loc[train_ps['hasYard']==1,'squareMeters'].plot.box(ax=axes[3])\n"
   ]
  },
  {
   "cell_type": "code",
   "execution_count": null,
   "id": "e9648925-1296-4595-8093-64b688034629",
   "metadata": {},
   "outputs": [],
   "source": []
  },
  {
   "cell_type": "markdown",
   "id": "ae0ec75e-8c2c-4f28-a5ab-da7aa7234b6d",
   "metadata": {},
   "source": [
    "## Modeling"
   ]
  },
  {
   "cell_type": "code",
   "execution_count": 23,
   "id": "0d4b3177-605c-430b-87b1-9ac377ccf5e3",
   "metadata": {},
   "outputs": [],
   "source": [
    "from pyspark.ml.feature import SQLTransformer\n",
    "from pyspark.ml.feature import VectorAssembler\n",
    "from pyspark.ml.classification import LogisticRegression\n",
    "from pyspark.ml.regression import LinearRegression\n",
    "from pyspark.ml import Pipeline\n",
    "from pyspark.ml.tuning import CrossValidator, ParamGridBuilder\n",
    "from pyspark.ml.evaluation import RegressionEvaluator"
   ]
  },
  {
   "cell_type": "code",
   "execution_count": 24,
   "id": "a081a4f5-4e60-4771-9114-482eafc4148f",
   "metadata": {},
   "outputs": [],
   "source": [
    "sqlTrans=SQLTransformer(\n",
    "    statement=\"SELECT  squareMeters, hasYard, numberOfRooms, price as label FROM __THIS__\"\n",
    ")"
   ]
  },
  {
   "cell_type": "code",
   "execution_count": 25,
   "id": "b9f31e29-0d38-42df-8e34-2ff2fea3bd47",
   "metadata": {},
   "outputs": [],
   "source": [
    "assembler=VectorAssembler(inputCols=[\"squareMeters\",\"hasYard\",\"numberOfRooms\"],outputCol=\"features\",handleInvalid='keep')"
   ]
  },
  {
   "cell_type": "code",
   "execution_count": 26,
   "id": "f62950e2-8b93-4197-99ad-61f1cbc81967",
   "metadata": {},
   "outputs": [],
   "source": [
    "lr= LinearRegression()"
   ]
  },
  {
   "cell_type": "code",
   "execution_count": 27,
   "id": "43b656e3-04e6-4b10-891a-e70d6a017cdb",
   "metadata": {},
   "outputs": [],
   "source": [
    "pipeline = Pipeline(stages= [sqlTrans, assembler, lr])"
   ]
  },
  {
   "cell_type": "code",
   "execution_count": 28,
   "id": "d7696b03-9953-4e88-a281-73623d99d738",
   "metadata": {},
   "outputs": [],
   "source": [
    "paramGrid = ParamGridBuilder()\\\n",
    "    .addGrid(lr.regParam, [0])\\\n",
    "    .addGrid(lr.fitIntercept, [False,True])\\\n",
    "    .addGrid(lr.elasticNetParam, [0])\\\n",
    "    .build()"
   ]
  },
  {
   "cell_type": "code",
   "execution_count": 29,
   "id": "4ed5cbe8-e2c5-40ba-82f6-416b37fc2f4d",
   "metadata": {},
   "outputs": [
    {
     "name": "stdout",
     "output_type": "stream",
     "text": [
      "+-------+----------------+\n",
      "|  label|        features|\n",
      "+-------+----------------+\n",
      "|10313.5| [89.0,0.0,33.0]|\n",
      "|14431.3|[111.0,0.0,32.0]|\n",
      "|13229.1|[123.0,0.0,61.0]|\n",
      "|15488.0|[128.0,0.0,38.0]|\n",
      "|22670.7|[141.0,0.0,16.0]|\n",
      "+-------+----------------+\n",
      "only showing top 5 rows\n",
      "\n"
     ]
    }
   ],
   "source": [
    "assembler.transform(\n",
    "    sqlTrans.transform(train)\n",
    ").select(\"label\",\"features\").show(5)"
   ]
  },
  {
   "cell_type": "code",
   "execution_count": 30,
   "id": "f628e439-f191-4b4b-82d4-c8e53d64f3ad",
   "metadata": {},
   "outputs": [],
   "source": [
    "lrmodel=lr.fit(\n",
    "    assembler.transform(\n",
    "        sqlTrans.transform(train)\n",
    "    ).select(\"features\", \"label\")\n",
    ")"
   ]
  },
  {
   "cell_type": "code",
   "execution_count": 31,
   "id": "f6494d5c-2649-4477-aaea-7bf7a0d573cb",
   "metadata": {},
   "outputs": [],
   "source": [
    "trainingSummary=lrmodel.summary"
   ]
  },
  {
   "cell_type": "code",
   "execution_count": 32,
   "id": "3bcffd44-8ea1-4744-9d85-3dfec8c49fc7",
   "metadata": {},
   "outputs": [
    {
     "name": "stdout",
     "output_type": "stream",
     "text": [
      "Coefficients: [99.99985048013832,3121.1887825121776,2.8374788191304043]\n"
     ]
    }
   ],
   "source": [
    "print(\"Coefficients: \" + str(lrmodel.coefficients))"
   ]
  },
  {
   "cell_type": "code",
   "execution_count": 33,
   "id": "43a224b5-f929-4fe9-b731-99186e4c5f88",
   "metadata": {},
   "outputs": [
    {
     "name": "stdout",
     "output_type": "stream",
     "text": [
      "Intercept: 4696.798150003741\n"
     ]
    }
   ],
   "source": [
    "print(\"Intercept: \" + str(lrmodel.intercept))"
   ]
  },
  {
   "cell_type": "code",
   "execution_count": 34,
   "id": "9974b9c1-6902-465c-9fb4-3855bc8fc9b1",
   "metadata": {},
   "outputs": [
    {
     "name": "stdout",
     "output_type": "stream",
     "text": [
      "+-------------------+\n",
      "|          residuals|\n",
      "+-------------------+\n",
      "|-3376.9216437673567|\n",
      "|-1456.2808755112674|\n",
      "| -3940.765967027708|\n",
      "| -2116.603206588403|\n",
      "| 3828.5232711906683|\n",
      "+-------------------+\n",
      "only showing top 5 rows\n",
      "\n",
      "RMSE: 2879.232175\n",
      "r2: 0.999999\n"
     ]
    }
   ],
   "source": [
    "trainingSummary=lrmodel.summary\n",
    "trainingSummary.residuals.show(5)\n",
    "print(\"RMSE: %f\" % trainingSummary.rootMeanSquaredError)\n",
    "print(\"r2: %f\" % trainingSummary.r2)"
   ]
  },
  {
   "cell_type": "code",
   "execution_count": 35,
   "id": "3e425066-a4a3-429e-9b45-385fb555d00c",
   "metadata": {},
   "outputs": [],
   "source": [
    "preds=lrmodel.transform(\n",
    "    assembler.transform(\n",
    "        sqlTrans.transform(train)\n",
    "    ).select(\"label\", \"features\")\n",
    ")\n",
    "     "
   ]
  },
  {
   "cell_type": "code",
   "execution_count": 36,
   "id": "fbee6c84-9447-4b12-be8c-cc75c6e14992",
   "metadata": {},
   "outputs": [
    {
     "name": "stdout",
     "output_type": "stream",
     "text": [
      "+-------+----------------+------------------+\n",
      "|  label|        features|        prediction|\n",
      "+-------+----------------+------------------+\n",
      "|10313.5| [89.0,0.0,33.0]|13690.421643767357|\n",
      "|14431.3|[111.0,0.0,32.0]|15887.580875511267|\n",
      "|13229.1|[123.0,0.0,61.0]| 17169.86596702771|\n",
      "|15488.0|[128.0,0.0,38.0]|17604.603206588403|\n",
      "|22670.7|[141.0,0.0,16.0]|18842.176728809332|\n",
      "+-------+----------------+------------------+\n",
      "only showing top 5 rows\n",
      "\n"
     ]
    }
   ],
   "source": [
    "preds.show(5)"
   ]
  },
  {
   "cell_type": "code",
   "execution_count": 37,
   "id": "17120e5f-6492-4b47-87cb-fcd26276f159",
   "metadata": {},
   "outputs": [],
   "source": [
    "paramGrid = ParamGridBuilder()\\\n",
    "    .addGrid(lr.regParam, [0])\\\n",
    "    .addGrid(lr.fitIntercept, [False,True])\\\n",
    "    .addGrid(lr.elasticNetParam, [0])\\\n",
    "    .build()"
   ]
  },
  {
   "cell_type": "code",
   "execution_count": 38,
   "id": "40d4a2b6-8005-4ea6-a0c3-aa9fd02e1b88",
   "metadata": {},
   "outputs": [],
   "source": [
    "lr=LinearRegression()\n",
    "crossval=CrossValidator(estimator = lr,\n",
    "                         estimatorParamMaps=paramGrid,\n",
    "                         evaluator=RegressionEvaluator(metricName='rmse'),\n",
    "                         numFolds=5)      "
   ]
  },
  {
   "cell_type": "code",
   "execution_count": 39,
   "id": "c37a36a5-356c-4331-b859-f4ebf73c5d62",
   "metadata": {},
   "outputs": [],
   "source": [
    "cvModel=crossval.fit(\n",
    "    assembler.transform(\n",
    "        sqlTrans.transform(train)\n",
    "    ).select(\"label\",\"features\")\n",
    ")"
   ]
  },
  {
   "cell_type": "code",
   "execution_count": 40,
   "id": "517bee12-17d8-42a0-90be-3c5fc5725fd8",
   "metadata": {},
   "outputs": [
    {
     "data": {
      "text/plain": [
       "[(2880.8422413428934,\n",
       "  {Param(parent='LinearRegression_d491d10cc2c7', name='regParam', doc='regularization parameter (>= 0).'): 0.0,\n",
       "   Param(parent='LinearRegression_d491d10cc2c7', name='fitIntercept', doc='whether to fit an intercept term.'): False,\n",
       "   Param(parent='LinearRegression_d491d10cc2c7', name='elasticNetParam', doc='the ElasticNet mixing parameter, in range [0, 1]. For alpha = 0, the penalty is an L2 penalty. For alpha = 1, it is an L1 penalty.'): 0.0}),\n",
       " (2880.8422413428934,\n",
       "  {Param(parent='LinearRegression_d491d10cc2c7', name='regParam', doc='regularization parameter (>= 0).'): 0.0,\n",
       "   Param(parent='LinearRegression_d491d10cc2c7', name='fitIntercept', doc='whether to fit an intercept term.'): True,\n",
       "   Param(parent='LinearRegression_d491d10cc2c7', name='elasticNetParam', doc='the ElasticNet mixing parameter, in range [0, 1]. For alpha = 0, the penalty is an L2 penalty. For alpha = 1, it is an L1 penalty.'): 0.0})]"
      ]
     },
     "execution_count": 40,
     "metadata": {},
     "output_type": "execute_result"
    }
   ],
   "source": [
    "list(zip(cvModel.avgMetrics,paramGrid))"
   ]
  },
  {
   "cell_type": "code",
   "execution_count": 41,
   "id": "4b38195f-bff5-4244-b2ad-44c61aeef76e",
   "metadata": {},
   "outputs": [
    {
     "name": "stdout",
     "output_type": "stream",
     "text": [
      "4696.798150003741 [99.99985048013832,3121.1887825121776,2.8374788191304043]\n"
     ]
    }
   ],
   "source": [
    "print(cvModel.bestModel._java_obj.intercept(), cvModel.bestModel._java_obj.coefficients())"
   ]
  },
  {
   "cell_type": "code",
   "execution_count": 42,
   "id": "008a063d-5d33-4e66-9205-ee09a861760d",
   "metadata": {},
   "outputs": [],
   "source": [
    "preds=cvModel.transform(\n",
    "    assembler.transform(\n",
    "        sqlTrans.transform(train)\n",
    "    ).select(\"label\",\"features\")\n",
    ")"
   ]
  },
  {
   "cell_type": "code",
   "execution_count": 43,
   "id": "cedea7ea-c25b-4a4e-a02a-b727347ade4e",
   "metadata": {},
   "outputs": [
    {
     "name": "stdout",
     "output_type": "stream",
     "text": [
      "+-------+----------------+------------------+\n",
      "|  label|        features|        prediction|\n",
      "+-------+----------------+------------------+\n",
      "|10313.5| [89.0,0.0,33.0]|13690.421643767357|\n",
      "|14431.3|[111.0,0.0,32.0]|15887.580875511267|\n",
      "|13229.1|[123.0,0.0,61.0]| 17169.86596702771|\n",
      "|15488.0|[128.0,0.0,38.0]|17604.603206588403|\n",
      "|22670.7|[141.0,0.0,16.0]|18842.176728809332|\n",
      "+-------+----------------+------------------+\n",
      "only showing top 5 rows\n",
      "\n"
     ]
    }
   ],
   "source": [
    "preds.show(5)"
   ]
  },
  {
   "cell_type": "code",
   "execution_count": 44,
   "id": "7b0092f0-ce65-4247-aeb9-3fbbddd43588",
   "metadata": {},
   "outputs": [
    {
     "data": {
      "text/plain": [
       "2879.2321752353055"
      ]
     },
     "execution_count": 44,
     "metadata": {},
     "output_type": "execute_result"
    }
   ],
   "source": [
    "RegressionEvaluator().evaluate(cvModel.transform(\n",
    "    assembler.transform(\n",
    "        sqlTrans.transform(train)\n",
    "    ).select(\"label\",\"features\")\n",
    "))"
   ]
  },
  {
   "cell_type": "markdown",
   "id": "4cca378b-2665-4ccc-be1c-6a69a77ae2b3",
   "metadata": {},
   "source": [
    "### Linear  Regression with Polynomial fit."
   ]
  },
  {
   "cell_type": "code",
   "execution_count": 394,
   "id": "057e71cb-9c6a-423f-a78e-8c465893ca99",
   "metadata": {},
   "outputs": [],
   "source": [
    "from pyspark.ml.feature import PolynomialExpansion\n",
    "\n",
    "sqlTrans=SQLTransformer(\n",
    "    statement=\"SELECT  squareMeters, hasYard, numberOfRooms, price as label FROM __THIS__\"\n",
    ")\n",
    "\n"
   ]
  },
  {
   "cell_type": "code",
   "execution_count": 395,
   "id": "a2e459dd-8a56-42eb-9775-705c49c5fba6",
   "metadata": {},
   "outputs": [
    {
     "name": "stdout",
     "output_type": "stream",
     "text": [
      "+-------+----------------+\n",
      "|  label|    features_mlr|\n",
      "+-------+----------------+\n",
      "|10313.5| [89.0,0.0,33.0]|\n",
      "|14431.3|[111.0,0.0,32.0]|\n",
      "|13229.1|[123.0,0.0,61.0]|\n",
      "|15488.0|[128.0,0.0,38.0]|\n",
      "|22670.7|[141.0,0.0,16.0]|\n",
      "+-------+----------------+\n",
      "only showing top 5 rows\n",
      "\n"
     ]
    }
   ],
   "source": [
    "assembler=VectorAssembler(inputCols=[\"squareMeters\",\"hasYard\",\"numberOfRooms\"],outputCol=\"features_mlr\",handleInvalid='keep')\n",
    "assembler.transform(sqlTrans.transform(train)).select(\"label\",\"features_mlr\").show(5)"
   ]
  },
  {
   "cell_type": "code",
   "execution_count": 396,
   "id": "b223c778-2c88-473d-a93c-c7014c077266",
   "metadata": {},
   "outputs": [],
   "source": [
    "pe=PolynomialExpansion(inputCol=\"features_mlr\", outputCol=\"polyFeatures\")"
   ]
  },
  {
   "cell_type": "code",
   "execution_count": 397,
   "id": "b484c869-1b4c-4f7b-87ac-e06def2e16be",
   "metadata": {},
   "outputs": [],
   "source": [
    "pp = Pipeline(stages=[sqlTrans,assembler,pe])\n",
    "ex=pp.fit(train)"
   ]
  },
  {
   "cell_type": "code",
   "execution_count": 398,
   "id": "c744c1cc-3a7d-4cad-84ac-4e5d717000da",
   "metadata": {},
   "outputs": [],
   "source": [
    "mlr= LinearRegression(labelCol='label',featuresCol='polyFeatures')\n",
    "evaluator = RegressionEvaluator()"
   ]
  },
  {
   "cell_type": "code",
   "execution_count": 400,
   "id": "ee285da9-caaa-482c-b1a4-7b2b8a28d0ea",
   "metadata": {},
   "outputs": [],
   "source": [
    "ppl_pr = Pipeline(stages = [assembler,ex,mlr])\n",
    "paramGrid = ParamGridBuilder() \\\n",
    "      .addGrid(mlr.regParam,[0.1, 0.01, 0.001, 0.0001]) \\\n",
    "      .addGrid(mlr.fitIntercept, [False,True]) \\\n",
    "      .addGrid(mlr.elasticNetParam, [0,0.5,0.8,1])\\\n",
    "      .build()\n",
    "crossval = CrossValidator(estimator=ppl_pr, estimatorParamMaps=paramGrid, evaluator=evaluator,numFolds= 5)\n",
    "model_mlr =crossval.fit(train)\n",
    "\n"
   ]
  },
  {
   "cell_type": "code",
   "execution_count": 401,
   "id": "9ae0e3b6-7bb5-42a7-8ff8-4b430437a5d6",
   "metadata": {},
   "outputs": [
    {
     "name": "stdout",
     "output_type": "stream",
     "text": [
      "+------------+-------+-------------+--------+-----------------+----------------------------------------------------------+------------------+\n",
      "|squareMeters|hasYard|numberOfRooms|label   |features_mlr     |polyFeatures                                              |prediction        |\n",
      "+------------+-------+-------------+--------+-----------------+----------------------------------------------------------+------------------+\n",
      "|137         |0      |32           |21201.1 |[137.0,0.0,32.0] |[137.0,18769.0,0.0,0.0,0.0,32.0,4384.0,0.0,1024.0]        |18379.6896566469  |\n",
      "|229         |1      |49           |27438.4 |[229.0,1.0,49.0] |[229.0,52441.0,1.0,229.0,1.0,49.0,11221.0,49.0,2401.0]    |30699.03320730316 |\n",
      "|303         |0      |75           |31966.1 |[303.0,0.0,75.0] |[303.0,91809.0,0.0,0.0,0.0,75.0,22725.0,0.0,5625.0]       |35227.363103178235|\n",
      "|371         |1      |29           |45524.8 |[371.0,1.0,29.0] |[371.0,137641.0,1.0,371.0,1.0,29.0,10759.0,29.0,841.0]    |44769.38587870787 |\n",
      "|388         |1      |11           |44847.8 |[388.0,1.0,11.0] |[388.0,150544.0,1.0,388.0,1.0,11.0,4268.0,11.0,121.0]     |46367.31996531612 |\n",
      "|389         |0      |28           |43545.0 |[389.0,0.0,28.0] |[389.0,151321.0,0.0,0.0,0.0,28.0,10892.0,0.0,784.0]       |43562.42496190637 |\n",
      "|460         |0      |62           |47967.6 |[460.0,0.0,62.0] |[460.0,211600.0,0.0,0.0,0.0,62.0,28520.0,0.0,3844.0]      |50844.63582905667 |\n",
      "|465         |1      |54           |52762.9 |[465.0,1.0,54.0] |[465.0,216225.0,1.0,465.0,1.0,54.0,25110.0,54.0,2916.0]   |54335.932312259494|\n",
      "|466         |1      |83           |58180.1 |[466.0,1.0,83.0] |[466.0,217156.0,1.0,466.0,1.0,83.0,38678.0,83.0,6889.0]   |54663.25510928166 |\n",
      "|533         |1      |84           |62166.4 |[533.0,1.0,84.0] |[533.0,284089.0,1.0,533.0,1.0,84.0,44772.0,84.0,7056.0]   |61372.02059801771 |\n",
      "|562         |0      |95           |65326.3 |[562.0,0.0,95.0] |[562.0,315844.0,0.0,0.0,0.0,95.0,53390.0,0.0,9025.0]      |61270.57699339519 |\n",
      "|605         |1      |12           |66663.2 |[605.0,1.0,12.0] |[605.0,366025.0,1.0,605.0,1.0,12.0,7260.0,12.0,144.0]     |68074.5736844937  |\n",
      "|735         |1      |66           |84567.5 |[735.0,1.0,66.0] |[735.0,540225.0,1.0,735.0,1.0,66.0,48510.0,66.0,4356.0]   |81426.82101685778 |\n",
      "|817         |0      |80           |87408.3 |[817.0,0.0,80.0] |[817.0,667489.0,0.0,0.0,0.0,80.0,65360.0,0.0,6400.0]      |86662.60049705081 |\n",
      "|831         |0      |46           |91333.5 |[831.0,0.0,46.0] |[831.0,690561.0,0.0,0.0,0.0,46.0,38226.0,0.0,2116.0]      |87854.42242711975 |\n",
      "|838         |1      |30           |92181.3 |[838.0,1.0,30.0] |[838.0,702244.0,1.0,838.0,1.0,30.0,25140.0,30.0,900.0]    |91479.08792799948 |\n",
      "|925         |1      |94           |104727.8|[925.0,1.0,94.0] |[925.0,855625.0,1.0,925.0,1.0,94.0,86950.0,94.0,8836.0]   |100660.72603335459|\n",
      "|982         |0      |83           |101341.0|[982.0,0.0,83.0] |[982.0,964324.0,0.0,0.0,0.0,83.0,81506.0,0.0,6889.0]      |103183.79425555788|\n",
      "|1054        |1      |53           |108029.8|[1054.0,1.0,53.0]|[1054.0,1110916.0,1.0,1054.0,1.0,53.0,55862.0,53.0,2809.0]|113232.31844096465|\n",
      "|1078        |1      |27           |120493.2|[1078.0,1.0,27.0]|[1078.0,1162084.0,1.0,1078.0,1.0,27.0,29106.0,27.0,729.0] |115462.90465148675|\n",
      "+------------+-------+-------------+--------+-----------------+----------------------------------------------------------+------------------+\n",
      "only showing top 20 rows\n",
      "\n"
     ]
    }
   ],
   "source": [
    "predictions_mlr = model_mlr.transform(test)\n",
    "predictions_mlr.show(truncate=False)"
   ]
  },
  {
   "cell_type": "code",
   "execution_count": 405,
   "id": "37e54bf1-8fa0-46fb-8b17-7887151f05c5",
   "metadata": {},
   "outputs": [
    {
     "name": "stdout",
     "output_type": "stream",
     "text": [
      "+--------+----------------------------------------------------------+\n",
      "|label   |polyFeatures                                              |\n",
      "+--------+----------------------------------------------------------+\n",
      "|21201.1 |[137.0,18769.0,0.0,0.0,0.0,32.0,4384.0,0.0,1024.0]        |\n",
      "|27438.4 |[229.0,52441.0,1.0,229.0,1.0,49.0,11221.0,49.0,2401.0]    |\n",
      "|31966.1 |[303.0,91809.0,0.0,0.0,0.0,75.0,22725.0,0.0,5625.0]       |\n",
      "|45524.8 |[371.0,137641.0,1.0,371.0,1.0,29.0,10759.0,29.0,841.0]    |\n",
      "|44847.8 |[388.0,150544.0,1.0,388.0,1.0,11.0,4268.0,11.0,121.0]     |\n",
      "|43545.0 |[389.0,151321.0,0.0,0.0,0.0,28.0,10892.0,0.0,784.0]       |\n",
      "|47967.6 |[460.0,211600.0,0.0,0.0,0.0,62.0,28520.0,0.0,3844.0]      |\n",
      "|52762.9 |[465.0,216225.0,1.0,465.0,1.0,54.0,25110.0,54.0,2916.0]   |\n",
      "|58180.1 |[466.0,217156.0,1.0,466.0,1.0,83.0,38678.0,83.0,6889.0]   |\n",
      "|62166.4 |[533.0,284089.0,1.0,533.0,1.0,84.0,44772.0,84.0,7056.0]   |\n",
      "|65326.3 |[562.0,315844.0,0.0,0.0,0.0,95.0,53390.0,0.0,9025.0]      |\n",
      "|66663.2 |[605.0,366025.0,1.0,605.0,1.0,12.0,7260.0,12.0,144.0]     |\n",
      "|84567.5 |[735.0,540225.0,1.0,735.0,1.0,66.0,48510.0,66.0,4356.0]   |\n",
      "|87408.3 |[817.0,667489.0,0.0,0.0,0.0,80.0,65360.0,0.0,6400.0]      |\n",
      "|91333.5 |[831.0,690561.0,0.0,0.0,0.0,46.0,38226.0,0.0,2116.0]      |\n",
      "|92181.3 |[838.0,702244.0,1.0,838.0,1.0,30.0,25140.0,30.0,900.0]    |\n",
      "|104727.8|[925.0,855625.0,1.0,925.0,1.0,94.0,86950.0,94.0,8836.0]   |\n",
      "|101341.0|[982.0,964324.0,0.0,0.0,0.0,83.0,81506.0,0.0,6889.0]      |\n",
      "|108029.8|[1054.0,1110916.0,1.0,1054.0,1.0,53.0,55862.0,53.0,2809.0]|\n",
      "|120493.2|[1078.0,1162084.0,1.0,1078.0,1.0,27.0,29106.0,27.0,729.0] |\n",
      "+--------+----------------------------------------------------------+\n",
      "only showing top 20 rows\n",
      "\n"
     ]
    }
   ],
   "source": [
    "from pyspark.mllib.evaluation import MulticlassMetrics\n",
    "\n",
    "pred=predictions_mlr.select(['label', 'polyFeatures']) \n",
    "pred.show(truncate=False)"
   ]
  },
  {
   "cell_type": "code",
   "execution_count": 406,
   "id": "65292b08-b699-4945-94bb-dd08296a36f1",
   "metadata": {},
   "outputs": [
    {
     "name": "stdout",
     "output_type": "stream",
     "text": [
      "VectorAssembler_bc1ceda1ffc7\n",
      "PipelineModel_524c2d91ad1b\n",
      "LinearRegressionModel: uid=LinearRegression_fb2eb9c37a9a, numFeatures=9\n"
     ]
    }
   ],
   "source": [
    "bestModel= model_mlr.bestModel\n",
    "for x in range(len(bestModel.stages)):\n",
    "    print(bestModel.stages[x])"
   ]
  },
  {
   "cell_type": "code",
   "execution_count": 407,
   "id": "d5c858d7-328a-4fbf-b8a3-f82e50eb1b8c",
   "metadata": {},
   "outputs": [
    {
     "name": "stdout",
     "output_type": "stream",
     "text": [
      "+------------+-------------+-------+-------+------+--------+-------------+-------------+----+----------+-----------------+--------+-----+------+--------------+------------+-------+---------+\n",
      "|squareMeters|numberOfRooms|hasYard|hasPool|floors|cityCode|cityPartRange|numPrevOwners|made|isNewBuilt|hasStormProtector|basement|attic|garage|hasStorageRoom|hasGuestRoom|  price|cat_price|\n",
      "+------------+-------------+-------+-------+------+--------+-------------+-------------+----+----------+-----------------+--------+-----+------+--------------+------------+-------+---------+\n",
      "|         137|           32|      0|      1|    47|   40384|            5|            1|2021|         0|                1|    6831| 1323|   242|             0|           9|21201.1|        0|\n",
      "|         229|           49|      1|      0|     6|   72140|            2|            1|2014|         1|                0|    1820|  999|   805|             1|           4|27438.4|        0|\n",
      "|         303|           75|      0|      0|    24|    7493|            4|           10|2021|         1|                1|     782| 9569|   423|             1|           1|31966.1|        0|\n",
      "|         371|           29|      1|      0|    96|   34470|            9|            2|2008|         1|                0|    2383| 6053|   642|             1|           8|45524.8|        0|\n",
      "|         388|           11|      1|      0|    51|   38425|            6|            9|1998|         1|                0|    1071| 4721|   937|             0|           1|44847.8|        0|\n",
      "+------------+-------------+-------+-------+------+--------+-------------+-------------+----+----------+-----------------+--------+-----+------+--------------+------------+-------+---------+\n",
      "only showing top 5 rows\n",
      "\n"
     ]
    }
   ],
   "source": [
    "test.show(5)"
   ]
  },
  {
   "cell_type": "markdown",
   "id": "3584dd9b-a4f7-4985-98a7-413c6db05097",
   "metadata": {},
   "source": [
    "### Random Forest Calssifier. \n",
    "### Here the data is used for a classification problem and 'cat_price'has been considered as the predicted value. We want to know that if the numeric and binary estimators have any imapct on price being in low, medium or high range. If yes , how much is the prediction accuracy. So we modify the variables in train and test data and get the model fit with predictions."
   ]
  },
  {
   "cell_type": "markdown",
   "id": "3dd26e6d-a346-4abe-b387-8e76bf342013",
   "metadata": {},
   "source": [
    "#### Here the packages are imported and price variable is removed for sanity. "
   ]
  },
  {
   "cell_type": "code",
   "execution_count": 261,
   "id": "00ee1f76-c2e3-419d-882c-87f7fdf5fa67",
   "metadata": {},
   "outputs": [
    {
     "name": "stdout",
     "output_type": "stream",
     "text": [
      "+------------+-------------+-------+-------+------+--------+-------------+-------------+----+----------+-----------------+--------+-----+------+--------------+------------+---------+\n",
      "|squareMeters|numberOfRooms|hasYard|hasPool|floors|cityCode|cityPartRange|numPrevOwners|made|isNewBuilt|hasStormProtector|basement|attic|garage|hasStorageRoom|hasGuestRoom|cat_price|\n",
      "+------------+-------------+-------+-------+------+--------+-------------+-------------+----+----------+-----------------+--------+-----+------+--------------+------------+---------+\n",
      "|          89|           33|      0|      0|    72|   61648|            3|            4|1995|         0|                1|    3114| 1258|   264|             1|           9|        0|\n",
      "|         111|           32|      0|      1|    34|   80623|            1|            4|2003|         1|                0|    2239| 2795|   951|             1|           7|        0|\n",
      "|         123|           61|      0|      0|     1|   33633|            9|            1|2011|         0|                1|    9390| 6219|   922|             0|           9|        0|\n",
      "|         128|           38|      0|      1|     6|    8862|            6|            2|1990|         0|                0|    6861| 5769|   442|             0|           5|        0|\n",
      "|         141|           16|      0|      1|    58|   42248|            5|            4|1997|         1|                0|    3411| 8985|   213|             0|           4|        0|\n",
      "+------------+-------------+-------+-------+------+--------+-------------+-------------+----+----------+-----------------+--------+-----+------+--------------+------------+---------+\n",
      "only showing top 5 rows\n",
      "\n"
     ]
    }
   ],
   "source": [
    "\n",
    "from pyspark.ml.tuning import CrossValidator, ParamGridBuilder\n",
    "from pyspark.ml.classification import RandomForestClassifier\n",
    "from pyspark.ml import Pipeline\n",
    "from pyspark.ml.feature import StringIndexer, VectorAssembler\n",
    "from pyspark.ml.evaluation import MulticlassClassificationEvaluator\n",
    "train_rf=train\n",
    "train_rf=train_rf.drop('price')\n",
    "test_rf=test\n",
    "test_rf=test_rf.drop('price')\n",
    "train_rf.na.fill(value=0).show(5)"
   ]
  },
  {
   "cell_type": "code",
   "execution_count": 253,
   "id": "95dedaa1-d994-4918-bac7-8a815a64230e",
   "metadata": {},
   "outputs": [
    {
     "data": {
      "text/plain": [
       "'\\n\\nfrom pyspark.sql.functions import when\\ntrain_rf = train_rf.withColumn(\"cat_price\", when(train_rf.cat_price == 0,\"Low_price\")       .when(train_rf.cat_price == 1,\"Medium_price\")       .when(train_rf.cat_price==2,\\'High_price\\'))\\ntrain_rf.show(5)\\n'"
      ]
     },
     "execution_count": 253,
     "metadata": {},
     "output_type": "execute_result"
    }
   ],
   "source": [
    "'''\n",
    "\n",
    "from pyspark.sql.functions import when\n",
    "train_rf = train_rf.withColumn(\"cat_price\", when(train_rf.cat_price == 0,\"Low_price\") \\\n",
    "      .when(train_rf.cat_price == 1,\"Medium_price\") \\\n",
    "      .when(train_rf.cat_price==2,'High_price'))\n",
    "train_rf.show(5)\n",
    "'''"
   ]
  },
  {
   "cell_type": "code",
   "execution_count": 254,
   "id": "6f7efd90-f324-402c-a968-de01485f0289",
   "metadata": {},
   "outputs": [
    {
     "data": {
      "text/plain": [
       "'\\n\\nfrom pyspark.sql.functions import when\\ntest_rf = test_rf.withColumn(\"cat_price\", when(test.cat_price == 0,\"Low_price\")       .when(test_rf.cat_price == 1,\"Medium_price\")       .when(test_rf.cat_price==2,\\'High_price\\'))\\ntest_rf.show(5)\\n'"
      ]
     },
     "execution_count": 254,
     "metadata": {},
     "output_type": "execute_result"
    }
   ],
   "source": [
    "'''\n",
    "\n",
    "from pyspark.sql.functions import when\n",
    "test_rf = test_rf.withColumn(\"cat_price\", when(test.cat_price == 0,\"Low_price\") \\\n",
    "      .when(test_rf.cat_price == 1,\"Medium_price\") \\\n",
    "      .when(test_rf.cat_price==2,'High_price'))\n",
    "test_rf.show(5)\n",
    "'''"
   ]
  },
  {
   "cell_type": "markdown",
   "id": "296c64b0-53e6-4eae-b9f7-3b82b75db21f",
   "metadata": {},
   "source": [
    "#### The predictor  values used here for Xs are used here are 'squareMeters','numberOfRooms','hasYard','numberOfRooms','hasPool','isNewBuilt','hasStormProtector','hasStorageRoom','hasGuestRoom','made'"
   ]
  },
  {
   "cell_type": "code",
   "execution_count": 255,
   "id": "6dc1da85-8664-404f-8749-4814a1e6b579",
   "metadata": {},
   "outputs": [],
   "source": [
    "cols=['squareMeters','numberOfRooms','hasYard','numberOfRooms','hasPool','isNewBuilt','hasStormProtector','hasStorageRoom','hasGuestRoom','made']\n",
    "sqlTrans=SQLTransformer(statement=\"SELECT squareMeters,numberOfRooms, hasYard, hasPool,isNewBuilt,hasStormProtector,hasStorageRoom,hasGuestRoom,made,cat_price as label FROM __THIS__\")\n"
   ]
  },
  {
   "cell_type": "markdown",
   "id": "c8d5907c-6e39-46c9-9e63-9666821edac0",
   "metadata": {},
   "source": [
    "#### Getting assembler ready to combine inputs into features and output as the label"
   ]
  },
  {
   "cell_type": "code",
   "execution_count": 256,
   "id": "dff7637e-79d7-4db3-a53b-a16f19cf6c91",
   "metadata": {},
   "outputs": [
    {
     "name": "stdout",
     "output_type": "stream",
     "text": [
      "+-----+--------------------+\n",
      "|label|         features_rf|\n",
      "+-----+--------------------+\n",
      "|    0|[89.0,33.0,0.0,33...|\n",
      "|    0|[111.0,32.0,0.0,3...|\n",
      "|    0|[123.0,61.0,0.0,6...|\n",
      "|    0|[128.0,38.0,0.0,3...|\n",
      "|    0|[141.0,16.0,0.0,1...|\n",
      "+-----+--------------------+\n",
      "only showing top 5 rows\n",
      "\n"
     ]
    }
   ],
   "source": [
    "assembler=VectorAssembler(inputCols=cols,outputCol=\"features_rf\",handleInvalid='keep')\n",
    "assembler.transform(sqlTrans.transform(train_rf)).select(\"label\",\"features_rf\").show(5)"
   ]
  },
  {
   "cell_type": "markdown",
   "id": "57deee06-79de-4227-823b-3d7f357baff0",
   "metadata": {},
   "source": [
    "#### Declaring the RandonForestClassfier function here as rf"
   ]
  },
  {
   "cell_type": "code",
   "execution_count": 257,
   "id": "e19f2e2c-0cd2-4da3-9913-a337d1cd369c",
   "metadata": {},
   "outputs": [],
   "source": [
    "#rf1 = RandomForestClassifier(labelCol = \"label\", featuresCol = \"features_rf\")\n",
    "#pca = PCA(inputCol = \"features_rf\", outputCol = \"pca_features_cv\")\n",
    "rf = RandomForestClassifier(labelCol = \"label\", featuresCol = \"features_rf\")\n"
   ]
  },
  {
   "cell_type": "markdown",
   "id": "a9629c5a-1233-437d-a98b-059e0596df64",
   "metadata": {},
   "source": [
    "#### A pipe line has been set with sqlTrans, assembler and rf. The rf uses 2 parameters for optimization in the cross validation. Number of trees and Max Depth of the tress is used here for cross validation. And number of folds in cross validation will be 5. The output of the crossvalidation has been used for model fit."
   ]
  },
  {
   "cell_type": "code",
   "execution_count": 258,
   "id": "105b40b9-a3dc-4f4b-9e3c-6811b88b6580",
   "metadata": {},
   "outputs": [
    {
     "data": {
      "text/plain": [
       "'\\nprediction=model.transform(\\n    assembler.transform(\\n        sqlTrans.transform(train_rf)\\n    ).select(\"label\",\"pca_features_cv\")\\n)\\n'"
      ]
     },
     "execution_count": 258,
     "metadata": {},
     "output_type": "execute_result"
    }
   ],
   "source": [
    "ppl_cv = Pipeline(stages = [sqlTrans,assembler, rf])\n",
    "paramGrid = ParamGridBuilder() \\\n",
    "      .addGrid(rf.numTrees, [3,5,10,15,20]) \\\n",
    "      .addGrid(rf.maxDepth, [2, 5, 10]) \\\n",
    "      .build()\n",
    "crossval = CrossValidator(estimator = ppl_cv,estimatorParamMaps=paramGrid,evaluator=MulticlassClassificationEvaluator(),\n",
    "                          numFolds= 5)\n",
    "model =crossval.fit(train_rf)\n",
    "\n",
    "'''\n",
    "prediction=model.transform(\n",
    "    assembler.transform(\n",
    "        sqlTrans.transform(train_rf)\n",
    "    ).select(\"label\",\"pca_features_cv\")\n",
    ")\n",
    "'''\n"
   ]
  },
  {
   "cell_type": "markdown",
   "id": "b7bade25-f699-49f7-8623-f2b52116c904",
   "metadata": {},
   "source": [
    "#### Predicting price category with test data"
   ]
  },
  {
   "cell_type": "code",
   "execution_count": 259,
   "id": "a2b4b9bc-4a55-45c7-9fef-d555b1a8964d",
   "metadata": {},
   "outputs": [
    {
     "name": "stdout",
     "output_type": "stream",
     "text": [
      "+------------+-------------+-------+-------+----------+-----------------+--------------+------------+----+-----+--------------------+--------------------+--------------------+----------+\n",
      "|squareMeters|numberOfRooms|hasYard|hasPool|isNewBuilt|hasStormProtector|hasStorageRoom|hasGuestRoom|made|label|         features_rf|       rawPrediction|         probability|prediction|\n",
      "+------------+-------------+-------+-------+----------+-----------------+--------------+------------+----+-----+--------------------+--------------------+--------------------+----------+\n",
      "|         137|           32|      0|      1|         0|                1|             0|           9|2021|    0|[137.0,32.0,0.0,3...|[4.02089486927032...|[0.80417897385406...|       0.0|\n",
      "|         229|           49|      1|      0|         1|                0|             1|           4|2014|    0|[229.0,49.0,1.0,4...|[3.76344590265714...|[0.75268918053142...|       0.0|\n",
      "|         303|           75|      0|      0|         1|                1|             1|           1|2021|    0|[303.0,75.0,0.0,7...|[4.28813559322033...|[0.85762711864406...|       0.0|\n",
      "|         371|           29|      1|      0|         1|                0|             1|           8|2008|    0|[371.0,29.0,1.0,2...|[3.23275527568492...|[0.64655105513698...|       0.0|\n",
      "|         388|           11|      1|      0|         1|                0|             0|           1|1998|    0|[388.0,11.0,1.0,1...|[3.79930845789876...|[0.75986169157975...|       0.0|\n",
      "|         389|           28|      0|      1|         1|                0|             0|           9|2000|    0|[389.0,28.0,0.0,2...|[3.47577964693990...|[0.69515592938798...|       0.0|\n",
      "|         460|           62|      0|      0|         1|                1|             1|           4|2016|    0|[460.0,62.0,0.0,6...|[4.50996677740863...|[0.90199335548172...|       0.0|\n",
      "|         465|           54|      1|      0|         0|                1|             1|           0|1999|    0|[465.0,54.0,1.0,5...|[3.78283887978535...|[0.75656777595707...|       0.0|\n",
      "|         466|           83|      1|      1|         1|                1|             1|          10|2001|    0|[466.0,83.0,1.0,8...|[3.74176439155919...|[0.74835287831183...|       0.0|\n",
      "|         533|           84|      1|      0|         0|                1|             1|           6|1994|    0|[533.0,84.0,1.0,8...|[4.02125896446949...|[0.80425179289389...|       0.0|\n",
      "|         562|           95|      0|      1|         1|                0|             0|          10|2003|    0|[562.0,95.0,0.0,9...|[3.46915684107631...|[0.69383136821526...|       0.0|\n",
      "|         605|           12|      1|      0|         1|                1|             1|           1|2012|    0|[605.0,12.0,1.0,1...|[3.48714746695705...|[0.69742949339141...|       0.0|\n",
      "|         735|           66|      1|      1|         0|                0|             1|           4|2015|    0|[735.0,66.0,1.0,6...|[4.56060606060606...|[0.91212121212121...|       0.0|\n",
      "|         817|           80|      0|      1|         1|                0|             1|           3|2003|    0|[817.0,80.0,0.0,8...|[4.00647027391213...|[0.80129405478242...|       0.0|\n",
      "|         831|           46|      0|      0|         1|                0|             1|           4|2015|    0|[831.0,46.0,0.0,4...|[4.50996677740863...|[0.90199335548172...|       0.0|\n",
      "|         838|           30|      1|      1|         1|                1|             0|           6|2003|    0|[838.0,30.0,1.0,3...|[3.73017183821203...|[0.74603436764240...|       0.0|\n",
      "|         925|           94|      1|      0|         0|                1|             0|           4|1998|    0|[925.0,94.0,1.0,9...|[3.78283887978535...|[0.75656777595707...|       0.0|\n",
      "|         982|           83|      0|      0|         0|                0|             0|           1|1990|    0|(10,[0,1,3,8,9],[...|[4.06786090621707...|[0.81357218124341...|       0.0|\n",
      "|        1054|           53|      1|      0|         0|                1|             1|           2|2008|    0|[1054.0,53.0,1.0,...|[3.72134003146557...|[0.74426800629311...|       0.0|\n",
      "|        1078|           27|      1|      1|         1|                1|             1|           0|1992|    0|[1078.0,27.0,1.0,...|[3.98083398083398...|[0.79616679616679...|       0.0|\n",
      "+------------+-------------+-------+-------+----------+-----------------+--------------+------------+----+-----+--------------------+--------------------+--------------------+----------+\n",
      "only showing top 20 rows\n",
      "\n"
     ]
    }
   ],
   "source": [
    "predictions = model.transform(test_rf)\n",
    "predictions.show()"
   ]
  },
  {
   "cell_type": "markdown",
   "id": "1883417b-d596-4aa1-8bf7-d33a2631b22f",
   "metadata": {},
   "source": [
    "#### We have used 3 categories for the price. 0,1 & 2 as \"Low Price\",\"Medium Price\" and \"High Price\" respectively. So order to evaluate its output parameters multiclass evaluator has been used with accuracy as the primary metric to obtain accuracy of the test prediction."
   ]
  },
  {
   "cell_type": "code",
   "execution_count": 260,
   "id": "2d821a06-12fd-4c5e-a6d9-e95f0a6e4be0",
   "metadata": {},
   "outputs": [
    {
     "name": "stdout",
     "output_type": "stream",
     "text": [
      "Random Forest classifier Accuracy: 0.9979959919839679\n"
     ]
    }
   ],
   "source": [
    "\n",
    "multi_evaluator = MulticlassClassificationEvaluator(labelCol = 'label', metricName = 'accuracy')\n",
    "print('Random Forest Classifier Accuracy:', multi_evaluator.evaluate(predictions))"
   ]
  },
  {
   "cell_type": "code",
   "execution_count": 284,
   "id": "a2d82df5-1f5c-445b-8af9-63858e782dbf",
   "metadata": {},
   "outputs": [
    {
     "name": "stdout",
     "output_type": "stream",
     "text": [
      "SQLTransformer_6b95ee7a518a\n",
      "VectorAssembler_7c4e2ad44238\n",
      "RandomForestClassificationModel: uid=RandomForestClassifier_30aa7f262a96, numTrees=5, numClasses=3, numFeatures=10\n"
     ]
    }
   ],
   "source": [
    "bestModel= model.bestModel\n",
    "for x in range(len(bestModel.stages)):\n",
    "    print(bestModel.stages[x])"
   ]
  },
  {
   "cell_type": "code",
   "execution_count": 291,
   "id": "caa0014b-8f89-4df1-8a82-77b85c97fba7",
   "metadata": {},
   "outputs": [
    {
     "name": "stdout",
     "output_type": "stream",
     "text": [
      "+-----+--------------------+\n",
      "|label|         features_rf|\n",
      "+-----+--------------------+\n",
      "|    0|[137.0,32.0,0.0,3...|\n",
      "|    0|[229.0,49.0,1.0,4...|\n",
      "|    0|[303.0,75.0,0.0,7...|\n",
      "|    0|[371.0,29.0,1.0,2...|\n",
      "|    0|[388.0,11.0,1.0,1...|\n",
      "|    0|[389.0,28.0,0.0,2...|\n",
      "|    0|[460.0,62.0,0.0,6...|\n",
      "|    0|[465.0,54.0,1.0,5...|\n",
      "|    0|[466.0,83.0,1.0,8...|\n",
      "|    0|[533.0,84.0,1.0,8...|\n",
      "|    0|[562.0,95.0,0.0,9...|\n",
      "|    0|[605.0,12.0,1.0,1...|\n",
      "|    0|[735.0,66.0,1.0,6...|\n",
      "|    0|[817.0,80.0,0.0,8...|\n",
      "|    0|[831.0,46.0,0.0,4...|\n",
      "|    0|[838.0,30.0,1.0,3...|\n",
      "|    0|[925.0,94.0,1.0,9...|\n",
      "|    0|(10,[0,1,3,8,9],[...|\n",
      "|    0|[1054.0,53.0,1.0,...|\n",
      "|    0|[1078.0,27.0,1.0,...|\n",
      "+-----+--------------------+\n",
      "only showing top 20 rows\n",
      "\n"
     ]
    }
   ],
   "source": [
    "# Confusion Matrix\n",
    "from pyspark.mllib.evaluation import MulticlassMetrics\n",
    "\n",
    "pred=predictions.select(['label', 'features_rf']) \n",
    "pred.show()\n"
   ]
  },
  {
   "cell_type": "code",
   "execution_count": null,
   "id": "4da768ec-7aa1-4dea-b9a9-e3aec6aee11b",
   "metadata": {},
   "outputs": [],
   "source": []
  }
 ],
 "metadata": {
  "kernelspec": {
   "display_name": "Python 3 (ipykernel)",
   "language": "python",
   "name": "python3"
  },
  "language_info": {
   "codemirror_mode": {
    "name": "ipython",
    "version": 3
   },
   "file_extension": ".py",
   "mimetype": "text/x-python",
   "name": "python",
   "nbconvert_exporter": "python",
   "pygments_lexer": "ipython3",
   "version": "3.9.12"
  },
  "toc-autonumbering": false
 },
 "nbformat": 4,
 "nbformat_minor": 5
}
